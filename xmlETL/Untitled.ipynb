{
 "cells": [
  {
   "cell_type": "code",
   "execution_count": 60,
   "metadata": {},
   "outputs": [
    {
     "data": {
      "text/html": [
       "<style>.container { width:100% !important; }</style>"
      ],
      "text/plain": [
       "<IPython.core.display.HTML object>"
      ]
     },
     "metadata": {},
     "output_type": "display_data"
    }
   ],
   "source": [
    "from IPython.core.display import display, HTML\n",
    "display(HTML(\"<style>.container { width:100% !important; }</style>\"))"
   ]
  },
  {
   "cell_type": "code",
   "execution_count": 4,
   "metadata": {},
   "outputs": [
    {
     "name": "stdout",
     "output_type": "stream",
     "text": [
      "C:\\Users\\xcelsior\\Desktop\\personal\\uni\\2019 uni\\Sem2 Data Science Professional Development\\UNI_2019_DAG_TEXT_ANALYTICS\\xml_json\\\n"
     ]
    }
   ],
   "source": [
    "import sys, os\n",
    "cwd = os.getcwd()\n",
    "from pathlib import Path\n",
    "parentPath = Path(cwd).parent\n",
    "parentPath = str(parentPath)\n",
    "\n",
    "jsonLocation = parentPath+\"\\\\xml_json\\\\\"\n",
    "\n",
    "print(jsonLocation)\n",
    "# ------------------------------------------\n",
    "\n"
   ]
  },
  {
   "cell_type": "code",
   "execution_count": 5,
   "metadata": {},
   "outputs": [
    {
     "ename": "ValueError",
     "evalue": "Cannot run multiple SparkContexts at once; existing SparkContext(app=mm_exp, master=local[*]) created by __init__ at <ipython-input-2-ed98c24e0f5d>:13 ",
     "output_type": "error",
     "traceback": [
      "\u001b[1;31m---------------------------------------------------------------------------\u001b[0m",
      "\u001b[1;31mValueError\u001b[0m                                Traceback (most recent call last)",
      "\u001b[1;32m<ipython-input-5-ed98c24e0f5d>\u001b[0m in \u001b[0;36m<module>\u001b[1;34m()\u001b[0m\n\u001b[0;32m     11\u001b[0m \u001b[1;31m# SparkContext.setSystemProperty('spark.executor.memory', '10g')\u001b[0m\u001b[1;33m\u001b[0m\u001b[1;33m\u001b[0m\u001b[0m\n\u001b[0;32m     12\u001b[0m \u001b[1;31m# SparkContext.setSystemProperty('spark.driver.memory', '10g')\u001b[0m\u001b[1;33m\u001b[0m\u001b[1;33m\u001b[0m\u001b[0m\n\u001b[1;32m---> 13\u001b[1;33m \u001b[0msc\u001b[0m \u001b[1;33m=\u001b[0m \u001b[0mSparkContext\u001b[0m\u001b[1;33m(\u001b[0m\u001b[0mappName\u001b[0m\u001b[1;33m=\u001b[0m\u001b[1;34m'mm_exp'\u001b[0m\u001b[1;33m,\u001b[0m \u001b[0mconf\u001b[0m\u001b[1;33m=\u001b[0m\u001b[0mconf\u001b[0m\u001b[1;33m)\u001b[0m\u001b[1;33m\u001b[0m\u001b[0m\n\u001b[0m\u001b[0;32m     14\u001b[0m \u001b[0msqlContext\u001b[0m \u001b[1;33m=\u001b[0m \u001b[0mpyspark\u001b[0m\u001b[1;33m.\u001b[0m\u001b[0mSQLContext\u001b[0m\u001b[1;33m(\u001b[0m\u001b[0msc\u001b[0m\u001b[1;33m)\u001b[0m\u001b[1;33m\u001b[0m\u001b[0m\n\u001b[0;32m     15\u001b[0m \u001b[1;33m\u001b[0m\u001b[0m\n",
      "\u001b[1;32mc:\\users\\xcelsior\\appdata\\local\\programs\\python\\python36\\lib\\site-packages\\pyspark\\context.py\u001b[0m in \u001b[0;36m__init__\u001b[1;34m(self, master, appName, sparkHome, pyFiles, environment, batchSize, serializer, conf, gateway, jsc, profiler_cls)\u001b[0m\n\u001b[0;32m    113\u001b[0m         \"\"\"\n\u001b[0;32m    114\u001b[0m         \u001b[0mself\u001b[0m\u001b[1;33m.\u001b[0m\u001b[0m_callsite\u001b[0m \u001b[1;33m=\u001b[0m \u001b[0mfirst_spark_call\u001b[0m\u001b[1;33m(\u001b[0m\u001b[1;33m)\u001b[0m \u001b[1;32mor\u001b[0m \u001b[0mCallSite\u001b[0m\u001b[1;33m(\u001b[0m\u001b[1;32mNone\u001b[0m\u001b[1;33m,\u001b[0m \u001b[1;32mNone\u001b[0m\u001b[1;33m,\u001b[0m \u001b[1;32mNone\u001b[0m\u001b[1;33m)\u001b[0m\u001b[1;33m\u001b[0m\u001b[0m\n\u001b[1;32m--> 115\u001b[1;33m         \u001b[0mSparkContext\u001b[0m\u001b[1;33m.\u001b[0m\u001b[0m_ensure_initialized\u001b[0m\u001b[1;33m(\u001b[0m\u001b[0mself\u001b[0m\u001b[1;33m,\u001b[0m \u001b[0mgateway\u001b[0m\u001b[1;33m=\u001b[0m\u001b[0mgateway\u001b[0m\u001b[1;33m,\u001b[0m \u001b[0mconf\u001b[0m\u001b[1;33m=\u001b[0m\u001b[0mconf\u001b[0m\u001b[1;33m)\u001b[0m\u001b[1;33m\u001b[0m\u001b[0m\n\u001b[0m\u001b[0;32m    116\u001b[0m         \u001b[1;32mtry\u001b[0m\u001b[1;33m:\u001b[0m\u001b[1;33m\u001b[0m\u001b[0m\n\u001b[0;32m    117\u001b[0m             self._do_init(master, appName, sparkHome, pyFiles, environment, batchSize, serializer,\n",
      "\u001b[1;32mc:\\users\\xcelsior\\appdata\\local\\programs\\python\\python36\\lib\\site-packages\\pyspark\\context.py\u001b[0m in \u001b[0;36m_ensure_initialized\u001b[1;34m(cls, instance, gateway, conf)\u001b[0m\n\u001b[0;32m    306\u001b[0m                         \u001b[1;34m\" created by %s at %s:%s \"\u001b[0m\u001b[1;33m\u001b[0m\u001b[0m\n\u001b[0;32m    307\u001b[0m                         % (currentAppName, currentMaster,\n\u001b[1;32m--> 308\u001b[1;33m                             callsite.function, callsite.file, callsite.linenum))\n\u001b[0m\u001b[0;32m    309\u001b[0m                 \u001b[1;32melse\u001b[0m\u001b[1;33m:\u001b[0m\u001b[1;33m\u001b[0m\u001b[0m\n\u001b[0;32m    310\u001b[0m                     \u001b[0mSparkContext\u001b[0m\u001b[1;33m.\u001b[0m\u001b[0m_active_spark_context\u001b[0m \u001b[1;33m=\u001b[0m \u001b[0minstance\u001b[0m\u001b[1;33m\u001b[0m\u001b[0m\n",
      "\u001b[1;31mValueError\u001b[0m: Cannot run multiple SparkContexts at once; existing SparkContext(app=mm_exp, master=local[*]) created by __init__ at <ipython-input-2-ed98c24e0f5d>:13 "
     ]
    }
   ],
   "source": [
    "import pyspark\n",
    "from pyspark import SparkConf\n",
    "from pyspark import SparkContext\n",
    "# sc =SparkContext()\n",
    "\n",
    "# You can configure the SparkContext\n",
    "\n",
    "conf = SparkConf()\n",
    "conf.set('spark.local.dir', '/remote/data/match/spark')\n",
    "conf.set('spark.sql.shuffle.partitions', '2100')\n",
    "# SparkContext.setSystemProperty('spark.executor.memory', '10g')\n",
    "# SparkContext.setSystemProperty('spark.driver.memory', '10g')\n",
    "sc = SparkContext(appName='mm_exp', conf=conf)\n",
    "sqlContext = pyspark.SQLContext(sc)\n",
    "\n",
    "# print(data)"
   ]
  },
  {
   "cell_type": "code",
   "execution_count": 6,
   "metadata": {},
   "outputs": [],
   "source": [
    "# data = sqlContext.jsonFile(jsonLocation)\n",
    "sdf = sqlContext.read.format(\"json\").load(jsonLocation)"
   ]
  },
  {
   "cell_type": "code",
   "execution_count": 9,
   "metadata": {},
   "outputs": [
    {
     "name": "stdout",
     "output_type": "stream",
     "text": [
      "root\n",
      " |-- hansard: struct (nullable = true)\n",
      " |    |-- @id: string (nullable = true)\n",
      " |    |-- @schemaVersion: string (nullable = true)\n",
      " |    |-- @tocId: string (nullable = true)\n",
      " |    |-- @xml:lang: string (nullable = true)\n",
      " |    |-- @xmlns:mml: string (nullable = true)\n",
      " |    |-- @xmlns:xlink: string (nullable = true)\n",
      " |    |-- @xmlns:xsi: string (nullable = true)\n",
      " |    |-- @xsi:noNamespaceSchemaLocation: string (nullable = true)\n",
      " |    |-- date: struct (nullable = true)\n",
      " |    |    |-- @date: string (nullable = true)\n",
      " |    |-- dateModified: struct (nullable = true)\n",
      " |    |    |-- @time: string (nullable = true)\n",
      " |    |-- endPage: struct (nullable = true)\n",
      " |    |    |-- @num: string (nullable = true)\n",
      " |    |-- house: string (nullable = true)\n",
      " |    |-- name: string (nullable = true)\n",
      " |    |-- parliamentName: string (nullable = true)\n",
      " |    |-- parliamentNum: string (nullable = true)\n",
      " |    |-- proceeding: struct (nullable = true)\n",
      " |    |    |-- @continued: string (nullable = true)\n",
      " |    |    |-- name: string (nullable = true)\n",
      " |    |    |-- subject: struct (nullable = true)\n",
      " |    |    |    |-- name: string (nullable = true)\n",
      " |    |    |    |-- page: struct (nullable = true)\n",
      " |    |    |    |    |-- @num: string (nullable = true)\n",
      " |    |    |    |-- talker: array (nullable = true)\n",
      " |    |    |    |    |-- element: struct (containsNull = true)\n",
      " |    |    |    |    |    |-- @id: string (nullable = true)\n",
      " |    |    |    |    |    |-- @kind: string (nullable = true)\n",
      " |    |    |    |    |    |-- @role: string (nullable = true)\n",
      " |    |    |    |    |    |-- electorate: struct (nullable = true)\n",
      " |    |    |    |    |    |    |-- #text: string (nullable = true)\n",
      " |    |    |    |    |    |    |-- @id: string (nullable = true)\n",
      " |    |    |    |    |    |-- house: string (nullable = true)\n",
      " |    |    |    |    |    |-- name: string (nullable = true)\n",
      " |    |    |    |    |    |-- page: struct (nullable = true)\n",
      " |    |    |    |    |    |    |-- @num: string (nullable = true)\n",
      " |    |    |    |    |    |-- portfolios: struct (nullable = true)\n",
      " |    |    |    |    |    |    |-- portfolio: string (nullable = true)\n",
      " |    |    |    |    |    |-- questions: struct (nullable = true)\n",
      " |    |    |    |    |    |    |-- question: struct (nullable = true)\n",
      " |    |    |    |    |    |    |    |-- @date: string (nullable = true)\n",
      " |    |    |    |    |    |    |    |-- @qonNum: string (nullable = true)\n",
      " |    |    |    |    |    |    |    |-- name: string (nullable = true)\n",
      " |    |    |    |    |    |-- text: string (nullable = true)\n",
      " |    |    |    |-- text: struct (nullable = true)\n",
      " |    |    |    |    |-- @id: string (nullable = true)\n",
      " |    |    |    |    |-- inserted: struct (nullable = true)\n",
      " |    |    |    |    |    |-- heading: string (nullable = true)\n",
      " |    |    |-- text: struct (nullable = true)\n",
      " |    |    |    |-- @id: string (nullable = true)\n",
      " |    |    |    |-- heading: string (nullable = true)\n",
      " |    |-- reviewStage: string (nullable = true)\n",
      " |    |-- sessionName: string (nullable = true)\n",
      " |    |-- sessionNum: string (nullable = true)\n",
      " |    |-- startPage: struct (nullable = true)\n",
      " |    |    |-- @num: string (nullable = true)\n",
      " |    |-- venue: string (nullable = true)\n",
      "\n"
     ]
    }
   ],
   "source": [
    "sdf.printSchema()"
   ]
  },
  {
   "cell_type": "code",
   "execution_count": 41,
   "metadata": {},
   "outputs": [
    {
     "name": "stdout",
     "output_type": "stream",
     "text": [
      "+----+\n",
      "|name|\n",
      "+----+\n",
      "|null|\n",
      "|null|\n",
      "+----+\n",
      "only showing top 2 rows\n",
      "\n"
     ]
    }
   ],
   "source": [
    "from pyspark.sql.functions import *\n",
    "res = sdf.select(get_json_object(sdf['hansard.name'],\"$.name\").alias('name'))\n",
    "# res = sdf.filter(get_json_object(df['info'], \"$.name\") == 'pat')\n",
    "\n",
    "res.show(2)"
   ]
  },
  {
   "cell_type": "code",
   "execution_count": 93,
   "metadata": {},
   "outputs": [
    {
     "name": "stdout",
     "output_type": "stream",
     "text": [
      "+-------------------+------------+-------------------+--------------------+-------------+--------------------+------------+\n",
      "|               name|        date|               name|      parliamentName|parliamentNum|          proceeding|        date|\n",
      "+-------------------+------------+-------------------+--------------------+-------------+--------------------+------------+\n",
      "|Legislative Council|[2019-02-12]|Legislative Council|Parliament of Sou...|           54|[true, Answers to...|[2019-02-12]|\n",
      "|Legislative Council|[2019-02-12]|Legislative Council|Parliament of Sou...|           54|[true, Answers to...|[2019-02-12]|\n",
      "|  House of Assembly|[2019-02-12]|  House of Assembly|Parliament of Sou...|           54|[true, Answers to...|[2019-02-12]|\n",
      "|  House of Assembly|[2019-02-12]|  House of Assembly|Parliament of Sou...|           54|[true, Answers to...|[2019-02-12]|\n",
      "|  House of Assembly|[2019-02-12]|  House of Assembly|Parliament of Sou...|           54|[true, Answers to...|[2019-02-12]|\n",
      "|  House of Assembly|[2019-02-13]|  House of Assembly|Parliament of Sou...|           54|[true, Answers to...|[2019-02-13]|\n",
      "|  House of Assembly|[2019-02-12]|  House of Assembly|Parliament of Sou...|           54|[, Answers to Que...|[2019-02-12]|\n",
      "|Legislative Council|[2019-02-12]|Legislative Council|Parliament of Sou...|           54|[true, Answers to...|[2019-02-12]|\n",
      "|Legislative Council|[2019-02-12]|Legislative Council|Parliament of Sou...|           54|[true, Answers to...|[2019-02-12]|\n",
      "|  House of Assembly|[2019-02-13]|  House of Assembly|Parliament of Sou...|           54|[true, Answers to...|[2019-02-13]|\n",
      "|  House of Assembly|[2019-02-12]|  House of Assembly|Parliament of Sou...|           54|[true, Answers to...|[2019-02-12]|\n",
      "|  House of Assembly|[2019-02-12]|  House of Assembly|Parliament of Sou...|           54|[true, Answers to...|[2019-02-12]|\n",
      "|Legislative Council|[2019-02-12]|Legislative Council|Parliament of Sou...|           54|[true, Answers to...|[2019-02-12]|\n",
      "|  House of Assembly|[2019-02-12]|  House of Assembly|Parliament of Sou...|           54|[true, Answers to...|[2019-02-12]|\n",
      "|Legislative Council|[2019-02-12]|Legislative Council|Parliament of Sou...|           54|[true, Answers to...|[2019-02-12]|\n",
      "|  House of Assembly|[2019-02-13]|  House of Assembly|Parliament of Sou...|           54|[true, Answers to...|[2019-02-13]|\n",
      "|  House of Assembly|[2019-02-12]|  House of Assembly|Parliament of Sou...|           54|[true, Answers to...|[2019-02-12]|\n",
      "|  House of Assembly|[2019-02-12]|  House of Assembly|Parliament of Sou...|           54|[true, Answers to...|[2019-02-12]|\n",
      "|  House of Assembly|[2019-02-13]|  House of Assembly|Parliament of Sou...|           54|[true, Answers to...|[2019-02-13]|\n",
      "|  House of Assembly|[2019-02-12]|  House of Assembly|Parliament of Sou...|           54|[true, Answers to...|[2019-02-12]|\n",
      "+-------------------+------------+-------------------+--------------------+-------------+--------------------+------------+\n",
      "only showing top 20 rows\n",
      "\n"
     ]
    }
   ],
   "source": [
    "from pyspark.sql.functions import *\n",
    "flat_df = sdf.select(\"hansard.name\",\"hansard.date\",\"hansard.name\",\"hansard.parliamentName\",\"hansard.parliamentNum\",\"hansard.proceeding\",\"hansard.date\",  )\n",
    "flat_df.show()\n",
    "\n"
   ]
  },
  {
   "cell_type": "code",
   "execution_count": 104,
   "metadata": {},
   "outputs": [
    {
     "ename": "NameError",
     "evalue": "name 'select' is not defined",
     "output_type": "error",
     "traceback": [
      "\u001b[1;31m---------------------------------------------------------------------------\u001b[0m",
      "\u001b[1;31mNameError\u001b[0m                                 Traceback (most recent call last)",
      "\u001b[1;32m<ipython-input-104-497e5a73aaee>\u001b[0m in \u001b[0;36m<module>\u001b[1;34m()\u001b[0m\n\u001b[0;32m      1\u001b[0m \u001b[0mdf\u001b[0m \u001b[1;33m=\u001b[0m \u001b[0msdf\u001b[0m\u001b[1;33m.\u001b[0m\u001b[0mselect\u001b[0m\u001b[1;33m(\u001b[0m\u001b[0mexplode\u001b[0m\u001b[1;33m(\u001b[0m\u001b[1;34m\"hansard.proceeding.subject.talker\"\u001b[0m\u001b[1;33m)\u001b[0m\u001b[1;33m)\u001b[0m\u001b[1;31m#,\"hansard.proceeding.subject.talker.element.kind.role\",\"hansard.proceeding.subject.talker.kind.element.electorate\"  )\u001b[0m\u001b[1;33m\u001b[0m\u001b[0m\n\u001b[0;32m      2\u001b[0m \u001b[1;33m\u001b[0m\u001b[0m\n\u001b[1;32m----> 3\u001b[1;33m \u001b[0msdf\u001b[0m\u001b[1;33m.\u001b[0m\u001b[0mwithColumn\u001b[0m\u001b[1;33m(\u001b[0m\u001b[0mselect\u001b[0m\u001b[1;33m(\u001b[0m\u001b[0mexplode\u001b[0m\u001b[1;33m(\u001b[0m\u001b[1;34m\"hansard.proceeding.subject.talker\"\u001b[0m\u001b[1;33m)\u001b[0m\u001b[1;33m)\u001b[0m\u001b[1;33m)\u001b[0m\u001b[1;33m.\u001b[0m\u001b[0mshow\u001b[0m\u001b[1;33m(\u001b[0m\u001b[1;33m)\u001b[0m\u001b[1;33m\u001b[0m\u001b[0m\n\u001b[0m\u001b[0;32m      4\u001b[0m \u001b[1;31m# df.withColumn(\"col\", explode(\"col\")).show()\u001b[0m\u001b[1;33m\u001b[0m\u001b[1;33m\u001b[0m\u001b[0m\n\u001b[0;32m      5\u001b[0m \u001b[1;33m\u001b[0m\u001b[0m\n",
      "\u001b[1;31mNameError\u001b[0m: name 'select' is not defined"
     ]
    }
   ],
   "source": [
    "df = sdf.select(explode(\"hansard.proceeding.subject.talker\"))#,\"hansard.proceeding.subject.talker.element.kind.role\",\"hansard.proceeding.subject.talker.kind.element.electorate\"  )\n",
    "\n",
    "sdf.withColumn(select(explode(\"hansard.proceeding.subject.talker\"))).show()\n",
    "\n",
    "\n",
    "\n",
    "\n",
    "# df.withColumn(\"col\", explode(\"col\")).show()\n",
    "# df.show()\n",
    "# flat_df.select(\"hansard.proceeding.subject.talker\", explode(df.col3)).show()"
   ]
  },
  {
   "cell_type": "code",
   "execution_count": null,
   "metadata": {},
   "outputs": [],
   "source": [
    " |    |-- proceeding: struct (nullable = true)\n",
    " |    |    |-- @continued: string (nullable = true)\n",
    " |    |    |-- name: string (nullable = true)\n",
    " |    |    |-- subject: struct (nullable = true)\n",
    " |    |    |    |-- name: string (nullable = true)\n",
    " |    |    |    |-- page: struct (nullable = true)\n",
    " |    |    |    |    |-- @num: string (nullable = true)\n",
    " |    |    |    |-- talker: array (nullable = true)\n",
    " |    |    |    |    |-- element: struct (containsNull = true)\n",
    " |    |    |    |    |    |-- @id: string (nullable = true)\n",
    " |    |    |    |    |    |-- @kind: string (nullable = true)\n",
    " |    |    |    |    |    |-- @role: string (nullable = true)\n",
    " |    |    |    |    |    |-- electorate: struct (nullable = true)\n",
    " |    |    |    |    |    |    |-- #text: string (nullable = true)\n",
    " |    |    |    |    |    |    |-- @id: string (nullable = true)\n",
    " |    |    |    |    |    |-- house: string (nullable = true)\n",
    " |    |    |    |    |    |-- name: string (nullable = true)\n",
    " |    |    |    |    |    |-- page: struct (nullable = true)\n",
    " |    |    |    |    |    |    |-- @num: string (nullable = true)\n",
    " |    |    |    |    |    |-- portfolios: struct (nullable = true)\n",
    " |    |    |    |    |    |    |-- portfolio: string (nullable = true)\n",
    " |    |    |    |    |    |-- questions: struct (nullable = true)\n",
    " |    |    |    |    |    |    |-- question: struct (nullable = true)\n",
    " |    |    |    |    |    |    |    |-- @date: string (nullable = true)\n",
    " |    |    |    |    |    |    |    |-- @qonNum: string (nullable = true)\n",
    " |    |    |    |    |    |    |    |-- name: string (nullable = true)"
   ]
  },
  {
   "cell_type": "code",
   "execution_count": 6,
   "metadata": {},
   "outputs": [
    {
     "data": {
      "text/plain": [
       "DataFrame[_corrupt_record: string]"
      ]
     },
     "execution_count": 6,
     "metadata": {},
     "output_type": "execute_result"
    }
   ],
   "source": [
    "sdf"
   ]
  },
  {
   "cell_type": "code",
   "execution_count": 5,
   "metadata": {},
   "outputs": [
    {
     "name": "stdout",
     "output_type": "stream",
     "text": [
      "root\n",
      " |-- _corrupt_record: string (nullable = true)\n",
      "\n"
     ]
    }
   ],
   "source": [
    "sdf.printSchema()"
   ]
  }
 ],
 "metadata": {
  "kernelspec": {
   "display_name": "Python 3",
   "language": "python",
   "name": "python3"
  },
  "language_info": {
   "codemirror_mode": {
    "name": "ipython",
    "version": 3
   },
   "file_extension": ".py",
   "mimetype": "text/x-python",
   "name": "python",
   "nbconvert_exporter": "python",
   "pygments_lexer": "ipython3",
   "version": "3.6.0"
  }
 },
 "nbformat": 4,
 "nbformat_minor": 2
}
