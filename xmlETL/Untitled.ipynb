{
 "cells": [
  {
   "cell_type": "code",
   "execution_count": 1,
   "metadata": {},
   "outputs": [
    {
     "name": "stdout",
     "output_type": "stream",
     "text": [
      "C:\\Users\\xcelsior\\Desktop\\personal\\uni\\2019 uni\\Sem2 Data Science Professional Development\\UNI_2019_DAG_TEXT_ANALYTICS\\xml_json\\\n"
     ]
    }
   ],
   "source": [
    "import sys, os\n",
    "cwd = os.getcwd()\n",
    "from pathlib import Path\n",
    "parentPath = Path(cwd).parent\n",
    "parentPath = str(parentPath)\n",
    "\n",
    "jsonLocation = parentPath+\"\\\\xml_json\\\\\"\n",
    "\n",
    "print(jsonLocation)\n",
    "# ------------------------------------------\n",
    "\n"
   ]
  },
  {
   "cell_type": "code",
   "execution_count": 4,
   "metadata": {},
   "outputs": [],
   "source": [
    "import pyspark\n",
    "from pyspark import SparkConf\n",
    "from pyspark import SparkContext\n",
    "# sc =SparkContext()\n",
    "\n",
    "# You can configure the SparkContext\n",
    "\n",
    "conf = SparkConf()\n",
    "conf.set('spark.local.dir', '/remote/data/match/spark')\n",
    "conf.set('spark.sql.shuffle.partitions', '2100')\n",
    "# SparkContext.setSystemProperty('spark.executor.memory', '10g')\n",
    "# SparkContext.setSystemProperty('spark.driver.memory', '10g')\n",
    "# sc = SparkContext(appName='mm_exp', conf=conf)\n",
    "sqlContext = pyspark.SQLContext(sc)\n",
    "\n",
    "# data = sqlContext.jsonFile(jsonLocation)\n",
    "# sdf = pyspark.read.format(\"json\").load(jsonLocation)\n",
    "\n",
    "# print(data)"
   ]
  },
  {
   "cell_type": "code",
   "execution_count": 8,
   "metadata": {},
   "outputs": [],
   "source": [
    "sdf = sqlContext.read.json(jsonLocation)"
   ]
  },
  {
   "cell_type": "code",
   "execution_count": 10,
   "metadata": {},
   "outputs": [
    {
     "name": "stdout",
     "output_type": "stream",
     "text": [
      "root\n",
      " |-- hansard: struct (nullable = true)\n",
      " |    |-- @id: string (nullable = true)\n",
      " |    |-- @schemaVersion: string (nullable = true)\n",
      " |    |-- @tocId: string (nullable = true)\n",
      " |    |-- @xml:lang: string (nullable = true)\n",
      " |    |-- @xmlns:mml: string (nullable = true)\n",
      " |    |-- @xmlns:xlink: string (nullable = true)\n",
      " |    |-- @xmlns:xsi: string (nullable = true)\n",
      " |    |-- @xsi:noNamespaceSchemaLocation: string (nullable = true)\n",
      " |    |-- date: struct (nullable = true)\n",
      " |    |    |-- @date: string (nullable = true)\n",
      " |    |-- dateModified: struct (nullable = true)\n",
      " |    |    |-- @time: string (nullable = true)\n",
      " |    |-- endPage: struct (nullable = true)\n",
      " |    |    |-- @num: string (nullable = true)\n",
      " |    |-- house: string (nullable = true)\n",
      " |    |-- name: string (nullable = true)\n",
      " |    |-- parliamentName: string (nullable = true)\n",
      " |    |-- parliamentNum: string (nullable = true)\n",
      " |    |-- proceeding: struct (nullable = true)\n",
      " |    |    |-- @continued: string (nullable = true)\n",
      " |    |    |-- name: string (nullable = true)\n",
      " |    |    |-- subject: struct (nullable = true)\n",
      " |    |    |    |-- name: string (nullable = true)\n",
      " |    |    |    |-- page: struct (nullable = true)\n",
      " |    |    |    |    |-- @num: string (nullable = true)\n",
      " |    |    |    |-- talker: array (nullable = true)\n",
      " |    |    |    |    |-- element: struct (containsNull = true)\n",
      " |    |    |    |    |    |-- @id: string (nullable = true)\n",
      " |    |    |    |    |    |-- @kind: string (nullable = true)\n",
      " |    |    |    |    |    |-- @role: string (nullable = true)\n",
      " |    |    |    |    |    |-- electorate: struct (nullable = true)\n",
      " |    |    |    |    |    |    |-- #text: string (nullable = true)\n",
      " |    |    |    |    |    |    |-- @id: string (nullable = true)\n",
      " |    |    |    |    |    |-- house: string (nullable = true)\n",
      " |    |    |    |    |    |-- name: string (nullable = true)\n",
      " |    |    |    |    |    |-- page: struct (nullable = true)\n",
      " |    |    |    |    |    |    |-- @num: string (nullable = true)\n",
      " |    |    |    |    |    |-- portfolios: struct (nullable = true)\n",
      " |    |    |    |    |    |    |-- portfolio: string (nullable = true)\n",
      " |    |    |    |    |    |-- questions: struct (nullable = true)\n",
      " |    |    |    |    |    |    |-- question: struct (nullable = true)\n",
      " |    |    |    |    |    |    |    |-- @date: string (nullable = true)\n",
      " |    |    |    |    |    |    |    |-- @qonNum: string (nullable = true)\n",
      " |    |    |    |    |    |    |    |-- name: string (nullable = true)\n",
      " |    |    |    |    |    |-- text: string (nullable = true)\n",
      " |    |    |    |-- text: struct (nullable = true)\n",
      " |    |    |    |    |-- @id: string (nullable = true)\n",
      " |    |    |    |    |-- inserted: struct (nullable = true)\n",
      " |    |    |    |    |    |-- heading: string (nullable = true)\n",
      " |    |    |-- text: struct (nullable = true)\n",
      " |    |    |    |-- @id: string (nullable = true)\n",
      " |    |    |    |-- heading: string (nullable = true)\n",
      " |    |-- reviewStage: string (nullable = true)\n",
      " |    |-- sessionName: string (nullable = true)\n",
      " |    |-- sessionNum: string (nullable = true)\n",
      " |    |-- startPage: struct (nullable = true)\n",
      " |    |    |-- @num: string (nullable = true)\n",
      " |    |-- venue: string (nullable = true)\n",
      "\n"
     ]
    }
   ],
   "source": [
    "sdf.printSchema()"
   ]
  }
 ],
 "metadata": {
  "kernelspec": {
   "display_name": "Python 3",
   "language": "python",
   "name": "python3"
  },
  "language_info": {
   "codemirror_mode": {
    "name": "ipython",
    "version": 3
   },
   "file_extension": ".py",
   "mimetype": "text/x-python",
   "name": "python",
   "nbconvert_exporter": "python",
   "pygments_lexer": "ipython3",
   "version": "3.6.0"
  }
 },
 "nbformat": 4,
 "nbformat_minor": 2
}
