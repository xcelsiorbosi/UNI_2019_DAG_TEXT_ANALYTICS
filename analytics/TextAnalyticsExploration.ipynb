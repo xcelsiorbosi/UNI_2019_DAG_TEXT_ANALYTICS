{
 "cells": [
  {
   "cell_type": "markdown",
   "metadata": {},
   "source": [
    "# Text Analytics Exploration"
   ]
  },
  {
   "cell_type": "markdown",
   "metadata": {},
   "source": [
    "## Import Data"
   ]
  },
  {
   "cell_type": "code",
   "execution_count": 1,
   "metadata": {
    "pycharm": {
     "is_executing": false
    }
   },
   "outputs": [],
   "source": [
    "url = \"http://hansardpublic.parliament.sa.gov.au/Pages/HansardResult.aspx#/docid/HANSARD-10-25756\"\n",
    "text = \"When I tried to get a copy of the commissioner's report after being tabled, why was I basically told that there was a very limited— The PRESIDENT: This is a matter of personal explanation in a supplementary. Just please, the Hon. Mr Wortley, ask your supplementary. The Hon. R.P. WORTLEY: Why weren't all members of parliament given a copy of the royal commission's report? The Hon. D.W. Ridgway: But you told us before you never read reports. The Hon. R.I. LUCAS (Treasurer) (15:26): Mr President, I won't go down that particular path, as delicious as that interjection might have been in relation to the Hon. Mr Wortley saying he couldn't trust himself to read his own reports. I don't know why the Hon. Mr Wortley was unable to get a copy of the royal commission report. It was certainly publicly available. If it pleases the member, I will see whether there is not a spare copy somewhere. If we do find a spare copy and give it to him, I will be asking questions afterwards of the honourable member just to make sure he did read it. The Hon. D.W. Ridgway: Do you want it delivered to Scuzzi or something more convenient for you? The PRESIDENT: Are you finished, the Hon. Mr Ridgway? The Hon. R.P. WORTLEY: You just worry about our trade exports, mate, for the state. The PRESIDENT: The Hon. Mr Wortley, I am waiting patiently here to give you the call for your question. Have you finished your private conversation with the Hon. Mr Ridgway? Yes? The Hon. Mr Wortley.\"\n",
    "title = \"Murray-Darling Basin Royal Commission\""
   ]
  },
  {
   "cell_type": "code",
   "execution_count": 2,
   "metadata": {
    "pycharm": {
     "is_executing": true
    }
   },
   "outputs": [
    {
     "data": {
      "text/html": [
       "<div>\n",
       "<style scoped>\n",
       "    .dataframe tbody tr th:only-of-type {\n",
       "        vertical-align: middle;\n",
       "    }\n",
       "\n",
       "    .dataframe tbody tr th {\n",
       "        vertical-align: top;\n",
       "    }\n",
       "\n",
       "    .dataframe thead th {\n",
       "        text-align: right;\n",
       "    }\n",
       "</style>\n",
       "<table border=\"1\" class=\"dataframe\">\n",
       "  <thead>\n",
       "    <tr style=\"text-align: right;\">\n",
       "      <th></th>\n",
       "      <th>hansardID</th>\n",
       "      <th>text</th>\n",
       "    </tr>\n",
       "  </thead>\n",
       "  <tbody>\n",
       "    <tr>\n",
       "      <td>0</td>\n",
       "      <td>HANSARD-11-27883.xml</td>\n",
       "      <td>Statutes Amendment (Vehicle Inspections and So...</td>\n",
       "    </tr>\n",
       "    <tr>\n",
       "      <td>1</td>\n",
       "      <td>HANSARD-11-27883.xml</td>\n",
       "      <td>Second Reading</td>\n",
       "    </tr>\n",
       "  </tbody>\n",
       "</table>\n",
       "</div>"
      ],
      "text/plain": [
       "              hansardID                                               text\n",
       "0  HANSARD-11-27883.xml  Statutes Amendment (Vehicle Inspections and So...\n",
       "1  HANSARD-11-27883.xml                                     Second Reading"
      ]
     },
     "execution_count": 2,
     "metadata": {},
     "output_type": "execute_result"
    }
   ],
   "source": [
    "# Import data from spreadsheet\n",
    "import pandas as pd\n",
    "import numpy as np\n",
    "import os\n",
    "\n",
    "data = pd.read_excel (\"..\\\\data\\\\HANSARDfullDataset.xlsx\", sheet_name=\"text\")\n",
    "df = pd.DataFrame(data, columns= ['hansardID','text'])\n",
    "df = df.astype({\"hansardID\":'str', \"text\":'str'}) \n",
    "\n",
    "#df.dtypes \n",
    "df.head(2)"
   ]
  },
  {
   "cell_type": "code",
   "execution_count": null,
   "metadata": {
    "pycharm": {
     "is_executing": true
    }
   },
   "outputs": [],
   "source": [
    "hansardFilesInfo = pd.read_excel (\"..\\\\data\\\\HANSARDfullDataset.xlsx\", sheet_name=\"HANSARDFilesInfo\")\n",
    "hansardFilesInfo = pd.DataFrame(hansardFilesInfo, columns= ['FileName','URL'])\n",
    "hansardFilesInfo = hansardFilesInfo.astype({\"FileName\":'str', \"URL\":'str'}) \n",
    "hansardFilesInfo.head(2)"
   ]
  },
  {
   "cell_type": "code",
   "execution_count": null,
   "metadata": {
    "pycharm": {
     "is_executing": true
    }
   },
   "outputs": [],
   "source": [
    "header = pd.read_excel (\"..\\\\data\\\\HANSARDfullDataset.xlsx\", sheet_name=\"header\")\n",
    "header = pd.DataFrame(header)\n",
    "header.head(2)"
   ]
  },
  {
   "cell_type": "code",
   "execution_count": null,
   "metadata": {},
   "outputs": [],
   "source": [
    "bill = pd.read_excel (\"..\\\\data\\\\HANSARDfullDataset.xlsx\", sheet_name=\"bill\")\n",
    "bill = pd.DataFrame(bill, columns= ['question','bname'])\n",
    "bill.head(2)"
   ]
  },
  {
   "cell_type": "code",
   "execution_count": 3,
   "metadata": {
    "pycharm": {
     "is_executing": true
    }
   },
   "outputs": [
    {
     "data": {
      "text/html": [
       "<div>\n",
       "<style scoped>\n",
       "    .dataframe tbody tr th:only-of-type {\n",
       "        vertical-align: middle;\n",
       "    }\n",
       "\n",
       "    .dataframe tbody tr th {\n",
       "        vertical-align: top;\n",
       "    }\n",
       "\n",
       "    .dataframe thead th {\n",
       "        text-align: right;\n",
       "    }\n",
       "</style>\n",
       "<table border=\"1\" class=\"dataframe\">\n",
       "  <thead>\n",
       "    <tr style=\"text-align: right;\">\n",
       "      <th></th>\n",
       "      <th>text</th>\n",
       "    </tr>\n",
       "    <tr>\n",
       "      <th>hansardID</th>\n",
       "      <th></th>\n",
       "    </tr>\n",
       "  </thead>\n",
       "  <tbody>\n",
       "    <tr>\n",
       "      <td>HANSARD-10-21289.xml</td>\n",
       "      <td>Bills. Children and Young People (Safety) Bill...</td>\n",
       "    </tr>\n",
       "    <tr>\n",
       "      <td>HANSARD-10-21290.xml</td>\n",
       "      <td>Sentencing Bill. Assent. His Excellency the Go...</td>\n",
       "    </tr>\n",
       "    <tr>\n",
       "      <td>HANSARD-10-21291.xml</td>\n",
       "      <td>Statutes Amendment (Possession of Firearms and...</td>\n",
       "    </tr>\n",
       "    <tr>\n",
       "      <td>HANSARD-10-21292.xml</td>\n",
       "      <td>Public Interest Disclosure Bill. Conference. T...</td>\n",
       "    </tr>\n",
       "    <tr>\n",
       "      <td>HANSARD-10-21310.xml</td>\n",
       "      <td>Bills. Statutes Amendment (Heavy Vehicles Regi...</td>\n",
       "    </tr>\n",
       "  </tbody>\n",
       "</table>\n",
       "</div>"
      ],
      "text/plain": [
       "                                                                   text\n",
       "hansardID                                                              \n",
       "HANSARD-10-21289.xml  Bills. Children and Young People (Safety) Bill...\n",
       "HANSARD-10-21290.xml  Sentencing Bill. Assent. His Excellency the Go...\n",
       "HANSARD-10-21291.xml  Statutes Amendment (Possession of Firearms and...\n",
       "HANSARD-10-21292.xml  Public Interest Disclosure Bill. Conference. T...\n",
       "HANSARD-10-21310.xml  Bills. Statutes Amendment (Heavy Vehicles Regi..."
      ]
     },
     "execution_count": 3,
     "metadata": {},
     "output_type": "execute_result"
    }
   ],
   "source": [
    "# Group text into one document\n",
    "grouped_text = df.groupby('hansardID')['text'].agg(lambda col: '. '.join(col))\n",
    "grouped_text_df = pd.DataFrame(grouped_text, columns= ['text'])\n",
    "grouped_text_df.head(5)"
   ]
  },
  {
   "cell_type": "code",
   "execution_count": 4,
   "metadata": {
    "pycharm": {
     "is_executing": true
    }
   },
   "outputs": [
    {
     "data": {
      "text/plain": [
       "\"Bills. Statutes Amendment (Heavy Vehicles Registration Fees) Bill. Second Reading. Adjourned debate on second reading. (Continued from 1 June 2017.). The Hon. J.M.A. LENSINK (16:35):  I rise to indicate opposition support for this bill, which is part of the harmonisation of national laws which relate to heavy vehicles. In particular, this bill amends the Highways Act and the Motor Vehicles Act so that South Australia can meet its obligations under the Heavy Vehicle National Law (South Australia) Act 2013, which contains the national law as a schedule. This bill provides for the creation of a national heavy vehicle regulator. For the benefit of readers, heavy vehicles are defined as trucks with a gross vehicle mass of 4.5 tonnes or more. The section relating to registration of the national law has not commenced yet, so heavy vehicle registrations remain under state legislation; however, those jurisdictions which are participants, which I understand includes all states and territories except for the Northern Territory and WA, are governed by model law approved by the national Transport and Infrastructure Council, made up of state and territory ministers. Vehicle registration charges are currently calculated on the basis of road user charge and regulatory charge components. Participating jurisdictions have agreed that the revenue which is collected will be transferred to the regulator to undertake its duties. Amendments to the Motor Vehicles Act clarify that deductions from concessional registration charges for people living in remote areas and from primary producers will be taken from the roads component rather than the regulatory component of the fees provided to the regulator's fund. This bill is, in effect, a stopgap to cover arrangements until the other arrangements are completed. I am advised that registration fees will not increase, but a portion will be provided to the NHVR instead of going to the Highways Fund. With those comments, I commend the bill to the house. Debate adjourned on motion of Hon. J.E. Hanson.\""
      ]
     },
     "execution_count": 4,
     "metadata": {},
     "output_type": "execute_result"
    }
   ],
   "source": [
    "grouped_text.iloc[4].replace(\"..\",\".\")"
   ]
  },
  {
   "cell_type": "markdown",
   "metadata": {},
   "source": [
    "## Basic Text Analytics"
   ]
  },
  {
   "cell_type": "markdown",
   "metadata": {},
   "source": [
    "### Word Count"
   ]
  },
  {
   "cell_type": "code",
   "execution_count": 5,
   "metadata": {
    "pycharm": {
     "is_executing": true
    }
   },
   "outputs": [
    {
     "data": {
      "text/html": [
       "<div>\n",
       "<style scoped>\n",
       "    .dataframe tbody tr th:only-of-type {\n",
       "        vertical-align: middle;\n",
       "    }\n",
       "\n",
       "    .dataframe tbody tr th {\n",
       "        vertical-align: top;\n",
       "    }\n",
       "\n",
       "    .dataframe thead th {\n",
       "        text-align: right;\n",
       "    }\n",
       "</style>\n",
       "<table border=\"1\" class=\"dataframe\">\n",
       "  <thead>\n",
       "    <tr style=\"text-align: right;\">\n",
       "      <th></th>\n",
       "      <th>text</th>\n",
       "      <th>WordCount</th>\n",
       "    </tr>\n",
       "    <tr>\n",
       "      <th>hansardID</th>\n",
       "      <th></th>\n",
       "      <th></th>\n",
       "    </tr>\n",
       "  </thead>\n",
       "  <tbody>\n",
       "    <tr>\n",
       "      <td>HANSARD-10-21289.xml</td>\n",
       "      <td>Bills. Children and Young People (Safety) Bill...</td>\n",
       "      <td>16</td>\n",
       "    </tr>\n",
       "    <tr>\n",
       "      <td>HANSARD-10-21290.xml</td>\n",
       "      <td>Sentencing Bill. Assent. His Excellency the Go...</td>\n",
       "      <td>11</td>\n",
       "    </tr>\n",
       "  </tbody>\n",
       "</table>\n",
       "</div>"
      ],
      "text/plain": [
       "                                                                   text  \\\n",
       "hansardID                                                                 \n",
       "HANSARD-10-21289.xml  Bills. Children and Young People (Safety) Bill...   \n",
       "HANSARD-10-21290.xml  Sentencing Bill. Assent. His Excellency the Go...   \n",
       "\n",
       "                      WordCount  \n",
       "hansardID                        \n",
       "HANSARD-10-21289.xml         16  \n",
       "HANSARD-10-21290.xml         11  "
      ]
     },
     "execution_count": 5,
     "metadata": {},
     "output_type": "execute_result"
    }
   ],
   "source": [
    "import re\n",
    "\n",
    "# Count number of words in sentence using regex\n",
    "grouped_text_df['WordCount'] = grouped_text_df.apply(lambda x: len(re.findall(r'\\w+', x.text)), axis=1)\n",
    "grouped_text_df.head(2)"
   ]
  },
  {
   "cell_type": "markdown",
   "metadata": {},
   "source": [
    "### Length of Sentences"
   ]
  },
  {
   "cell_type": "code",
   "execution_count": 6,
   "metadata": {
    "pycharm": {
     "is_executing": true
    }
   },
   "outputs": [
    {
     "name": "stdout",
     "output_type": "stream",
     "text": [
      "Average =  60.15269174579986\n",
      "Median =  31.0\n",
      "Min =  1\n",
      "Max =  5479\n",
      "Q1 =  6.0\n",
      "Q3 =  95.0\n"
     ]
    }
   ],
   "source": [
    "from statistics import median\n",
    "\n",
    "all_text = df['text'].agg(lambda col: ''.join(col))\n",
    "all_text = \". \".join(all_text)\n",
    "\n",
    "# Average number of words in a sentence\n",
    "parts = [len(l.split()) for l in re.split(r'[?!.:] ', ' '.join(all_text)) if l.strip()]\n",
    "print(\"Average = \", sum(parts)/len(parts))\n",
    "\n",
    "# Median number of words in a sentence\n",
    "print(\"Median = \", median(parts))\n",
    "print(\"Min = \", min(parts))\n",
    "print(\"Max = \", max(parts))\n",
    "print(\"Q1 = \", np.percentile(parts,25))\n",
    "print(\"Q3 = \", np.percentile(parts,75))"
   ]
  },
  {
   "cell_type": "markdown",
   "metadata": {},
   "source": [
    "## Document Summarisation"
   ]
  },
  {
   "cell_type": "markdown",
   "metadata": {},
   "source": [
    "Articles and libraries to look into further: \n",
    "* https://www.machinelearningplus.com/nlp/topic-modeling-gensim-python/\n",
    "* https://stackabuse.com/text-summarization-with-nltk-in-python/\n",
    "* https://github.com/alanbuxton/PyTeaserPython3\n",
    "* https://github.com/abisee/pointer-generator\n",
    "* https://github.com/DerwenAI/pytextrank\n",
    "* https://github.com/tensorflow/models/tree/master/research/textsum\n",
    "* https://radimrehurek.com/gensim/models/lsimodel.html\n",
    "* https://towardsdatascience.com/text-summarization-in-python-76c0a41f0dc4 (additional links to articles at the end)"
   ]
  },
  {
   "cell_type": "code",
   "execution_count": null,
   "metadata": {
    "pycharm": {
     "is_executing": true
    }
   },
   "outputs": [],
   "source": [
    "# Topic Model summarisation\n",
    "from gensim.test.utils import common_dictionary, common_corpus\n",
    "from gensim.models import LsiModel\n",
    "model = LsiModel(common_corpus, id2word=common_dictionary)\n",
    "vectorized_corpus = model[common_corpus]\n",
    "#print(vectorized_corpus)\n",
    "#model.print_topics(1)"
   ]
  },
  {
   "cell_type": "code",
   "execution_count": null,
   "metadata": {
    "pycharm": {
     "is_executing": true
    }
   },
   "outputs": [],
   "source": [
    "# The feature base model extracts the features of the sentence, then evaluate its importance\n",
    "# Feature base text summarization by TextTeaser\n",
    "#from pyteaser import SummarizeUrl\n",
    "#url = 'http://www.huffingtonpost.com/2013/11/22/twitter-forward-secrecy_n_4326599.html'\n",
    "#summaries = SummarizeUrl(url)\n",
    "#print summaries"
   ]
  },
  {
   "cell_type": "code",
   "execution_count": null,
   "metadata": {
    "pycharm": {
     "is_executing": true
    }
   },
   "outputs": [],
   "source": [
    "# TextTeasor - automatic summarization algorithm that combines the power of natural language processing and machine learning\n",
    "#from textteaser import TextTeaser\n",
    "#tt = TextTeaser()\n",
    "#tt.summarize(title, text)"
   ]
  },
  {
   "cell_type": "markdown",
   "metadata": {},
   "source": [
    "### Truncated Sentences"
   ]
  },
  {
   "cell_type": "code",
   "execution_count": 7,
   "metadata": {},
   "outputs": [
    {
     "data": {
      "text/plain": [
       "\"When I tried to get a copy of the commissioner's report after being tabled, why was I basically told that there was a very limited— The PRESIDENT: This is a matter of personal explanation in a...\""
      ]
     },
     "execution_count": 7,
     "metadata": {},
     "output_type": "execute_result"
    }
   ],
   "source": [
    "def smart_truncate(content, length=200, suffix='...'):\n",
    "    if len(content) <= length:\n",
    "        return content\n",
    "    else:\n",
    "        return ' '.join(content[:length+1].split(' ')[0:-1]) + suffix\n",
    "\n",
    "smart_truncate(text)"
   ]
  },
  {
   "cell_type": "code",
   "execution_count": 8,
   "metadata": {},
   "outputs": [
    {
     "data": {
      "text/html": [
       "<div>\n",
       "<style scoped>\n",
       "    .dataframe tbody tr th:only-of-type {\n",
       "        vertical-align: middle;\n",
       "    }\n",
       "\n",
       "    .dataframe tbody tr th {\n",
       "        vertical-align: top;\n",
       "    }\n",
       "\n",
       "    .dataframe thead th {\n",
       "        text-align: right;\n",
       "    }\n",
       "</style>\n",
       "<table border=\"1\" class=\"dataframe\">\n",
       "  <thead>\n",
       "    <tr style=\"text-align: right;\">\n",
       "      <th></th>\n",
       "      <th>text</th>\n",
       "      <th>WordCount</th>\n",
       "      <th>Truncated</th>\n",
       "    </tr>\n",
       "    <tr>\n",
       "      <th>hansardID</th>\n",
       "      <th></th>\n",
       "      <th></th>\n",
       "      <th></th>\n",
       "    </tr>\n",
       "  </thead>\n",
       "  <tbody>\n",
       "    <tr>\n",
       "      <td>HANSARD-10-21289.xml</td>\n",
       "      <td>Bills. Children and Young People (Safety) Bill...</td>\n",
       "      <td>16</td>\n",
       "      <td>Bills. Children and Young People (Safety) Bill...</td>\n",
       "    </tr>\n",
       "    <tr>\n",
       "      <td>HANSARD-10-21290.xml</td>\n",
       "      <td>Sentencing Bill. Assent. His Excellency the Go...</td>\n",
       "      <td>11</td>\n",
       "      <td>Sentencing Bill. Assent. His Excellency the Go...</td>\n",
       "    </tr>\n",
       "    <tr>\n",
       "      <td>HANSARD-10-21291.xml</td>\n",
       "      <td>Statutes Amendment (Possession of Firearms and...</td>\n",
       "      <td>18</td>\n",
       "      <td>Statutes Amendment (Possession of Firearms and...</td>\n",
       "    </tr>\n",
       "    <tr>\n",
       "      <td>HANSARD-10-21292.xml</td>\n",
       "      <td>Public Interest Disclosure Bill. Conference. T...</td>\n",
       "      <td>69</td>\n",
       "      <td>Public Interest Disclosure Bill. Conference. T...</td>\n",
       "    </tr>\n",
       "    <tr>\n",
       "      <td>HANSARD-10-21310.xml</td>\n",
       "      <td>Bills. Statutes Amendment (Heavy Vehicles Regi...</td>\n",
       "      <td>327</td>\n",
       "      <td>Bills. Statutes Amendment (Heavy Vehicles Regi...</td>\n",
       "    </tr>\n",
       "  </tbody>\n",
       "</table>\n",
       "</div>"
      ],
      "text/plain": [
       "                                                                   text  \\\n",
       "hansardID                                                                 \n",
       "HANSARD-10-21289.xml  Bills. Children and Young People (Safety) Bill...   \n",
       "HANSARD-10-21290.xml  Sentencing Bill. Assent. His Excellency the Go...   \n",
       "HANSARD-10-21291.xml  Statutes Amendment (Possession of Firearms and...   \n",
       "HANSARD-10-21292.xml  Public Interest Disclosure Bill. Conference. T...   \n",
       "HANSARD-10-21310.xml  Bills. Statutes Amendment (Heavy Vehicles Regi...   \n",
       "\n",
       "                      WordCount  \\\n",
       "hansardID                         \n",
       "HANSARD-10-21289.xml         16   \n",
       "HANSARD-10-21290.xml         11   \n",
       "HANSARD-10-21291.xml         18   \n",
       "HANSARD-10-21292.xml         69   \n",
       "HANSARD-10-21310.xml        327   \n",
       "\n",
       "                                                              Truncated  \n",
       "hansardID                                                                \n",
       "HANSARD-10-21289.xml  Bills. Children and Young People (Safety) Bill...  \n",
       "HANSARD-10-21290.xml  Sentencing Bill. Assent. His Excellency the Go...  \n",
       "HANSARD-10-21291.xml  Statutes Amendment (Possession of Firearms and...  \n",
       "HANSARD-10-21292.xml  Public Interest Disclosure Bill. Conference. T...  \n",
       "HANSARD-10-21310.xml  Bills. Statutes Amendment (Heavy Vehicles Regi...  "
      ]
     },
     "execution_count": 8,
     "metadata": {},
     "output_type": "execute_result"
    }
   ],
   "source": [
    "grouped_text_df['Truncated'] = grouped_text_df.apply(lambda x: smart_truncate(x.text), axis=1)\n",
    "grouped_text_df.head(5)"
   ]
  },
  {
   "cell_type": "markdown",
   "metadata": {},
   "source": [
    "### TextRank Summary"
   ]
  },
  {
   "cell_type": "code",
   "execution_count": 9,
   "metadata": {
    "pycharm": {
     "is_executing": true
    }
   },
   "outputs": [
    {
     "data": {
      "text/html": [
       "<div>\n",
       "<style scoped>\n",
       "    .dataframe tbody tr th:only-of-type {\n",
       "        vertical-align: middle;\n",
       "    }\n",
       "\n",
       "    .dataframe tbody tr th {\n",
       "        vertical-align: top;\n",
       "    }\n",
       "\n",
       "    .dataframe thead th {\n",
       "        text-align: right;\n",
       "    }\n",
       "</style>\n",
       "<table border=\"1\" class=\"dataframe\">\n",
       "  <thead>\n",
       "    <tr style=\"text-align: right;\">\n",
       "      <th></th>\n",
       "      <th>text</th>\n",
       "      <th>WordCount</th>\n",
       "      <th>Truncated</th>\n",
       "      <th>TextRank</th>\n",
       "      <th>TextRank50</th>\n",
       "    </tr>\n",
       "    <tr>\n",
       "      <th>hansardID</th>\n",
       "      <th></th>\n",
       "      <th></th>\n",
       "      <th></th>\n",
       "      <th></th>\n",
       "      <th></th>\n",
       "    </tr>\n",
       "  </thead>\n",
       "  <tbody>\n",
       "    <tr>\n",
       "      <td>HANSARD-10-21289.xml</td>\n",
       "      <td>Bills. Children and Young People (Safety) Bill...</td>\n",
       "      <td>16</td>\n",
       "      <td>Bills. Children and Young People (Safety) Bill...</td>\n",
       "      <td></td>\n",
       "      <td>Bills.\\nChildren and Young People (Safety) Bil...</td>\n",
       "    </tr>\n",
       "    <tr>\n",
       "      <td>HANSARD-10-21290.xml</td>\n",
       "      <td>Sentencing Bill. Assent. His Excellency the Go...</td>\n",
       "      <td>11</td>\n",
       "      <td>Sentencing Bill. Assent. His Excellency the Go...</td>\n",
       "      <td></td>\n",
       "      <td></td>\n",
       "    </tr>\n",
       "    <tr>\n",
       "      <td>HANSARD-10-21291.xml</td>\n",
       "      <td>Statutes Amendment (Possession of Firearms and...</td>\n",
       "      <td>18</td>\n",
       "      <td>Statutes Amendment (Possession of Firearms and...</td>\n",
       "      <td></td>\n",
       "      <td></td>\n",
       "    </tr>\n",
       "    <tr>\n",
       "      <td>HANSARD-10-21292.xml</td>\n",
       "      <td>Public Interest Disclosure Bill. Conference. T...</td>\n",
       "      <td>69</td>\n",
       "      <td>Public Interest Disclosure Bill. Conference. T...</td>\n",
       "      <td>MALINAUSKAS (Minister for Police, Minister for...</td>\n",
       "      <td>MALINAUSKAS (Minister for Police, Minister for...</td>\n",
       "    </tr>\n",
       "    <tr>\n",
       "      <td>HANSARD-10-21310.xml</td>\n",
       "      <td>Bills. Statutes Amendment (Heavy Vehicles Regi...</td>\n",
       "      <td>327</td>\n",
       "      <td>Bills. Statutes Amendment (Heavy Vehicles Regi...</td>\n",
       "      <td>Adjourned debate on second reading..\\nThis bil...</td>\n",
       "      <td>Adjourned debate on second reading..\\nAmendmen...</td>\n",
       "    </tr>\n",
       "  </tbody>\n",
       "</table>\n",
       "</div>"
      ],
      "text/plain": [
       "                                                                   text  \\\n",
       "hansardID                                                                 \n",
       "HANSARD-10-21289.xml  Bills. Children and Young People (Safety) Bill...   \n",
       "HANSARD-10-21290.xml  Sentencing Bill. Assent. His Excellency the Go...   \n",
       "HANSARD-10-21291.xml  Statutes Amendment (Possession of Firearms and...   \n",
       "HANSARD-10-21292.xml  Public Interest Disclosure Bill. Conference. T...   \n",
       "HANSARD-10-21310.xml  Bills. Statutes Amendment (Heavy Vehicles Regi...   \n",
       "\n",
       "                      WordCount  \\\n",
       "hansardID                         \n",
       "HANSARD-10-21289.xml         16   \n",
       "HANSARD-10-21290.xml         11   \n",
       "HANSARD-10-21291.xml         18   \n",
       "HANSARD-10-21292.xml         69   \n",
       "HANSARD-10-21310.xml        327   \n",
       "\n",
       "                                                              Truncated  \\\n",
       "hansardID                                                                 \n",
       "HANSARD-10-21289.xml  Bills. Children and Young People (Safety) Bill...   \n",
       "HANSARD-10-21290.xml  Sentencing Bill. Assent. His Excellency the Go...   \n",
       "HANSARD-10-21291.xml  Statutes Amendment (Possession of Firearms and...   \n",
       "HANSARD-10-21292.xml  Public Interest Disclosure Bill. Conference. T...   \n",
       "HANSARD-10-21310.xml  Bills. Statutes Amendment (Heavy Vehicles Regi...   \n",
       "\n",
       "                                                               TextRank  \\\n",
       "hansardID                                                                 \n",
       "HANSARD-10-21289.xml                                                      \n",
       "HANSARD-10-21290.xml                                                      \n",
       "HANSARD-10-21291.xml                                                      \n",
       "HANSARD-10-21292.xml  MALINAUSKAS (Minister for Police, Minister for...   \n",
       "HANSARD-10-21310.xml  Adjourned debate on second reading..\\nThis bil...   \n",
       "\n",
       "                                                             TextRank50  \n",
       "hansardID                                                                \n",
       "HANSARD-10-21289.xml  Bills.\\nChildren and Young People (Safety) Bil...  \n",
       "HANSARD-10-21290.xml                                                     \n",
       "HANSARD-10-21291.xml                                                     \n",
       "HANSARD-10-21292.xml  MALINAUSKAS (Minister for Police, Minister for...  \n",
       "HANSARD-10-21310.xml  Adjourned debate on second reading..\\nAmendmen...  "
      ]
     },
     "execution_count": 9,
     "metadata": {},
     "output_type": "execute_result"
    }
   ],
   "source": [
    "from gensim.summarization.summarizer import summarize\n",
    "\n",
    "#  TextRank summarization with default parameters\n",
    "grouped_text_df['TextRank'] = grouped_text_df.apply(lambda x: summarize(x.text), axis=1)\n",
    "\n",
    "#  TextRank summarization with no more than 50 words for the summary\n",
    "grouped_text_df['TextRank50'] = grouped_text_df.apply(lambda x: summarize(x.text, word_count = 50), axis=1)\n",
    "grouped_text_df.head(5)"
   ]
  },
  {
   "cell_type": "code",
   "execution_count": 10,
   "metadata": {
    "pycharm": {
     "is_executing": true
    }
   },
   "outputs": [
    {
     "name": "stdout",
     "output_type": "stream",
     "text": [
      "The Hon. R.P. WORTLEY: Why weren't all members of parliament given a copy of the royal commission's report?\n",
      "The Hon. D.W. Ridgway: But you told us before you never read reports.\n",
      "I don't know why the Hon. Mr Wortley was unable to get a copy of the royal commission report.\n"
     ]
    }
   ],
   "source": [
    "print(summarize(text)) #  TextRank summarization"
   ]
  },
  {
   "cell_type": "code",
   "execution_count": 11,
   "metadata": {
    "pycharm": {
     "is_executing": true
    }
   },
   "outputs": [
    {
     "name": "stdout",
     "output_type": "stream",
     "text": [
      "The Hon. R.P. WORTLEY: Why weren't all members of parliament given a copy of the royal commission's report?\n",
      "The Hon. D.W. Ridgway: But you told us before you never read reports.\n",
      "I don't know why the Hon. Mr Wortley was unable to get a copy of the royal commission report.\n"
     ]
    }
   ],
   "source": [
    "print(summarize(text, word_count = 50)) #  TextRank summarization - no more than 50 words for summary"
   ]
  },
  {
   "cell_type": "code",
   "execution_count": 12,
   "metadata": {
    "pycharm": {
     "is_executing": true
    }
   },
   "outputs": [
    {
     "name": "stdout",
     "output_type": "stream",
     "text": [
      "The Hon. R.P. WORTLEY: Why weren't all members of parliament given a copy of the royal commission's report?\n",
      "The Hon. D.W. Ridgway: But you told us before you never read reports.\n",
      "I don't know why the Hon. Mr Wortley was unable to get a copy of the royal commission report.\n"
     ]
    }
   ],
   "source": [
    "print(summarize(text, ratio = 0.2)) #  TextRank summarization - use no more than 20% of original text for summary"
   ]
  },
  {
   "cell_type": "code",
   "execution_count": 13,
   "metadata": {
    "pycharm": {
     "is_executing": true
    }
   },
   "outputs": [
    {
     "data": {
      "text/plain": [
       "\"Adjourned debate on second reading..\\nAmendments to the Motor Vehicles Act clarify that deductions from concessional registration charges for people living in remote areas and from primary producers will be taken from the roads component rather than the regulatory component of the fees provided to the regulator's fund..\""
      ]
     },
     "execution_count": 13,
     "metadata": {},
     "output_type": "execute_result"
    }
   ],
   "source": [
    "summarize(grouped_text.iloc[4], word_count = 50)"
   ]
  },
  {
   "cell_type": "code",
   "execution_count": 14,
   "metadata": {
    "pycharm": {
     "is_executing": true
    }
   },
   "outputs": [
    {
     "data": {
      "text/plain": [
       "''"
      ]
     },
     "execution_count": 14,
     "metadata": {},
     "output_type": "execute_result"
    }
   ],
   "source": [
    "summarize(grouped_text.iloc[2], word_count = 50)"
   ]
  },
  {
   "cell_type": "code",
   "execution_count": null,
   "metadata": {
    "pycharm": {
     "is_executing": true
    }
   },
   "outputs": [],
   "source": [
    "def generate_textrank_summary(original_text):\n",
    "    sentences = []    \n",
    "    text = re.split(r'[?!.:] ', original_text)\n",
    "    \n",
    "    for sentence in text:\n",
    "        processed = sentence.replace(\"[^a-zA-Z]\", \" \")\n",
    "        word_count = len(re.findall(r'\\w+', processed)) \n",
    "        if word_count > 3: # Include sentences with more than three words\n",
    "            sentences.append(processed)\n",
    "    \n",
    "    text = '. '.join(sentences)\n",
    "    \n",
    "    if len(text) == 0 or \".\" not in text:\n",
    "        text = original__text\n",
    "    \n",
    "    summary = summarize(text)             \n",
    "    return summary.replace(\"\\n\",\" \").replace(\"..\",\".\")\n",
    "    \n",
    "#  TextRank summarization with no more than 50 words for the summary\n",
    "grouped_text_df['TextRankProcessed'] = grouped_text_df.apply(lambda x: generate_textrank_summary(x.text), axis=1)\n",
    "grouped_text_df.head(5)"
   ]
  },
  {
   "cell_type": "code",
   "execution_count": null,
   "metadata": {
    "pycharm": {
     "is_executing": true
    }
   },
   "outputs": [],
   "source": [
    "generate_textrank_summary(grouped_text.iloc[4])"
   ]
  },
  {
   "cell_type": "code",
   "execution_count": null,
   "metadata": {
    "pycharm": {
     "is_executing": true
    }
   },
   "outputs": [],
   "source": [
    "generate_textrank_summary(grouped_text.iloc[2])"
   ]
  },
  {
   "cell_type": "code",
   "execution_count": null,
   "metadata": {
    "pycharm": {
     "is_executing": true
    }
   },
   "outputs": [],
   "source": [
    "generate_textrank_summary(text)"
   ]
  },
  {
   "cell_type": "code",
   "execution_count": 15,
   "metadata": {
    "pycharm": {
     "is_executing": true
    }
   },
   "outputs": [
    {
     "name": "stderr",
     "output_type": "stream",
     "text": [
      "[nltk_data] Downloading package stopwords to\n",
      "[nltk_data]     C:\\Users\\noaka\\AppData\\Roaming\\nltk_data...\n",
      "[nltk_data]   Package stopwords is already up-to-date!\n"
     ]
    }
   ],
   "source": [
    "# https://towardsdatascience.com/understand-text-summarization-and-create-your-own-summarizer-in-python-b26a9f09fc70\n",
    "# Approach uses TextRank algorithm\n",
    "# TextRank does not rely on any previous training data and can work with any arbitrary piece of text. \n",
    "# TextRank is a general purpose graph-based ranking algorithm for NLP\n",
    "\n",
    "# Import all necessary libraries\n",
    "import os\n",
    "import nltk\n",
    "nltk.download('stopwords')\n",
    "from nltk.corpus import stopwords\n",
    "from nltk.cluster.util import cosine_distance\n",
    "import numpy as np\n",
    "import networkx as nx\n",
    "import re \n",
    "\n",
    "# Generate clean sentences\n",
    "def read_article(file_name, output=True):\n",
    "    file = open(file_name, \"r\")\n",
    "    filedata = file.readlines()\n",
    "    article = re.split(r'[?!.:] ', filedata[0])\n",
    "    return create_clean_sentences(article, output)\n",
    "\n",
    "def read_text(text, output=True):\n",
    "    article = re.split(r'[?!.:] ', text)\n",
    "    return create_clean_sentences(article, output)\n",
    "\n",
    "def create_clean_sentences(article, output=True):\n",
    "    sentences = []\n",
    "    \n",
    "    for sentence in article:\n",
    "        processed = sentence.replace(\"[^a-zA-Z]\", \" \")\n",
    "        word_count = len(re.findall(r'\\w+', processed)) \n",
    "        if word_count > 4: # Include sentences with more than five words\n",
    "            sentences.append(processed.split(\" \"))\n",
    "        if output: \n",
    "            print(sentence, \": words = \", word_count)\n",
    "    \n",
    "    #sentences.pop() \n",
    "    \n",
    "    return sentences   \n",
    "\n",
    "# Similarity matrix\n",
    "def sentence_similarity(sent1, sent2, stopwords=None):\n",
    "    if stopwords is None:\n",
    "        stopwords = []\n",
    " \n",
    "    sent1 = [w.lower() for w in sent1]\n",
    "    sent2 = [w.lower() for w in sent2]\n",
    " \n",
    "    all_words = list(set(sent1 + sent2))\n",
    " \n",
    "    vector1 = [0] * len(all_words)\n",
    "    vector2 = [0] * len(all_words)\n",
    " \n",
    "    # build the vector for the first sentence\n",
    "    for w in sent1:\n",
    "        if w in stopwords:\n",
    "            continue\n",
    "        vector1[all_words.index(w)] += 1\n",
    " \n",
    "    # build the vector for the second sentence\n",
    "    for w in sent2:\n",
    "        if w in stopwords:\n",
    "            continue\n",
    "        vector2[all_words.index(w)] += 1\n",
    " \n",
    "    return 1 - cosine_distance(vector1, vector2)\n",
    " \n",
    "def build_similarity_matrix(sentences, stop_words):\n",
    "    # Create an empty similarity matrix\n",
    "    similarity_matrix = np.zeros((len(sentences), len(sentences)))\n",
    " \n",
    "    for idx1 in range(len(sentences)):\n",
    "        for idx2 in range(len(sentences)):\n",
    "            if idx1 == idx2: #ignore if both are same sentences\n",
    "                continue \n",
    "            similarity_matrix[idx1][idx2] = sentence_similarity(sentences[idx1], sentences[idx2], stop_words)\n",
    "\n",
    "    return similarity_matrix\n",
    "\n",
    "# Generate Summary Method\n",
    "def generate_summary(file_name, text, top_n=5, output=True):\n",
    "    stop_words = stopwords.words('english')\n",
    "    summarize_text = []\n",
    "\n",
    "    # Step 1 - Read text and split it\n",
    "    sentences = \"\"\n",
    "    if file_name is not None:\n",
    "        sentences = read_article(file_name, output)\n",
    "    else:\n",
    "        sentences = read_text(text, output)\n",
    "\n",
    "    # Step 2 - Generate Similarly Matrix across sentences\n",
    "    sentence_similarity_martix = build_similarity_matrix(sentences, stop_words)\n",
    "\n",
    "    # Step 3 - Rank sentences in similarity matrix\n",
    "    sentence_similarity_graph = nx.from_numpy_array(sentence_similarity_martix)\n",
    "    try: \n",
    "        scores = nx.pagerank(sentence_similarity_graph, max_iter=100)\n",
    "    except nx.NetworkXError:\n",
    "        return \"\"\n",
    "    except nx.PowerIterationFailedConvergence:\n",
    "        return \"\"\n",
    "    \n",
    "    # Step 4 - Sort the rank and pick top sentences\n",
    "    ranked_sentence = sorted(((scores[i],s) for i,s in enumerate(sentences)), reverse=True)\n",
    "    if output:\n",
    "        print(\"Indexes of top ranked_sentence order are \", ranked_sentence)    \n",
    "\n",
    "    if len(ranked_sentence) < top_n:\n",
    "        top_n = len(ranked_sentence)\n",
    "        \n",
    "    for i in range(top_n):\n",
    "        summarize_text.append(\" \".join(ranked_sentence[i][1]))\n",
    "\n",
    "    # Step 5 - output the summary text        \n",
    "    return '. '.join(summarize_text).replace(\"..\",\".\")\n"
   ]
  },
  {
   "cell_type": "code",
   "execution_count": 16,
   "metadata": {
    "pycharm": {
     "is_executing": true
    }
   },
   "outputs": [
    {
     "data": {
      "text/plain": [
       "'This program also included developer-focused AI school that provided a bunch of assets to help build AI skills. Envisioned as a three-year collaborative program, Intelligent Cloud Hub will support around 100 institutions with AI infrastructure, course content and curriculum, developer support, development tools and give students access to cloud and AI services'"
      ]
     },
     "execution_count": 16,
     "metadata": {},
     "output_type": "execute_result"
    }
   ],
   "source": [
    "# let's begin\n",
    "generate_summary(os.getcwd() + \"\\\\test.txt\", None, 2, False)"
   ]
  },
  {
   "cell_type": "code",
   "execution_count": 17,
   "metadata": {
    "pycharm": {
     "is_executing": true
    }
   },
   "outputs": [
    {
     "data": {
      "text/plain": [
       "'This bill provides for the creation of a national heavy vehicle regulator. In particular, this bill amends the Highways Act and the Motor Vehicles Act so that South Australia can meet its obligations under the Heavy Vehicle National Law (South Australia) Act 2013, which contains the national law as a schedule'"
      ]
     },
     "execution_count": 17,
     "metadata": {},
     "output_type": "execute_result"
    }
   ],
   "source": [
    "generate_summary(None, grouped_text.iloc[4], 2, False)"
   ]
  },
  {
   "cell_type": "code",
   "execution_count": 18,
   "metadata": {
    "pycharm": {
     "is_executing": true
    }
   },
   "outputs": [
    {
     "name": "stdout",
     "output_type": "stream",
     "text": [
      "Statutes Amendment (Possession of Firearms and Prohibited Weapons) Bill : words =  9\n",
      "Assent : words =  1\n",
      "His Excellency the Governor assented to the bill. : words =  8\n",
      "Indexes of top ranked_sentence order are  [(0.5, ['Statutes', 'Amendment', '(Possession', 'of', 'Firearms', 'and', 'Prohibited', 'Weapons)', 'Bill']), (0.5, ['His', 'Excellency', 'the', 'Governor', 'assented', 'to', 'the', 'bill.'])]\n"
     ]
    },
    {
     "data": {
      "text/plain": [
       "'Statutes Amendment (Possession of Firearms and Prohibited Weapons) Bill. His Excellency the Governor assented to the bill.'"
      ]
     },
     "execution_count": 18,
     "metadata": {},
     "output_type": "execute_result"
    }
   ],
   "source": [
    "generate_summary(None, grouped_text.iloc[2], 2, True)"
   ]
  },
  {
   "cell_type": "code",
   "execution_count": 19,
   "metadata": {
    "pycharm": {
     "is_executing": true
    }
   },
   "outputs": [
    {
     "data": {
      "text/plain": [
       "\"Mr Wortley was unable to get a copy of the royal commission report. Mr Wortley saying he couldn't trust himself to read his own reports\""
      ]
     },
     "execution_count": 19,
     "metadata": {},
     "output_type": "execute_result"
    }
   ],
   "source": [
    "generate_summary(None, text, 2, False)"
   ]
  },
  {
   "cell_type": "code",
   "execution_count": null,
   "metadata": {
    "pycharm": {
     "is_executing": true
    }
   },
   "outputs": [
    {
     "name": "stderr",
     "output_type": "stream",
     "text": [
      "c:\\users\\noaka\\appdata\\local\\programs\\python\\python37-32\\lib\\site-packages\\nltk\\cluster\\util.py:133: RuntimeWarning: invalid value encountered in true_divide\n",
      "  return 1 - (numpy.dot(u, v) / (sqrt(numpy.dot(u, u)) * sqrt(numpy.dot(v, v))))\n"
     ]
    }
   ],
   "source": [
    "# Iterate over all text in data frame and add summary\n",
    "grouped_text_df['TextRankCustom'] = grouped_text_df.apply(lambda x: generate_summary(None, x.text, 2, False), axis=1)"
   ]
  },
  {
   "cell_type": "code",
   "execution_count": null,
   "metadata": {
    "pycharm": {
     "is_executing": true
    }
   },
   "outputs": [],
   "source": [
    "grouped_text_df.head(5)"
   ]
  },
  {
   "cell_type": "markdown",
   "metadata": {},
   "source": [
    "### Excel Output of Document Summaries"
   ]
  },
  {
   "cell_type": "code",
   "execution_count": null,
   "metadata": {
    "pycharm": {
     "is_executing": true
    }
   },
   "outputs": [],
   "source": [
    "grouped_text_df.to_excel('.\\\\DocumentSummary.xlsx', sheet_name='TextRank', index=True)"
   ]
  },
  {
   "cell_type": "code",
   "execution_count": null,
   "metadata": {
    "pycharm": {
     "is_executing": true
    }
   },
   "outputs": [],
   "source": []
  }
 ],
 "metadata": {
  "kernelspec": {
   "display_name": "Python 3",
   "language": "python",
   "name": "python3"
  },
  "language_info": {
   "codemirror_mode": {
    "name": "ipython",
    "version": 3
   },
   "file_extension": ".py",
   "mimetype": "text/x-python",
   "name": "python",
   "nbconvert_exporter": "python",
   "pygments_lexer": "ipython3",
   "version": "3.7.4"
  },
  "pycharm": {
   "stem_cell": {
    "cell_type": "raw",
    "metadata": {
     "collapsed": false
    },
    "source": []
   }
  }
 },
 "nbformat": 4,
 "nbformat_minor": 1
}
