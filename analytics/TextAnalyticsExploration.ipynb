{
 "cells": [
  {
   "cell_type": "markdown",
   "metadata": {},
   "source": [
    "# Text Analytics Exploration"
   ]
  },
  {
   "cell_type": "markdown",
   "metadata": {},
   "source": [
    "## Data"
   ]
  },
  {
   "cell_type": "code",
   "execution_count": 104,
   "metadata": {},
   "outputs": [],
   "source": [
    "from nltk.corpus import stopwords\n",
    "url = \"http://hansardpublic.parliament.sa.gov.au/Pages/HansardResult.aspx#/docid/HANSARD-10-25756\"\n",
    "text = \"When I tried to get a copy of the commissioner's report after being tabled, why was I basically told that there was a very limited— The PRESIDENT: This is a matter of personal explanation in a supplementary. Just please, the Hon. Mr Wortley, ask your supplementary. The Hon. R.P. WORTLEY: Why weren't all members of parliament given a copy of the royal commission's report? The Hon. D.W. Ridgway: But you told us before you never read reports. The Hon. R.I. LUCAS (Treasurer) (15:26): Mr President, I won't go down that particular path, as delicious as that interjection might have been in relation to the Hon. Mr Wortley saying he couldn't trust himself to read his own reports. I don't know why the Hon. Mr Wortley was unable to get a copy of the royal commission report. It was certainly publicly available. If it pleases the member, I will see whether there is not a spare copy somewhere. If we do find a spare copy and give it to him, I will be asking questions afterwards of the honourable member just to make sure he did read it. The Hon. D.W. Ridgway: Do you want it delivered to Scuzzi or something more convenient for you? The PRESIDENT: Are you finished, the Hon. Mr Ridgway? The Hon. R.P. WORTLEY: You just worry about our trade exports, mate, for the state. The PRESIDENT: The Hon. Mr Wortley, I am waiting patiently here to give you the call for your question. Have you finished your private conversation with the Hon. Mr Ridgway? Yes? The Hon. Mr Wortley.\"\n",
    "title = \"Murray-Darling Basin Royal Commission\""
   ]
  },
  {
   "cell_type": "code",
   "execution_count": 117,
   "metadata": {},
   "outputs": [
    {
     "data": {
      "text/plain": [
       "hansardID    object\n",
       "text         object\n",
       "dtype: object"
      ]
     },
     "execution_count": 117,
     "metadata": {},
     "output_type": "execute_result"
    }
   ],
   "source": [
    "# Import data from spreadsheet\n",
    "import pandas as pd\n",
    "import os\n",
    "\n",
    "#data = pd.read_excel (os.getcwd() + \"\\\\HANSARDfullDataset.xlsx\", sheet_name=\"text\")\n",
    "data = pd.read_excel (\"..\\\\data\\\\HANSARDfullDataset.xlsx\", sheet_name=\"text\")\n",
    "df = pd.DataFrame(data, columns= ['hansardID','text'])\n",
    "df = df.astype({\"hansardID\":'str', \"text\":'str'}) \n",
    "df.dtypes "
   ]
  },
  {
   "cell_type": "code",
   "execution_count": 118,
   "metadata": {},
   "outputs": [
    {
     "name": "stdout",
     "output_type": "stream",
     "text": [
      "hansardID\n",
      "HANSARD-10-21289.xml    Bills. Children and Young People (Safety) Bill...\n",
      "HANSARD-10-21290.xml    Sentencing Bill. Assent. His Excellency the Go...\n",
      "HANSARD-10-21291.xml    Statutes Amendment (Possession of Firearms and...\n",
      "HANSARD-10-21292.xml    Public Interest Disclosure Bill. Conference. T...\n",
      "HANSARD-10-21310.xml    Bills. Statutes Amendment (Heavy Vehicles Regi...\n",
      "                                              ...                        \n",
      "HANSARD-11-34941.xml    Child Protection Department. 930 Ms STINSON (B...\n",
      "HANSARD-11-34942.xml    Financial Counselling Service. 940 Ms STINSON ...\n",
      "HANSARD-11-34943.xml    Guardianship of the Chief Executive. 1008 Ms S...\n",
      "HANSARD-11-34944.xml    Guardianship of the Chief Executive. 1009 Ms S...\n",
      "HANSARD-11-34945.xml    Family Group Conferences. 1015 Ms STINSON (Bad...\n",
      "Name: text, Length: 8833, dtype: object\n"
     ]
    }
   ],
   "source": [
    "grouped_text = df.groupby('hansardID')['text'].agg(lambda col: '. '.join(col))\n",
    "print (grouped_text)"
   ]
  },
  {
   "cell_type": "code",
   "execution_count": 119,
   "metadata": {},
   "outputs": [
    {
     "data": {
      "text/plain": [
       "\"Bills. Statutes Amendment (Heavy Vehicles Registration Fees) Bill. Second Reading. Adjourned debate on second reading.. (Continued from 1 June 2017.). The Hon. J.M.A. LENSINK (16:35):  I rise to indicate opposition support for this bill, which is part of the harmonisation of national laws which relate to heavy vehicles. In particular, this bill amends the Highways Act and the Motor Vehicles Act so that South Australia can meet its obligations under the Heavy Vehicle National Law (South Australia) Act 2013, which contains the national law as a schedule. This bill provides for the creation of a national heavy vehicle regulator. For the benefit of readers, heavy vehicles are defined as trucks with a gross vehicle mass of 4.5 tonnes or more.. The section relating to registration of the national law has not commenced yet, so heavy vehicle registrations remain under state legislation; however, those jurisdictions which are participants, which I understand includes all states and territories except for the Northern Territory and WA, are governed by model law approved by the national Transport and Infrastructure Council, made up of state and territory ministers. Vehicle registration charges are currently calculated on the basis of road user charge and regulatory charge components.. Participating jurisdictions have agreed that the revenue which is collected will be transferred to the regulator to undertake its duties. Amendments to the Motor Vehicles Act clarify that deductions from concessional registration charges for people living in remote areas and from primary producers will be taken from the roads component rather than the regulatory component of the fees provided to the regulator's fund.. This bill is, in effect, a stopgap to cover arrangements until the other arrangements are completed. I am advised that registration fees will not increase, but a portion will be provided to the NHVR instead of going to the Highways Fund. With those comments, I commend the bill to the house.. Debate adjourned on motion of Hon. J.E. Hanson.\""
      ]
     },
     "execution_count": 119,
     "metadata": {},
     "output_type": "execute_result"
    }
   ],
   "source": [
    "grouped_text.iloc[4]"
   ]
  },
  {
   "cell_type": "markdown",
   "metadata": {},
   "source": [
    "## Document Summarisation"
   ]
  },
  {
   "cell_type": "markdown",
   "metadata": {},
   "source": [
    "Articles and libraries to look into further: \n",
    "* https://www.machinelearningplus.com/nlp/topic-modeling-gensim-python/\n",
    "* https://stackabuse.com/text-summarization-with-nltk-in-python/\n",
    "* https://github.com/alanbuxton/PyTeaserPython3\n",
    "* https://github.com/abisee/pointer-generator\n",
    "* https://github.com/DerwenAI/pytextrank\n",
    "* https://github.com/tensorflow/models/tree/master/research/textsum\n",
    "* https://radimrehurek.com/gensim/models/lsimodel.html\n",
    "* https://towardsdatascience.com/text-summarization-in-python-76c0a41f0dc4 (additional links to articles at the end)"
   ]
  },
  {
   "cell_type": "code",
   "execution_count": 99,
   "metadata": {},
   "outputs": [],
   "source": [
    "# The feature base model extracts the features of the sentence, then evaluate its importance\n",
    "# Feature base text summarization by TextTeaser\n",
    "#from pyteaser import SummarizeUrl\n",
    "#url = 'http://www.huffingtonpost.com/2013/11/22/twitter-forward-secrecy_n_4326599.html'\n",
    "#summaries = SummarizeUrl(url)\n",
    "#print summaries"
   ]
  },
  {
   "cell_type": "code",
   "execution_count": 100,
   "metadata": {
    "pycharm": {
     "is_executing": true,
     "name": "#%%\n"
    }
   },
   "outputs": [
    {
     "name": "stdout",
     "output_type": "stream",
     "text": [
      "The Hon. R.P. WORTLEY: Why weren't all members of parliament given a copy of the royal commission's report?\n",
      "The Hon. D.W. Ridgway: But you told us before you never read reports.\n",
      "I don't know why the Hon. Mr Wortley was unable to get a copy of the royal commission report.\n"
     ]
    }
   ],
   "source": [
    "#  TextRank summarization\n",
    "from gensim.summarization.summarizer import summarize\n",
    "print(summarize(text))"
   ]
  },
  {
   "cell_type": "code",
   "execution_count": 41,
   "metadata": {},
   "outputs": [],
   "source": [
    "# Topic Model summarisation\n",
    "from gensim.test.utils import common_dictionary, common_corpus\n",
    "from gensim.models import LsiModel\n",
    "model = LsiModel(common_corpus, id2word=common_dictionary)\n",
    "vectorized_corpus = model[common_corpus]\n",
    "#print(vectorized_corpus)\n",
    "#model.print_topics(1)"
   ]
  },
  {
   "cell_type": "code",
   "execution_count": 40,
   "metadata": {},
   "outputs": [],
   "source": [
    "# TextTeasor - automatic summarization algorithm that combines the power of natural language processing and machine learning\n",
    "#from textteaser import TextTeaser\n",
    "#tt = TextTeaser()\n",
    "#tt.summarize(title, text)"
   ]
  },
  {
   "cell_type": "code",
   "execution_count": 124,
   "metadata": {},
   "outputs": [
    {
     "name": "stderr",
     "output_type": "stream",
     "text": [
      "[nltk_data] Downloading package stopwords to\n",
      "[nltk_data]     C:\\Users\\noaka\\AppData\\Roaming\\nltk_data...\n",
      "[nltk_data]   Package stopwords is already up-to-date!\n"
     ]
    }
   ],
   "source": [
    "# https://towardsdatascience.com/understand-text-summarization-and-create-your-own-summarizer-in-python-b26a9f09fc70\n",
    "# Approach uses TextRank algorithm\n",
    "# TextRank does not rely on any previous training data and can work with any arbitrary piece of text. \n",
    "# TextRank is a general purpose graph-based ranking algorithm for NLP\n",
    "\n",
    "# Import all necessary libraries\n",
    "import os\n",
    "import nltk\n",
    "nltk.download('stopwords')\n",
    "from nltk.cluster.util import cosine_distance\n",
    "import numpy as np\n",
    "import networkx as nx\n",
    "\n",
    "# Generate clean sentences\n",
    "def read_article(file_name):\n",
    "    file = open(file_name, \"r\")\n",
    "    filedata = file.readlines()\n",
    "    article = filedata[0].split(\". \")\n",
    "    sentences = []\n",
    "\n",
    "    for sentence in article:\n",
    "        print(sentence)\n",
    "        sentences.append(sentence.replace(\"[^a-zA-Z]\", \" \").split(\" \"))\n",
    "    \n",
    "    sentences.pop() \n",
    "    \n",
    "    return sentences\n",
    "\n",
    "def read_text(text):\n",
    "    article = text.split(\". \")\n",
    "    sentences = []\n",
    "\n",
    "    for sentence in article:\n",
    "        print(sentence)\n",
    "        sentences.append(sentence.replace(\"[^a-zA-Z]\", \" \").split(\" \"))\n",
    "    \n",
    "    sentences.pop() \n",
    "    \n",
    "    return sentences\n",
    "    \n",
    "\n",
    "# Similarity matrix\n",
    "def sentence_similarity(sent1, sent2, stopwords=None):\n",
    "    if stopwords is None:\n",
    "        stopwords = []\n",
    " \n",
    "    sent1 = [w.lower() for w in sent1]\n",
    "    sent2 = [w.lower() for w in sent2]\n",
    " \n",
    "    all_words = list(set(sent1 + sent2))\n",
    " \n",
    "    vector1 = [0] * len(all_words)\n",
    "    vector2 = [0] * len(all_words)\n",
    " \n",
    "    # build the vector for the first sentence\n",
    "    for w in sent1:\n",
    "        if w in stopwords:\n",
    "            continue\n",
    "        vector1[all_words.index(w)] += 1\n",
    " \n",
    "    # build the vector for the second sentence\n",
    "    for w in sent2:\n",
    "        if w in stopwords:\n",
    "            continue\n",
    "        vector2[all_words.index(w)] += 1\n",
    " \n",
    "    return 1 - cosine_distance(vector1, vector2)\n",
    " \n",
    "def build_similarity_matrix(sentences, stop_words):\n",
    "    # Create an empty similarity matrix\n",
    "    similarity_matrix = np.zeros((len(sentences), len(sentences)))\n",
    " \n",
    "    for idx1 in range(len(sentences)):\n",
    "        for idx2 in range(len(sentences)):\n",
    "            if idx1 == idx2: #ignore if both are same sentences\n",
    "                continue \n",
    "            similarity_matrix[idx1][idx2] = sentence_similarity(sentences[idx1], sentences[idx2], stop_words)\n",
    "\n",
    "    return similarity_matrix\n",
    "\n",
    "# Generate Summary Method\n",
    "def generate_summary(file_name, text, top_n=5):\n",
    "    stop_words = stopwords.words('english')\n",
    "    summarize_text = []\n",
    "\n",
    "    # Step 1 - Read text and split it\n",
    "    sentences = \"\"\n",
    "    if (file_name is not None):\n",
    "        sentences =  read_article(file_name)\n",
    "    else:\n",
    "        sentences = read_text(text)\n",
    "\n",
    "    # Step 2 - Generate Similary Martix across sentences\n",
    "    sentence_similarity_martix = build_similarity_matrix(sentences, stop_words)\n",
    "\n",
    "    # Step 3 - Rank sentences in similarity martix\n",
    "    sentence_similarity_graph = nx.from_numpy_array(sentence_similarity_martix)\n",
    "    scores = nx.pagerank(sentence_similarity_graph)\n",
    "\n",
    "    # Step 4 - Sort the rank and pick top sentences\n",
    "    ranked_sentence = sorted(((scores[i],s) for i,s in enumerate(sentences)), reverse=True)    \n",
    "    print(\"Indexes of top ranked_sentence order are \", ranked_sentence)    \n",
    "\n",
    "    for i in range(top_n):\n",
    "        summarize_text.append(\" \".join(ranked_sentence[i][1]))\n",
    "\n",
    "    # Step 5 - Offcourse, output the summarize texr\n",
    "    print(\"Summarize Text: \\n\", \". \".join(summarize_text))\n"
   ]
  },
  {
   "cell_type": "code",
   "execution_count": 125,
   "metadata": {},
   "outputs": [
    {
     "name": "stdout",
     "output_type": "stream",
     "text": [
      "In an attempt to build an AI-ready workforce, Microsoft announced Intelligent Cloud Hub which has been launched to empower the next generation of students with AI-ready skills\n",
      "Envisioned as a three-year collaborative program, Intelligent Cloud Hub will support around 100 institutions with AI infrastructure, course content and curriculum, developer support, development tools and give students access to cloud and AI services\n",
      "As part of the program, the Redmond giant which wants to expand its reach and is planning to build a strong developer ecosystem in India with the program will set up the core AI infrastructure and IoT Hub for the selected campuses\n",
      "The company will provide AI development tools and Azure AI services such as Microsoft Cognitive Services, Bot Services and Azure Machine Learning.According to Manish Prakash, Country General Manager-PS, Health and Education, Microsoft India, said, \"With AI being the defining technology of our time, it is transforming lives and industry and the jobs of tomorrow will require a different skillset\n",
      "This will require more collaborations and training and working with AI\n",
      "That’s why it has become more critical than ever for educational institutions to integrate new cloud and AI technologies\n",
      "The program is an attempt to ramp up the institutional set-up and build capabilities among the educators to educate the workforce of tomorrow.\" The program aims to build up the cognitive skills and in-depth understanding of developing intelligent cloud connected solutions for applications across industry\n",
      "Earlier in April this year, the company announced Microsoft Professional Program In AI as a learning track open to the public\n",
      "The program was developed to provide job ready skills to programmers who wanted to hone their skills in AI and data science with a series of online courses which featured hands-on labs and expert instructors as well\n",
      "This program also included developer-focused AI school that provided a bunch of assets to help build AI skills.\n",
      "Indexes of top ranked_sentence order are  [(0.15083257041122708, ['Envisioned', 'as', 'a', 'three-year', 'collaborative', 'program,', 'Intelligent', 'Cloud', 'Hub', 'will', 'support', 'around', '100', 'institutions', 'with', 'AI', 'infrastructure,', 'course', 'content', 'and', 'curriculum,', 'developer', 'support,', 'development', 'tools', 'and', 'give', 'students', 'access', 'to', 'cloud', 'and', 'AI', 'services']), (0.13161201335715553, ['The', 'company', 'will', 'provide', 'AI', 'development', 'tools', 'and', 'Azure', 'AI', 'services', 'such', 'as', 'Microsoft', 'Cognitive', 'Services,', 'Bot', 'Services', 'and', 'Azure', 'Machine', 'Learning.According', 'to', 'Manish', 'Prakash,', 'Country', 'General', 'Manager-PS,', 'Health', 'and', 'Education,', 'Microsoft', 'India,', 'said,', '\"With', 'AI', 'being', 'the', 'defining', 'technology', 'of', 'our', 'time,', 'it', 'is', 'transforming', 'lives', 'and', 'industry', 'and', 'the', 'jobs', 'of', 'tomorrow', 'will', 'require', 'a', 'different', 'skillset']), (0.11403047674961146, ['Earlier', 'in', 'April', 'this', 'year,', 'the', 'company', 'announced', 'Microsoft', 'Professional', 'Program', 'In', 'AI', 'as', 'a', 'learning', 'track', 'open', 'to', 'the', 'public']), (0.10721749759953528, ['In', 'an', 'attempt', 'to', 'build', 'an', 'AI-ready', 'workforce,', 'Microsoft', 'announced', 'Intelligent', 'Cloud', 'Hub', 'which', 'has', 'been', 'launched', 'to', 'empower', 'the', 'next', 'generation', 'of', 'students', 'with', 'AI-ready', 'skills']), (0.10404298514456578, ['As', 'part', 'of', 'the', 'program,', 'the', 'Redmond', 'giant', 'which', 'wants', 'to', 'expand', 'its', 'reach', 'and', 'is', 'planning', 'to', 'build', 'a', 'strong', 'developer', 'ecosystem', 'in', 'India', 'with', 'the', 'program', 'will', 'set', 'up', 'the', 'core', 'AI', 'infrastructure', 'and', 'IoT', 'Hub', 'for', 'the', 'selected', 'campuses']), (0.10031366655994461, ['That’s', 'why', 'it', 'has', 'become', 'more', 'critical', 'than', 'ever', 'for', 'educational', 'institutions', 'to', 'integrate', 'new', 'cloud', 'and', 'AI', 'technologies']), (0.10001137283486655, ['The', 'program', 'is', 'an', 'attempt', 'to', 'ramp', 'up', 'the', 'institutional', 'set-up', 'and', 'build', 'capabilities', 'among', 'the', 'educators', 'to', 'educate', 'the', 'workforce', 'of', 'tomorrow.\"', 'The', 'program', 'aims', 'to', 'build', 'up', 'the', 'cognitive', 'skills', 'and', 'in-depth', 'understanding', 'of', 'developing', 'intelligent', 'cloud', 'connected', 'solutions', 'for', 'applications', 'across', 'industry']), (0.09916750119894317, ['This', 'will', 'require', 'more', 'collaborations', 'and', 'training', 'and', 'working', 'with', 'AI']), (0.09277191614415067, ['The', 'program', 'was', 'developed', 'to', 'provide', 'job', 'ready', 'skills', 'to', 'programmers', 'who', 'wanted', 'to', 'hone', 'their', 'skills', 'in', 'AI', 'and', 'data', 'science', 'with', 'a', 'series', 'of', 'online', 'courses', 'which', 'featured', 'hands-on', 'labs', 'and', 'expert', 'instructors', 'as', 'well'])]\n",
      "Summarize Text: \n",
      " Envisioned as a three-year collaborative program, Intelligent Cloud Hub will support around 100 institutions with AI infrastructure, course content and curriculum, developer support, development tools and give students access to cloud and AI services\n"
     ]
    }
   ],
   "source": [
    "# let's begin\n",
    "generate_summary(os.getcwd() + \"\\\\test.txt\", None, 1)"
   ]
  },
  {
   "cell_type": "code",
   "execution_count": 121,
   "metadata": {},
   "outputs": [
    {
     "name": "stdout",
     "output_type": "stream",
     "text": [
      "Bills\n",
      "Statutes Amendment (Heavy Vehicles Registration Fees) Bill\n",
      "Second Reading\n",
      "Adjourned debate on second reading.\n",
      "(Continued from 1 June 2017.)\n",
      "The Hon\n",
      "J.M.A\n",
      "LENSINK (16:35):  I rise to indicate opposition support for this bill, which is part of the harmonisation of national laws which relate to heavy vehicles\n",
      "In particular, this bill amends the Highways Act and the Motor Vehicles Act so that South Australia can meet its obligations under the Heavy Vehicle National Law (South Australia) Act 2013, which contains the national law as a schedule\n",
      "This bill provides for the creation of a national heavy vehicle regulator\n",
      "For the benefit of readers, heavy vehicles are defined as trucks with a gross vehicle mass of 4.5 tonnes or more.\n",
      "The section relating to registration of the national law has not commenced yet, so heavy vehicle registrations remain under state legislation; however, those jurisdictions which are participants, which I understand includes all states and territories except for the Northern Territory and WA, are governed by model law approved by the national Transport and Infrastructure Council, made up of state and territory ministers\n",
      "Vehicle registration charges are currently calculated on the basis of road user charge and regulatory charge components.\n",
      "Participating jurisdictions have agreed that the revenue which is collected will be transferred to the regulator to undertake its duties\n",
      "Amendments to the Motor Vehicles Act clarify that deductions from concessional registration charges for people living in remote areas and from primary producers will be taken from the roads component rather than the regulatory component of the fees provided to the regulator's fund.\n",
      "This bill is, in effect, a stopgap to cover arrangements until the other arrangements are completed\n",
      "I am advised that registration fees will not increase, but a portion will be provided to the NHVR instead of going to the Highways Fund\n",
      "With those comments, I commend the bill to the house.\n",
      "Debate adjourned on motion of Hon\n",
      "J.E\n",
      "Hanson.\n",
      "Indexes of top ranked_sentence order are  [(0.11324101732834928, ['This', 'bill', 'provides', 'for', 'the', 'creation', 'of', 'a', 'national', 'heavy', 'vehicle', 'regulator']), (0.09690903046934218, ['In', 'particular,', 'this', 'bill', 'amends', 'the', 'Highways', 'Act', 'and', 'the', 'Motor', 'Vehicles', 'Act', 'so', 'that', 'South', 'Australia', 'can', 'meet', 'its', 'obligations', 'under', 'the', 'Heavy', 'Vehicle', 'National', 'Law', '(South', 'Australia)', 'Act', '2013,', 'which', 'contains', 'the', 'national', 'law', 'as', 'a', 'schedule']), (0.08491392015171056, ['Debate', 'adjourned', 'on', 'motion', 'of', 'Hon']), (0.0844093279720143, ['Statutes', 'Amendment', '(Heavy', 'Vehicles', 'Registration', 'Fees)', 'Bill']), (0.0753580148365767, ['Adjourned', 'debate', 'on', 'second', 'reading.']), (0.06758546533723343, ['The', 'section', 'relating', 'to', 'registration', 'of', 'the', 'national', 'law', 'has', 'not', 'commenced', 'yet,', 'so', 'heavy', 'vehicle', 'registrations', 'remain', 'under', 'state', 'legislation;', 'however,', 'those', 'jurisdictions', 'which', 'are', 'participants,', 'which', 'I', 'understand', 'includes', 'all', 'states', 'and', 'territories', 'except', 'for', 'the', 'Northern', 'Territory', 'and', 'WA,', 'are', 'governed', 'by', 'model', 'law', 'approved', 'by', 'the', 'national', 'Transport', 'and', 'Infrastructure', 'Council,', 'made', 'up', 'of', 'state', 'and', 'territory', 'ministers']), (0.059425531989100285, ['For', 'the', 'benefit', 'of', 'readers,', 'heavy', 'vehicles', 'are', 'defined', 'as', 'trucks', 'with', 'a', 'gross', 'vehicle', 'mass', 'of', '4.5', 'tonnes', 'or', 'more.']), (0.05701365080731947, ['Amendments', 'to', 'the', 'Motor', 'Vehicles', 'Act', 'clarify', 'that', 'deductions', 'from', 'concessional', 'registration', 'charges', 'for', 'people', 'living', 'in', 'remote', 'areas', 'and', 'from', 'primary', 'producers', 'will', 'be', 'taken', 'from', 'the', 'roads', 'component', 'rather', 'than', 'the', 'regulatory', 'component', 'of', 'the', 'fees', 'provided', 'to', 'the', \"regulator's\", 'fund.']), (0.0554755517832767, ['LENSINK', '(16:35):', '', 'I', 'rise', 'to', 'indicate', 'opposition', 'support', 'for', 'this', 'bill,', 'which', 'is', 'part', 'of', 'the', 'harmonisation', 'of', 'national', 'laws', 'which', 'relate', 'to', 'heavy', 'vehicles']), (0.0482595048664857, ['Vehicle', 'registration', 'charges', 'are', 'currently', 'calculated', 'on', 'the', 'basis', 'of', 'road', 'user', 'charge', 'and', 'regulatory', 'charge', 'components.']), (0.047104229381846614, ['With', 'those', 'comments,', 'I', 'commend', 'the', 'bill', 'to', 'the', 'house.']), (0.045123912804071235, ['The', 'Hon']), (0.03759132951965964, ['I', 'am', 'advised', 'that', 'registration', 'fees', 'will', 'not', 'increase,', 'but', 'a', 'portion', 'will', 'be', 'provided', 'to', 'the', 'NHVR', 'instead', 'of', 'going', 'to', 'the', 'Highways', 'Fund']), (0.03643280181681639, ['This', 'bill', 'is,', 'in', 'effect,', 'a', 'stopgap', 'to', 'cover', 'arrangements', 'until', 'the', 'other', 'arrangements', 'are', 'completed']), (0.035568007488937375, ['Second', 'Reading']), (0.019444124572443718, ['Participating', 'jurisdictions', 'have', 'agreed', 'that', 'the', 'revenue', 'which', 'is', 'collected', 'will', 'be', 'transferred', 'to', 'the', 'regulator', 'to', 'undertake', 'its', 'duties']), (0.009036144718704155, ['J.M.A']), (0.009036144718704155, ['J.E']), (0.009036144718704155, ['Bills']), (0.009036144718704155, ['(Continued', 'from', '1', 'June', '2017.)'])]\n",
      "Summarize Text: \n",
      " This bill provides for the creation of a national heavy vehicle regulator. In particular, this bill amends the Highways Act and the Motor Vehicles Act so that South Australia can meet its obligations under the Heavy Vehicle National Law (South Australia) Act 2013, which contains the national law as a schedule\n"
     ]
    }
   ],
   "source": [
    "generate_summary(None, grouped_text.iloc[4], 2)"
   ]
  },
  {
   "cell_type": "code",
   "execution_count": 120,
   "metadata": {},
   "outputs": [
    {
     "name": "stdout",
     "output_type": "stream",
     "text": [
      "Statutes Amendment (Possession of Firearms and Prohibited Weapons) Bill\n",
      "Assent\n",
      "His Excellency the Governor assented to the bill.\n",
      "Indexes of top ranked_sentence order are  [(0.5, ['Statutes', 'Amendment', '(Possession', 'of', 'Firearms', 'and', 'Prohibited', 'Weapons)', 'Bill']), (0.5, ['Assent'])]\n",
      "Summarize Text: \n",
      " Statutes Amendment (Possession of Firearms and Prohibited Weapons) Bill. Assent\n"
     ]
    }
   ],
   "source": [
    "generate_summary(None, grouped_text.iloc[2], 2)"
   ]
  },
  {
   "cell_type": "code",
   "execution_count": null,
   "metadata": {},
   "outputs": [],
   "source": [
    "# Iterate over all text in data frame and add summary\n"
   ]
  }
 ],
 "metadata": {
  "kernelspec": {
   "display_name": "Python 3",
   "language": "python",
   "name": "python3"
  },
  "language_info": {
   "codemirror_mode": {
    "name": "ipython",
    "version": 3
   },
   "file_extension": ".py",
   "mimetype": "text/x-python",
   "name": "python",
   "nbconvert_exporter": "python",
   "pygments_lexer": "ipython3",
   "version": "3.7.4"
  },
  "pycharm": {
   "stem_cell": {
    "cell_type": "raw",
    "source": [],
    "metadata": {
     "collapsed": false
    }
   }
  }
 },
 "nbformat": 4,
 "nbformat_minor": 1
}