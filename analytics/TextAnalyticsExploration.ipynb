{
 "cells": [
  {
   "cell_type": "markdown",
   "metadata": {},
   "source": [
    "# Text Analytics Exploration"
   ]
  },
  {
   "cell_type": "markdown",
   "metadata": {},
   "source": [
    "## Data"
   ]
  },
  {
   "cell_type": "code",
   "execution_count": 13,
   "metadata": {
    "pycharm": {
     "is_executing": false
    }
   },
   "outputs": [],
   "source": [
    "url = \"http://hansardpublic.parliament.sa.gov.au/Pages/HansardResult.aspx#/docid/HANSARD-10-25756\"\n",
    "text = \"When I tried to get a copy of the commissioner's report after being tabled, why was I basically told that there was a very limited— The PRESIDENT: This is a matter of personal explanation in a supplementary. Just please, the Hon. Mr Wortley, ask your supplementary. The Hon. R.P. WORTLEY: Why weren't all members of parliament given a copy of the royal commission's report? The Hon. D.W. Ridgway: But you told us before you never read reports. The Hon. R.I. LUCAS (Treasurer) (15:26): Mr President, I won't go down that particular path, as delicious as that interjection might have been in relation to the Hon. Mr Wortley saying he couldn't trust himself to read his own reports. I don't know why the Hon. Mr Wortley was unable to get a copy of the royal commission report. It was certainly publicly available. If it pleases the member, I will see whether there is not a spare copy somewhere. If we do find a spare copy and give it to him, I will be asking questions afterwards of the honourable member just to make sure he did read it. The Hon. D.W. Ridgway: Do you want it delivered to Scuzzi or something more convenient for you? The PRESIDENT: Are you finished, the Hon. Mr Ridgway? The Hon. R.P. WORTLEY: You just worry about our trade exports, mate, for the state. The PRESIDENT: The Hon. Mr Wortley, I am waiting patiently here to give you the call for your question. Have you finished your private conversation with the Hon. Mr Ridgway? Yes? The Hon. Mr Wortley.\"\n",
    "title = \"Murray-Darling Basin Royal Commission\""
   ]
  },
  {
   "cell_type": "code",
   "execution_count": 14,
   "metadata": {
    "pycharm": {
     "is_executing": false
    }
   },
   "outputs": [
    {
     "data": {
      "text/plain": [
       "hansardID    object\n",
       "text         object\n",
       "dtype: object"
      ]
     },
     "execution_count": 14,
     "metadata": {},
     "output_type": "execute_result"
    }
   ],
   "source": [
    "# Import data from spreadsheet\n",
    "import pandas as pd\n",
    "import numpy as np\n",
    "import os\n",
    "\n",
    "#data = pd.read_excel (os.getcwd() + \"\\\\HANSARDfullDataset.xlsx\", sheet_name=\"text\")\n",
    "data = pd.read_excel (\"..\\\\data\\\\HANSARDfullDataset.xlsx\", sheet_name=\"text\")\n",
    "df = pd.DataFrame(data, columns= ['hansardID','text'])\n",
    "df = df.astype({\"hansardID\":'str', \"text\":'str'}) \n",
    "df.dtypes "
   ]
  },
  {
   "cell_type": "code",
   "execution_count": 15,
   "metadata": {
    "pycharm": {
     "is_executing": false
    }
   },
   "outputs": [
    {
     "data": {
      "text/plain": [
       "170275"
      ]
     },
     "execution_count": 15,
     "metadata": {},
     "output_type": "execute_result"
    }
   ],
   "source": [
    "len(df.index)"
   ]
  },
  {
   "cell_type": "code",
   "execution_count": 17,
   "metadata": {
    "pycharm": {
     "is_executing": false
    }
   },
   "outputs": [
    {
     "data": {
      "text/plain": [
       "170275"
      ]
     },
     "execution_count": 17,
     "metadata": {},
     "output_type": "execute_result"
    }
   ],
   "source": [
    "df['text'].replace('NULL', np.nan, inplace=True)\n",
    "df.dropna(subset=['text'], inplace=True)\n",
    "len(df.index)"
   ]
  },
  {
   "cell_type": "code",
   "execution_count": 49,
   "metadata": {
    "pycharm": {
     "is_executing": false
    }
   },
   "outputs": [
    {
     "name": "stdout",
     "output_type": "stream",
     "text": [
      "hansardID\n",
      "HANSARD-10-21289.xml    Bills. Children and Young People (Safety) Bill...\n",
      "HANSARD-10-21290.xml    Sentencing Bill. Assent. His Excellency the Go...\n",
      "HANSARD-10-21291.xml    Statutes Amendment (Possession of Firearms and...\n",
      "HANSARD-10-21292.xml    Public Interest Disclosure Bill. Conference. T...\n",
      "HANSARD-10-21310.xml    Bills. Statutes Amendment (Heavy Vehicles Regi...\n",
      "                                              ...                        \n",
      "HANSARD-11-34941.xml    Child Protection Department. 930 Ms STINSON (B...\n",
      "HANSARD-11-34942.xml    Financial Counselling Service. 940 Ms STINSON ...\n",
      "HANSARD-11-34943.xml    Guardianship of the Chief Executive. 1008 Ms S...\n",
      "HANSARD-11-34944.xml    Guardianship of the Chief Executive. 1009 Ms S...\n",
      "HANSARD-11-34945.xml    Family Group Conferences. 1015 Ms STINSON (Bad...\n",
      "Name: text, Length: 8833, dtype: object\n"
     ]
    }
   ],
   "source": [
    "# Group text into one document\n",
    "grouped_text = df.groupby('hansardID')['text'].agg(lambda col: '. '.join(col))\n",
    "grouped_text_df = pd.DataFrame(grouped_text, columns= ['text'])\n",
    "print (grouped_text)"
   ]
  },
  {
   "cell_type": "code",
   "execution_count": 50,
   "metadata": {
    "pycharm": {
     "is_executing": false
    }
   },
   "outputs": [
    {
     "data": {
      "text/plain": [
       "\"Bills. Statutes Amendment (Heavy Vehicles Registration Fees) Bill. Second Reading. Adjourned debate on second reading.. (Continued from 1 June 2017.). The Hon. J.M.A. LENSINK (16:35):  I rise to indicate opposition support for this bill, which is part of the harmonisation of national laws which relate to heavy vehicles. In particular, this bill amends the Highways Act and the Motor Vehicles Act so that South Australia can meet its obligations under the Heavy Vehicle National Law (South Australia) Act 2013, which contains the national law as a schedule. This bill provides for the creation of a national heavy vehicle regulator. For the benefit of readers, heavy vehicles are defined as trucks with a gross vehicle mass of 4.5 tonnes or more.. The section relating to registration of the national law has not commenced yet, so heavy vehicle registrations remain under state legislation; however, those jurisdictions which are participants, which I understand includes all states and territories except for the Northern Territory and WA, are governed by model law approved by the national Transport and Infrastructure Council, made up of state and territory ministers. Vehicle registration charges are currently calculated on the basis of road user charge and regulatory charge components.. Participating jurisdictions have agreed that the revenue which is collected will be transferred to the regulator to undertake its duties. Amendments to the Motor Vehicles Act clarify that deductions from concessional registration charges for people living in remote areas and from primary producers will be taken from the roads component rather than the regulatory component of the fees provided to the regulator's fund.. This bill is, in effect, a stopgap to cover arrangements until the other arrangements are completed. I am advised that registration fees will not increase, but a portion will be provided to the NHVR instead of going to the Highways Fund. With those comments, I commend the bill to the house.. Debate adjourned on motion of Hon. J.E. Hanson.\""
      ]
     },
     "execution_count": 50,
     "metadata": {},
     "output_type": "execute_result"
    }
   ],
   "source": [
    "grouped_text.iloc[4]"
   ]
  },
  {
   "cell_type": "markdown",
   "metadata": {},
   "source": [
    "## Document Summarisation"
   ]
  },
  {
   "cell_type": "markdown",
   "metadata": {},
   "source": [
    "Articles and libraries to look into further: \n",
    "* https://www.machinelearningplus.com/nlp/topic-modeling-gensim-python/\n",
    "* https://stackabuse.com/text-summarization-with-nltk-in-python/\n",
    "* https://github.com/alanbuxton/PyTeaserPython3\n",
    "* https://github.com/abisee/pointer-generator\n",
    "* https://github.com/DerwenAI/pytextrank\n",
    "* https://github.com/tensorflow/models/tree/master/research/textsum\n",
    "* https://radimrehurek.com/gensim/models/lsimodel.html\n",
    "* https://towardsdatascience.com/text-summarization-in-python-76c0a41f0dc4 (additional links to articles at the end)"
   ]
  },
  {
   "cell_type": "code",
   "execution_count": 7,
   "metadata": {
    "pycharm": {
     "is_executing": false
    }
   },
   "outputs": [],
   "source": [
    "# The feature base model extracts the features of the sentence, then evaluate its importance\n",
    "# Feature base text summarization by TextTeaser\n",
    "#from pyteaser import SummarizeUrl\n",
    "#url = 'http://www.huffingtonpost.com/2013/11/22/twitter-forward-secrecy_n_4326599.html'\n",
    "#summaries = SummarizeUrl(url)\n",
    "#print summaries"
   ]
  },
  {
   "cell_type": "code",
   "execution_count": 8,
   "metadata": {
    "pycharm": {
     "is_executing": false,
     "name": "#%%\n"
    }
   },
   "outputs": [
    {
     "name": "stdout",
     "output_type": "stream",
     "text": [
      "The Hon. R.P. WORTLEY: Why weren't all members of parliament given a copy of the royal commission's report?\n",
      "The Hon. D.W. Ridgway: But you told us before you never read reports.\n",
      "I don't know why the Hon. Mr Wortley was unable to get a copy of the royal commission report.\n"
     ]
    }
   ],
   "source": [
    "#  TextRank summarization\n",
    "from gensim.summarization.summarizer import summarize\n",
    "print(summarize(text))"
   ]
  },
  {
   "cell_type": "code",
   "execution_count": 9,
   "metadata": {
    "pycharm": {
     "is_executing": false
    }
   },
   "outputs": [],
   "source": [
    "# Topic Model summarisation\n",
    "from gensim.test.utils import common_dictionary, common_corpus\n",
    "from gensim.models import LsiModel\n",
    "model = LsiModel(common_corpus, id2word=common_dictionary)\n",
    "vectorized_corpus = model[common_corpus]\n",
    "#print(vectorized_corpus)\n",
    "#model.print_topics(1)"
   ]
  },
  {
   "cell_type": "code",
   "execution_count": 10,
   "metadata": {
    "pycharm": {
     "is_executing": false
    }
   },
   "outputs": [],
   "source": [
    "# TextTeasor - automatic summarization algorithm that combines the power of natural language processing and machine learning\n",
    "#from textteaser import TextTeaser\n",
    "#tt = TextTeaser()\n",
    "#tt.summarize(title, text)"
   ]
  },
  {
   "cell_type": "code",
   "execution_count": 61,
   "metadata": {
    "pycharm": {
     "is_executing": false
    }
   },
   "outputs": [
    {
     "name": "stderr",
     "output_type": "stream",
     "text": [
      "[nltk_data] Downloading package stopwords to\n",
      "[nltk_data]     C:\\Users\\noaka\\AppData\\Roaming\\nltk_data...\n",
      "[nltk_data]   Package stopwords is already up-to-date!\n"
     ]
    }
   ],
   "source": [
    "# https://towardsdatascience.com/understand-text-summarization-and-create-your-own-summarizer-in-python-b26a9f09fc70\n",
    "# Approach uses TextRank algorithm\n",
    "# TextRank does not rely on any previous training data and can work with any arbitrary piece of text. \n",
    "# TextRank is a general purpose graph-based ranking algorithm for NLP\n",
    "\n",
    "# Import all necessary libraries\n",
    "import os\n",
    "import nltk\n",
    "nltk.download('stopwords')\n",
    "from nltk.corpus import stopwords\n",
    "from nltk.cluster.util import cosine_distance\n",
    "import numpy as np\n",
    "import networkx as nx\n",
    "import re \n",
    "\n",
    "# Generate clean sentences\n",
    "def read_article(file_name, output=True):\n",
    "    file = open(file_name, \"r\")\n",
    "    filedata = file.readlines()\n",
    "    article = filedata[0].split(\". \")\n",
    "    return create_clean_sentences(article, output)\n",
    "\n",
    "def read_text(text, output=True):\n",
    "    article = text.split(\". \")\n",
    "    return create_clean_sentences(article, output)\n",
    "\n",
    "def create_clean_sentences(article, output=True):\n",
    "    sentences = []\n",
    "    \n",
    "    for sentence in article:\n",
    "        processed = sentence.replace(\"[^a-zA-Z]\", \" \")\n",
    "        word_count = len(re.findall(r'\\w+', processed)) \n",
    "        if word_count > 2: # Include sentences with more than two words\n",
    "            sentences.append(processed.split(\" \"))\n",
    "        if output: \n",
    "            print(sentence, \": words = \", word_count)\n",
    "    \n",
    "    #sentences.pop() \n",
    "    \n",
    "    return sentences   \n",
    "\n",
    "# Similarity matrix\n",
    "def sentence_similarity(sent1, sent2, stopwords=None):\n",
    "    if stopwords is None:\n",
    "        stopwords = []\n",
    " \n",
    "    sent1 = [w.lower() for w in sent1]\n",
    "    sent2 = [w.lower() for w in sent2]\n",
    " \n",
    "    all_words = list(set(sent1 + sent2))\n",
    " \n",
    "    vector1 = [0] * len(all_words)\n",
    "    vector2 = [0] * len(all_words)\n",
    " \n",
    "    # build the vector for the first sentence\n",
    "    for w in sent1:\n",
    "        if w in stopwords:\n",
    "            continue\n",
    "        vector1[all_words.index(w)] += 1\n",
    " \n",
    "    # build the vector for the second sentence\n",
    "    for w in sent2:\n",
    "        if w in stopwords:\n",
    "            continue\n",
    "        vector2[all_words.index(w)] += 1\n",
    " \n",
    "    return 1 - cosine_distance(vector1, vector2)\n",
    " \n",
    "def build_similarity_matrix(sentences, stop_words):\n",
    "    # Create an empty similarity matrix\n",
    "    similarity_matrix = np.zeros((len(sentences), len(sentences)))\n",
    " \n",
    "    for idx1 in range(len(sentences)):\n",
    "        for idx2 in range(len(sentences)):\n",
    "            if idx1 == idx2: #ignore if both are same sentences\n",
    "                continue \n",
    "            similarity_matrix[idx1][idx2] = sentence_similarity(sentences[idx1], sentences[idx2], stop_words)\n",
    "\n",
    "    return similarity_matrix\n",
    "\n",
    "# Generate Summary Method\n",
    "def generate_summary(file_name, text, top_n=5, output=True):\n",
    "    stop_words = stopwords.words('english')\n",
    "    summarize_text = []\n",
    "\n",
    "    # Step 1 - Read text and split it\n",
    "    sentences = \"\"\n",
    "    if file_name is not None:\n",
    "        sentences = read_article(file_name, output)\n",
    "    else:\n",
    "        sentences = read_text(text, output)\n",
    "\n",
    "    # Step 2 - Generate Similarly Matrix across sentences\n",
    "    sentence_similarity_martix = build_similarity_matrix(sentences, stop_words)\n",
    "\n",
    "    # Step 3 - Rank sentences in similarity matrix\n",
    "    sentence_similarity_graph = nx.from_numpy_array(sentence_similarity_martix)\n",
    "    try: \n",
    "        scores = nx.pagerank(sentence_similarity_graph, max_iter=200)\n",
    "    except nx.NetworkXError:\n",
    "        return \"\"\n",
    "    except nx.PowerIterationFailedConvergence:\n",
    "        return \"\"\n",
    "    \n",
    "    # Step 4 - Sort the rank and pick top sentences\n",
    "    ranked_sentence = sorted(((scores[i],s) for i,s in enumerate(sentences)), reverse=True)\n",
    "    if output:\n",
    "        print(\"Indexes of top ranked_sentence order are \", ranked_sentence)    \n",
    "\n",
    "    if len(ranked_sentence) < top_n:\n",
    "        top_n = len(ranked_sentence)\n",
    "        \n",
    "    for i in range(top_n):\n",
    "        summarize_text.append(\" \".join(ranked_sentence[i][1]))\n",
    "\n",
    "    # Step 5 - output the summary text\n",
    "    if output: \n",
    "        print(\"Summary Text: \\n\", \". \".join(summarize_text))\n",
    "        \n",
    "    return '. '.join(summarize_text)\n"
   ]
  },
  {
   "cell_type": "code",
   "execution_count": 62,
   "metadata": {
    "pycharm": {
     "is_executing": false
    }
   },
   "outputs": [
    {
     "data": {
      "text/plain": [
       "'This program also included developer-focused AI school that provided a bunch of assets to help build AI skills.. Envisioned as a three-year collaborative program, Intelligent Cloud Hub will support around 100 institutions with AI infrastructure, course content and curriculum, developer support, development tools and give students access to cloud and AI services'"
      ]
     },
     "execution_count": 62,
     "metadata": {},
     "output_type": "execute_result"
    }
   ],
   "source": [
    "# let's begin\n",
    "generate_summary(os.getcwd() + \"\\\\test.txt\", None, 2, False)"
   ]
  },
  {
   "cell_type": "code",
   "execution_count": 63,
   "metadata": {
    "pycharm": {
     "is_executing": false
    }
   },
   "outputs": [
    {
     "name": "stdout",
     "output_type": "stream",
     "text": [
      "Bills : words =  1\n",
      "Statutes Amendment (Heavy Vehicles Registration Fees) Bill : words =  7\n",
      "Second Reading : words =  2\n",
      "Adjourned debate on second reading. : words =  5\n",
      "(Continued from 1 June 2017.) : words =  5\n",
      "The Hon : words =  2\n",
      "J.M.A : words =  3\n",
      "LENSINK (16:35):  I rise to indicate opposition support for this bill, which is part of the harmonisation of national laws which relate to heavy vehicles : words =  26\n",
      "In particular, this bill amends the Highways Act and the Motor Vehicles Act so that South Australia can meet its obligations under the Heavy Vehicle National Law (South Australia) Act 2013, which contains the national law as a schedule : words =  39\n",
      "This bill provides for the creation of a national heavy vehicle regulator : words =  12\n",
      "For the benefit of readers, heavy vehicles are defined as trucks with a gross vehicle mass of 4.5 tonnes or more. : words =  22\n",
      "The section relating to registration of the national law has not commenced yet, so heavy vehicle registrations remain under state legislation; however, those jurisdictions which are participants, which I understand includes all states and territories except for the Northern Territory and WA, are governed by model law approved by the national Transport and Infrastructure Council, made up of state and territory ministers : words =  62\n",
      "Vehicle registration charges are currently calculated on the basis of road user charge and regulatory charge components. : words =  17\n",
      "Participating jurisdictions have agreed that the revenue which is collected will be transferred to the regulator to undertake its duties : words =  20\n",
      "Amendments to the Motor Vehicles Act clarify that deductions from concessional registration charges for people living in remote areas and from primary producers will be taken from the roads component rather than the regulatory component of the fees provided to the regulator's fund. : words =  44\n",
      "This bill is, in effect, a stopgap to cover arrangements until the other arrangements are completed : words =  16\n",
      "I am advised that registration fees will not increase, but a portion will be provided to the NHVR instead of going to the Highways Fund : words =  25\n",
      "With those comments, I commend the bill to the house. : words =  10\n",
      "Debate adjourned on motion of Hon : words =  6\n",
      "J.E : words =  2\n",
      "Hanson. : words =  1\n",
      "Indexes of top ranked_sentence order are  [(0.13145470557749858, ['This', 'bill', 'provides', 'for', 'the', 'creation', 'of', 'a', 'national', 'heavy', 'vehicle', 'regulator']), (0.11249575487351725, ['In', 'particular,', 'this', 'bill', 'amends', 'the', 'Highways', 'Act', 'and', 'the', 'Motor', 'Vehicles', 'Act', 'so', 'that', 'South', 'Australia', 'can', 'meet', 'its', 'obligations', 'under', 'the', 'Heavy', 'Vehicle', 'National', 'Law', '(South', 'Australia)', 'Act', '2013,', 'which', 'contains', 'the', 'national', 'law', 'as', 'a', 'schedule']), (0.09798566984738552, ['Statutes', 'Amendment', '(Heavy', 'Vehicles', 'Registration', 'Fees)', 'Bill']), (0.07845587834536462, ['The', 'section', 'relating', 'to', 'registration', 'of', 'the', 'national', 'law', 'has', 'not', 'commenced', 'yet,', 'so', 'heavy', 'vehicle', 'registrations', 'remain', 'under', 'state', 'legislation;', 'however,', 'those', 'jurisdictions', 'which', 'are', 'participants,', 'which', 'I', 'understand', 'includes', 'all', 'states', 'and', 'territories', 'except', 'for', 'the', 'Northern', 'Territory', 'and', 'WA,', 'are', 'governed', 'by', 'model', 'law', 'approved', 'by', 'the', 'national', 'Transport', 'and', 'Infrastructure', 'Council,', 'made', 'up', 'of', 'state', 'and', 'territory', 'ministers']), (0.06993006992992518, ['Debate', 'adjourned', 'on', 'motion', 'of', 'Hon']), (0.06993006992992518, ['Adjourned', 'debate', 'on', 'second', 'reading.']), (0.06898347100934325, ['For', 'the', 'benefit', 'of', 'readers,', 'heavy', 'vehicles', 'are', 'defined', 'as', 'trucks', 'with', 'a', 'gross', 'vehicle', 'mass', 'of', '4.5', 'tonnes', 'or', 'more.']), (0.066183719190189, ['Amendments', 'to', 'the', 'Motor', 'Vehicles', 'Act', 'clarify', 'that', 'deductions', 'from', 'concessional', 'registration', 'charges', 'for', 'people', 'living', 'in', 'remote', 'areas', 'and', 'from', 'primary', 'producers', 'will', 'be', 'taken', 'from', 'the', 'roads', 'component', 'rather', 'than', 'the', 'regulatory', 'component', 'of', 'the', 'fees', 'provided', 'to', 'the', \"regulator's\", 'fund.']), (0.0643981740119026, ['LENSINK', '(16:35):', '', 'I', 'rise', 'to', 'indicate', 'opposition', 'support', 'for', 'this', 'bill,', 'which', 'is', 'part', 'of', 'the', 'harmonisation', 'of', 'national', 'laws', 'which', 'relate', 'to', 'heavy', 'vehicles']), (0.05602149627177327, ['Vehicle', 'registration', 'charges', 'are', 'currently', 'calculated', 'on', 'the', 'basis', 'of', 'road', 'user', 'charge', 'and', 'regulatory', 'charge', 'components.']), (0.054680400793123446, ['With', 'those', 'comments,', 'I', 'commend', 'the', 'bill', 'to', 'the', 'house.']), (0.04363747014864536, ['I', 'am', 'advised', 'that', 'registration', 'fees', 'will', 'not', 'increase,', 'but', 'a', 'portion', 'will', 'be', 'provided', 'to', 'the', 'NHVR', 'instead', 'of', 'going', 'to', 'the', 'Highways', 'Fund']), (0.042292616832304064, ['This', 'bill', 'is,', 'in', 'effect,', 'a', 'stopgap', 'to', 'cover', 'arrangements', 'until', 'the', 'other', 'arrangements', 'are', 'completed']), (0.022571482258055366, ['Participating', 'jurisdictions', 'have', 'agreed', 'that', 'the', 'revenue', 'which', 'is', 'collected', 'will', 'be', 'transferred', 'to', 'the', 'regulator', 'to', 'undertake', 'its', 'duties']), (0.010489510490523725, ['J.M.A']), (0.010489510490523725, ['(Continued', 'from', '1', 'June', '2017.)'])]\n",
      "Summary Text: \n",
      " This bill provides for the creation of a national heavy vehicle regulator. In particular, this bill amends the Highways Act and the Motor Vehicles Act so that South Australia can meet its obligations under the Heavy Vehicle National Law (South Australia) Act 2013, which contains the national law as a schedule\n"
     ]
    },
    {
     "data": {
      "text/plain": [
       "'This bill provides for the creation of a national heavy vehicle regulator. In particular, this bill amends the Highways Act and the Motor Vehicles Act so that South Australia can meet its obligations under the Heavy Vehicle National Law (South Australia) Act 2013, which contains the national law as a schedule'"
      ]
     },
     "execution_count": 63,
     "metadata": {},
     "output_type": "execute_result"
    }
   ],
   "source": [
    "generate_summary(None, grouped_text.iloc[4], 2)"
   ]
  },
  {
   "cell_type": "code",
   "execution_count": 64,
   "metadata": {
    "pycharm": {
     "is_executing": false
    }
   },
   "outputs": [
    {
     "name": "stdout",
     "output_type": "stream",
     "text": [
      "Statutes Amendment (Possession of Firearms and Prohibited Weapons) Bill : words =  9\n",
      "Assent : words =  1\n",
      "His Excellency the Governor assented to the bill. : words =  8\n",
      "Indexes of top ranked_sentence order are  [(0.5, ['Statutes', 'Amendment', '(Possession', 'of', 'Firearms', 'and', 'Prohibited', 'Weapons)', 'Bill']), (0.5, ['His', 'Excellency', 'the', 'Governor', 'assented', 'to', 'the', 'bill.'])]\n",
      "Summary Text: \n",
      " Statutes Amendment (Possession of Firearms and Prohibited Weapons) Bill. His Excellency the Governor assented to the bill.\n"
     ]
    },
    {
     "data": {
      "text/plain": [
       "'Statutes Amendment (Possession of Firearms and Prohibited Weapons) Bill. His Excellency the Governor assented to the bill.'"
      ]
     },
     "execution_count": 64,
     "metadata": {},
     "output_type": "execute_result"
    }
   ],
   "source": [
    "generate_summary(None, grouped_text.iloc[2], 2, True)"
   ]
  },
  {
   "cell_type": "code",
   "execution_count": null,
   "metadata": {
    "pycharm": {
     "is_executing": false
    }
   },
   "outputs": [],
   "source": [
    "# Iterate over all text in data frame and add summary\n",
    "new_df = grouped_text_df\n",
    "new_df['textrank'] = grouped_text_df.apply(lambda x: generate_summary(None, x.text, 2, False), axis=1)"
   ]
  },
  {
   "cell_type": "code",
   "execution_count": null,
   "metadata": {
    "pycharm": {
     "is_executing": false
    }
   },
   "outputs": [],
   "source": [
    "new_df.dtypes"
   ]
  },
  {
   "cell_type": "code",
   "execution_count": 43,
   "metadata": {
    "pycharm": {
     "is_executing": false
    }
   },
   "outputs": [],
   "source": [
    "new_df.to_excel('.\\\\DocumentSummary.xlsx', sheet_name='TextRank', index=True)"
   ]
  },
  {
   "cell_type": "code",
   "execution_count": null,
   "metadata": {},
   "outputs": [],
   "source": []
  }
 ],
 "metadata": {
  "kernelspec": {
   "display_name": "Python 3",
   "language": "python",
   "name": "python3"
  },
  "language_info": {
   "codemirror_mode": {
    "name": "ipython",
    "version": 3
   },
   "file_extension": ".py",
   "mimetype": "text/x-python",
   "name": "python",
   "nbconvert_exporter": "python",
   "pygments_lexer": "ipython3",
   "version": "3.7.4"
  },
  "pycharm": {
   "stem_cell": {
    "cell_type": "raw",
    "metadata": {
     "collapsed": false
    },
    "source": []
   }
  }
 },
 "nbformat": 4,
 "nbformat_minor": 1
}
