{
 "cells": [
  {
   "cell_type": "markdown",
   "metadata": {
    "collapsed": true,
    "pycharm": {
     "is_executing": false
    }
   },
   "source": [
    "# Key Term Search"
   ]
  },
  {
   "cell_type": "markdown",
   "metadata": {},
   "source": [
    "This notebook contains Python code for searching for key terms of the three audit teams: Performance; Local Government; and ICT."
   ]
  },
  {
   "cell_type": "markdown",
   "metadata": {},
   "source": [
    "## Import Data"
   ]
  },
  {
   "cell_type": "code",
   "execution_count": 9,
   "metadata": {
    "pycharm": {
     "is_executing": false
    }
   },
   "outputs": [],
   "source": [
    "import pandas as pd\n",
    "import numpy as np\n",
    "import time"
   ]
  },
  {
   "cell_type": "code",
   "execution_count": 10,
   "metadata": {
    "pycharm": {
     "is_executing": true
    }
   },
   "outputs": [
    {
     "data": {
      "text/html": [
       "<div>\n",
       "<style scoped>\n",
       "    .dataframe tbody tr th:only-of-type {\n",
       "        vertical-align: middle;\n",
       "    }\n",
       "\n",
       "    .dataframe tbody tr th {\n",
       "        vertical-align: top;\n",
       "    }\n",
       "\n",
       "    .dataframe thead th {\n",
       "        text-align: right;\n",
       "    }\n",
       "</style>\n",
       "<table border=\"1\" class=\"dataframe\">\n",
       "  <thead>\n",
       "    <tr style=\"text-align: right;\">\n",
       "      <th></th>\n",
       "      <th>HansardID</th>\n",
       "      <th>TextID</th>\n",
       "      <th>Text</th>\n",
       "      <th>TextLower</th>\n",
       "    </tr>\n",
       "  </thead>\n",
       "  <tbody>\n",
       "    <tr>\n",
       "      <td>0</td>\n",
       "      <td>HANSARD-10-26147.xml</td>\n",
       "      <td>201903209d1c421954fd410090000001</td>\n",
       "      <td>Climate Change</td>\n",
       "      <td>climate change</td>\n",
       "    </tr>\n",
       "    <tr>\n",
       "      <td>1</td>\n",
       "      <td>HANSARD-10-26147.xml</td>\n",
       "      <td>201903209d1c421954fd410090000002</td>\n",
       "      <td>The Hon. M.C. PARNELL (14:55):  I seek leave t...</td>\n",
       "      <td>the hon. m.c. parnell (14:55):  i seek leave t...</td>\n",
       "    </tr>\n",
       "  </tbody>\n",
       "</table>\n",
       "</div>"
      ],
      "text/plain": [
       "              HansardID                            TextID  \\\n",
       "0  HANSARD-10-26147.xml  201903209d1c421954fd410090000001   \n",
       "1  HANSARD-10-26147.xml  201903209d1c421954fd410090000002   \n",
       "\n",
       "                                                Text  \\\n",
       "0                                     Climate Change   \n",
       "1  The Hon. M.C. PARNELL (14:55):  I seek leave t...   \n",
       "\n",
       "                                           TextLower  \n",
       "0                                     climate change  \n",
       "1  the hon. m.c. parnell (14:55):  i seek leave t...  "
      ]
     },
     "execution_count": 10,
     "metadata": {},
     "output_type": "execute_result"
    }
   ],
   "source": [
    "# Import data from spreadsheet\n",
    "data = pd.read_excel (\"..\\\\data\\\\Hansard22102019.xlsx\", sheet_name=\"Text\")\n",
    "text = pd.DataFrame(data, columns= ['HansardID','TextID','Text'])\n",
    "text = text.astype({\"HansardID\":'str', \"TextID\":'str', \"Text\":'str'}) \n",
    "text['TextLower'] = text.Text.str.lower() # Convert to lowercase\n",
    "\n",
    "text.head(2)"
   ]
  },
  {
   "cell_type": "code",
   "execution_count": 22,
   "metadata": {
    "pycharm": {
     "is_executing": true
    }
   },
   "outputs": [],
   "source": [
    "def process_term(term):\n",
    "    if \"?=.*\" in term:      \n",
    "        # Search for terms separated by any text and in any order\n",
    "        term = r'(?=.*\\b' + term + r'\\b)'\n",
    "    elif not term:\n",
    "        # Term does not exist and should not be processed further\n",
    "        return \"\" \n",
    "    else:\n",
    "        # Search for term as a whole word    \n",
    "        term = r'\\b(' + term + ')' + r'\\b' # \\b word boundary\n",
    "    \n",
    "    return term\n",
    "\n",
    "def process_terms(terms):\n",
    "\n",
    "    # https://docs.microsoft.com/en-us/dotnet/standard/base-types/quantifiers-in-regular-expressions\n",
    "    # http://www.rexegg.com/regex-quickstart.html\n",
    "        \n",
    "    processed = terms.str.lower() # Convert to lowercase\n",
    "    processed = processed.str.strip() # Trim any whitespace from ends\n",
    "        \n",
    "    # Search for terms separated by '+' in any order: Use regex (?=.*\\bTerm\\b)(?=.*\\bTerm\\b) where \\b is a word boundary\n",
    "    processed = processed.str.replace(' *\\+ *', r'\\\\b)(?=.*\\\\b')\n",
    "    processed = processed.apply(lambda x: process_term(x))\n",
    "                \n",
    "    return processed\n",
    "\n",
    "def import_spreadsheet_terms(path, sheet_name):\n",
    "    excel_data = pd.read_excel(path, sheet_name=sheet_name)\n",
    "    excel_data = pd.DataFrame(excel_data)\n",
    "    excel_data['Alternate'] = excel_data.Alternate.replace(np.nan, '', regex=True)  # Replace missing alternate terms\n",
    "    excel_data = excel_data.astype({\"Term\": 'str', \"Alternate\": 'str'})\n",
    "    excel_data['TermPattern'] = process_terms(excel_data.Term)  # Process term into regular expression (regex)\n",
    "    excel_data['AlternatePattern'] = process_terms(excel_data.Alternate)  # Process alternate term into regex\n",
    "    return excel_data"
   ]
  },
  {
   "cell_type": "code",
   "execution_count": 23,
   "metadata": {
    "pycharm": {
     "is_executing": true
    }
   },
   "outputs": [
    {
     "name": "stdout",
     "output_type": "stream",
     "text": [
      "0                   \\b(misappropriation)\\b\n",
      "1                  \\b(maladministration)\\b\n",
      "2                         \\b(misconduct)\\b\n",
      "3                              \\b(error)\\b\n",
      "4                              \\b(fraud)\\b\n",
      "5                   \\b(royal commission)\\b\n",
      "6                            \\b(inquiry)\\b\n",
      "7                        \\b(outsourcing)\\b\n",
      "8                      \\b(privatisation)\\b\n",
      "9                            \\b(probity)\\b\n",
      "10                     \\b(national park)\\b\n",
      "11                      \\b(speed camera)\\b\n",
      "12                     \\b(safety camera)\\b\n",
      "13                       \\b(kordamentha)\\b\n",
      "14                  \\b(elective surgery)\\b\n",
      "15                 \\b(operating theatre)\\b\n",
      "16                         \\b(home care)\\b\n",
      "17                         \\b(gp centre)\\b\n",
      "18           \\b(building better schools)\\b\n",
      "19      \\b(sustainable enrolment growth)\\b\n",
      "20    (?=.*\\beducation\\b)(?=.*\\bcapital\\b)\n",
      "21    (?=.*\\byear 7\\b)(?=.*\\btransition\\b)\n",
      "22                     \\b(adelaide oval)\\b\n",
      "23               \\b(adelaide oval hotel)\\b\n",
      "24                               \\b(bus)\\b\n",
      "Name: TermPattern, dtype: object \n",
      "\n",
      "0    \n",
      "1    \n",
      "2    \n",
      "3    \n",
      "4    \n",
      "Name: AlternatePattern, dtype: object\n"
     ]
    }
   ],
   "source": [
    "performance = import_spreadsheet_terms(\"..\\\\data\\\\AuditTeamTerms.xlsx\", \"Performance\")\n",
    "\n",
    "print(performance.TermPattern.head(25), \"\\n\")\n",
    "print(performance.AlternatePattern.head(5))"
   ]
  },
  {
   "cell_type": "code",
   "execution_count": 24,
   "metadata": {
    "pycharm": {
     "is_executing": true
    }
   },
   "outputs": [
    {
     "name": "stdout",
     "output_type": "stream",
     "text": [
      "0                         \\b(council)\\b\n",
      "1    \\b(local government association)\\b\n",
      "2      \\b(office of local government)\\b\n",
      "3                \\b(local government)\\b\n",
      "4                 \\b(planning reform)\\b\n",
      "Name: TermPattern, dtype: object \n",
      "\n",
      "0    \\b(councils)\\b\n",
      "1         \\b(lga)\\b\n",
      "2         \\b(olg)\\b\n",
      "3                  \n",
      "4                  \n",
      "Name: AlternatePattern, dtype: object\n"
     ]
    }
   ],
   "source": [
    "government = import_spreadsheet_terms(\"..\\\\data\\\\AuditTeamTerms.xlsx\", \"Local Government\")\n",
    "\n",
    "print(government.TermPattern.head(5), \"\\n\")\n",
    "print(government.AlternatePattern.head(5))"
   ]
  },
  {
   "cell_type": "code",
   "execution_count": 25,
   "metadata": {
    "pycharm": {
     "is_executing": true
    }
   },
   "outputs": [
    {
     "name": "stdout",
     "output_type": "stream",
     "text": [
      "0            \\b(ict)\\b\n",
      "1     \\b(it project)\\b\n",
      "2    \\b(ict project)\\b\n",
      "3     \\b(it program)\\b\n",
      "4    \\b(ict program)\\b\n",
      "Name: TermPattern, dtype: object \n",
      "\n",
      "0           \\b(information communication technology)\\b\n",
      "1                 \\b(information technology project)\\b\n",
      "2    \\b(information communication technology projec...\n",
      "3                 \\b(information technology program)\\b\n",
      "4    \\b(information communication technology progra...\n",
      "Name: AlternatePattern, dtype: object\n"
     ]
    }
   ],
   "source": [
    "it = import_spreadsheet_terms(\"..\\\\data\\\\AuditTeamTerms.xlsx\", \"IT\")\n",
    "\n",
    "print(it.TermPattern.head(5), \"\\n\")\n",
    "print(it.AlternatePattern.head(5))"
   ]
  },
  {
   "cell_type": "markdown",
   "metadata": {},
   "source": [
    "## Search for Key Terms in Hansard Text"
   ]
  },
  {
   "cell_type": "code",
   "execution_count": 26,
   "metadata": {
    "pycharm": {
     "is_executing": true
    }
   },
   "outputs": [],
   "source": [
    "def search_key_term(terms_df, text_df, audit_team_name):\n",
    "    \n",
    "    results = pd.DataFrame().reindex_like(text_df)\n",
    "    results['Term'] = np.NaN\n",
    "    del results['Text'] # Delete unneeded Text column from results\n",
    "    del results['TextLower'] # Delete unneeded Text column from results\n",
    "    results = results.dropna() # Delete all rows\n",
    "\n",
    "    for index, row in terms_df.iterrows():\n",
    "        # Search for match to term\n",
    "        match_term = text_df.TextLower.str.contains(row['TermPattern'], case=False, regex=True) | \\\n",
    "                     text_df.Text.str.contains(row['TermPattern'], case=False, regex=True)       \n",
    "        \n",
    "        match = pd.DataFrame(match_term, columns=['Term'])   \n",
    "        \n",
    "        # Search for match to alternate term\n",
    "        if row['AlternatePattern']:\n",
    "            # Match to alternate term is true if a match has already been found for the original term\n",
    "            match_alternate = match['Term'] | \\\n",
    "                              text_df.TextLower.str.contains(row['AlternatePattern'], case=False, regex=True) | \\\n",
    "                              text_df.Text.str.contains(row['AlternatePattern'], case=False, regex=True)\n",
    "            match_alternate = pd.DataFrame(match_alternate, columns=['Alternate'])\n",
    "            match['Term'] = match['Term'] | match_alternate['Alternate']\n",
    "        \n",
    "        if not match.empty:\n",
    "            match = pd.concat([text_df.reset_index(drop=True), match], axis=1)\n",
    "            del match['Text'] # Delete unneeded Text column from results\n",
    "            del match['TextLower'] # Delete unneeded TextLower column from results\n",
    "            match = match.loc[match.Term, :] # drop rows that did not match term            \n",
    "            match['Term'] = row['Term']\n",
    "            results = pd.concat([results, match], ignore_index=True, sort=False) # Add matched terms to final result\n",
    "    \n",
    "    results = results.drop_duplicates() # Drop duplicate rows\n",
    "    results['AuditTeam'] = audit_team_name\n",
    "    return results"
   ]
  },
  {
   "cell_type": "code",
   "execution_count": 27,
   "metadata": {
    "pycharm": {
     "is_executing": true
    }
   },
   "outputs": [
    {
     "name": "stdout",
     "output_type": "stream",
     "text": [
      "3866.8759281635284\n"
     ]
    }
   ],
   "source": [
    "start_time = time.time()\n",
    "\n",
    "performance_terms = search_key_term(performance, text, \"Performance\") # Performance Audit Team Terms\n",
    "government_terms = search_key_term(government, text, \"Local Government\") # Local Government Audit Team Terms\n",
    "it_terms = search_key_term(it, text, \"IT\") # IT Audit Team Terms\n",
    "\n",
    "end_time = time.time()\n",
    "total_time = end_time-start_time\n",
    "print(total_time)"
   ]
  },
  {
   "cell_type": "code",
   "execution_count": 28,
   "metadata": {
    "pycharm": {
     "is_executing": true
    },
    "scrolled": true
   },
   "outputs": [
    {
     "name": "stdout",
     "output_type": "stream",
     "text": [
      "Combined =  (19040, 4)\n"
     ]
    }
   ],
   "source": [
    "# Merge results and output to Excel\n",
    "merged_data = pd.concat([performance_terms, government_terms,it_terms], ignore_index=True)\n",
    "merged_data = merged_data.drop_duplicates() # Drop duplicate rows\n",
    "\n",
    "# Without alternate term search: 17873 results. With alternate term search: 19040 3883.3312656879425 sec\n",
    "print(\"Combined = \", merged_data.shape)\n",
    "merged_data.to_excel('.\\\\TermSearch.xlsx', sheet_name='TermSearch', index=False)"
   ]
  },
  {
   "cell_type": "code",
   "execution_count": null,
   "metadata": {
    "pycharm": {
     "is_executing": true
    }
   },
   "outputs": [],
   "source": []
  }
 ],
 "metadata": {
  "kernelspec": {
   "display_name": "Python 3",
   "language": "python",
   "name": "python3"
  },
  "pycharm": {
   "stem_cell": {
    "cell_type": "raw",
    "source": [],
    "metadata": {
     "collapsed": false
    }
   }
  }
 },
 "nbformat": 4,
 "nbformat_minor": 1
}