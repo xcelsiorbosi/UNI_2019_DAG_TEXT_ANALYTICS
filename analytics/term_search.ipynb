{
 "cells": [
  {
   "cell_type": "markdown",
   "metadata": {
    "collapsed": true,
    "pycharm": {
     "is_executing": false
    }
   },
   "source": [
    "# Key Term Search"
   ]
  },
  {
   "cell_type": "markdown",
   "metadata": {},
   "source": [
    "This notebook contains Python code for searching for key terms of the three audit teams: Performance; Local Government; and ICT."
   ]
  },
  {
   "cell_type": "markdown",
   "metadata": {},
   "source": [
    "## Import Data"
   ]
  },
  {
   "cell_type": "code",
   "execution_count": 73,
   "metadata": {},
   "outputs": [
    {
     "data": {
      "text/html": [
       "<div>\n",
       "<style scoped>\n",
       "    .dataframe tbody tr th:only-of-type {\n",
       "        vertical-align: middle;\n",
       "    }\n",
       "\n",
       "    .dataframe tbody tr th {\n",
       "        vertical-align: top;\n",
       "    }\n",
       "\n",
       "    .dataframe thead th {\n",
       "        text-align: right;\n",
       "    }\n",
       "</style>\n",
       "<table border=\"1\" class=\"dataframe\">\n",
       "  <thead>\n",
       "    <tr style=\"text-align: right;\">\n",
       "      <th></th>\n",
       "      <th>HansardID</th>\n",
       "      <th>Text</th>\n",
       "    </tr>\n",
       "  </thead>\n",
       "  <tbody>\n",
       "    <tr>\n",
       "      <td>0</td>\n",
       "      <td>HANSARD-10-26147.xml</td>\n",
       "      <td>climate change</td>\n",
       "    </tr>\n",
       "    <tr>\n",
       "      <td>1</td>\n",
       "      <td>HANSARD-10-26147.xml</td>\n",
       "      <td>the hon. m.c. parnell (14:55):  i seek leave t...</td>\n",
       "    </tr>\n",
       "  </tbody>\n",
       "</table>\n",
       "</div>"
      ],
      "text/plain": [
       "              HansardID                                               Text\n",
       "0  HANSARD-10-26147.xml                                     climate change\n",
       "1  HANSARD-10-26147.xml  the hon. m.c. parnell (14:55):  i seek leave t..."
      ]
     },
     "execution_count": 73,
     "metadata": {},
     "output_type": "execute_result"
    }
   ],
   "source": [
    "# Import data from spreadsheet\n",
    "import pandas as pd\n",
    "import numpy as np\n",
    "\n",
    "data = pd.read_excel (\"..\\\\data\\\\Hansard1102019.xlsx\", sheet_name=\"Text\")\n",
    "text = pd.DataFrame(data, columns= ['HansardID','Text'])\n",
    "text = text.astype({\"HansardID\":'str', \"Text\":'str'}) \n",
    "text.Text = text.Text.str.lower() # Convert to lowercase\n",
    "\n",
    "text.head(2)"
   ]
  },
  {
   "cell_type": "code",
   "execution_count": 76,
   "metadata": {},
   "outputs": [
    {
     "data": {
      "text/html": [
       "<div>\n",
       "<style scoped>\n",
       "    .dataframe tbody tr th:only-of-type {\n",
       "        vertical-align: middle;\n",
       "    }\n",
       "\n",
       "    .dataframe tbody tr th {\n",
       "        vertical-align: top;\n",
       "    }\n",
       "\n",
       "    .dataframe thead th {\n",
       "        text-align: right;\n",
       "    }\n",
       "</style>\n",
       "<table border=\"1\" class=\"dataframe\">\n",
       "  <thead>\n",
       "    <tr style=\"text-align: right;\">\n",
       "      <th></th>\n",
       "      <th>Term</th>\n",
       "    </tr>\n",
       "  </thead>\n",
       "  <tbody>\n",
       "    <tr>\n",
       "      <td>0</td>\n",
       "      <td>misappropriation</td>\n",
       "    </tr>\n",
       "    <tr>\n",
       "      <td>1</td>\n",
       "      <td>maladministration</td>\n",
       "    </tr>\n",
       "  </tbody>\n",
       "</table>\n",
       "</div>"
      ],
      "text/plain": [
       "                Term\n",
       "0   misappropriation\n",
       "1  maladministration"
      ]
     },
     "execution_count": 76,
     "metadata": {},
     "output_type": "execute_result"
    }
   ],
   "source": [
    "data = pd.read_excel(\"..\\\\data\\\\AuditTeamTerms.xlsx\", sheet_name=\"Performance Audit\")\n",
    "performance = pd.DataFrame(data)\n",
    "performance.Term = performance.Term.str.lower() # Convert to lowercase\n",
    "performance.head(2)"
   ]
  },
  {
   "cell_type": "code",
   "execution_count": 47,
   "metadata": {},
   "outputs": [
    {
     "data": {
      "text/html": [
       "<div>\n",
       "<style scoped>\n",
       "    .dataframe tbody tr th:only-of-type {\n",
       "        vertical-align: middle;\n",
       "    }\n",
       "\n",
       "    .dataframe tbody tr th {\n",
       "        vertical-align: top;\n",
       "    }\n",
       "\n",
       "    .dataframe thead th {\n",
       "        text-align: right;\n",
       "    }\n",
       "</style>\n",
       "<table border=\"1\" class=\"dataframe\">\n",
       "  <thead>\n",
       "    <tr style=\"text-align: right;\">\n",
       "      <th></th>\n",
       "      <th>Term</th>\n",
       "      <th>Alternate</th>\n",
       "    </tr>\n",
       "  </thead>\n",
       "  <tbody>\n",
       "    <tr>\n",
       "      <td>0</td>\n",
       "      <td>council</td>\n",
       "      <td>NaN</td>\n",
       "    </tr>\n",
       "    <tr>\n",
       "      <td>1</td>\n",
       "      <td>local government association</td>\n",
       "      <td>LGA</td>\n",
       "    </tr>\n",
       "  </tbody>\n",
       "</table>\n",
       "</div>"
      ],
      "text/plain": [
       "                           Term Alternate\n",
       "0                       council       NaN\n",
       "1  local government association       LGA"
      ]
     },
     "execution_count": 47,
     "metadata": {},
     "output_type": "execute_result"
    }
   ],
   "source": [
    "data = pd.read_excel(\"..\\\\data\\\\AuditTeamTerms.xlsx\", sheet_name=\"Local Government Audit\")\n",
    "government = pd.DataFrame(data)\n",
    "government.Term = government.Term.str.lower() # Convert to lowercase\n",
    "#government = government.replace(np.nan, '', regex=True)\n",
    "#government = government.astype({\"Term\":'str', \"Alternate\":'str'}) \n",
    "government.head(2)"
   ]
  },
  {
   "cell_type": "code",
   "execution_count": 48,
   "metadata": {},
   "outputs": [
    {
     "data": {
      "text/html": [
       "<div>\n",
       "<style scoped>\n",
       "    .dataframe tbody tr th:only-of-type {\n",
       "        vertical-align: middle;\n",
       "    }\n",
       "\n",
       "    .dataframe tbody tr th {\n",
       "        vertical-align: top;\n",
       "    }\n",
       "\n",
       "    .dataframe thead th {\n",
       "        text-align: right;\n",
       "    }\n",
       "</style>\n",
       "<table border=\"1\" class=\"dataframe\">\n",
       "  <thead>\n",
       "    <tr style=\"text-align: right;\">\n",
       "      <th></th>\n",
       "      <th>Term</th>\n",
       "    </tr>\n",
       "  </thead>\n",
       "  <tbody>\n",
       "    <tr>\n",
       "      <td>0</td>\n",
       "      <td>ict</td>\n",
       "    </tr>\n",
       "    <tr>\n",
       "      <td>1</td>\n",
       "      <td>it project</td>\n",
       "    </tr>\n",
       "  </tbody>\n",
       "</table>\n",
       "</div>"
      ],
      "text/plain": [
       "         Term\n",
       "0         ict\n",
       "1  it project"
      ]
     },
     "execution_count": 48,
     "metadata": {},
     "output_type": "execute_result"
    }
   ],
   "source": [
    "data = pd.read_excel(\"..\\\\data\\\\AuditTeamTerms.xlsx\", sheet_name=\"IT Audit\")\n",
    "it = pd.DataFrame(data)\n",
    "it.Term = it.Term.str.lower() # Convert to lowercase\n",
    "it.head(2)"
   ]
  },
  {
   "cell_type": "markdown",
   "metadata": {},
   "source": [
    "## Search for Key Terms in Hansard Text"
   ]
  },
  {
   "cell_type": "code",
   "execution_count": 77,
   "metadata": {},
   "outputs": [
    {
     "data": {
      "text/html": [
       "<div>\n",
       "<style scoped>\n",
       "    .dataframe tbody tr th:only-of-type {\n",
       "        vertical-align: middle;\n",
       "    }\n",
       "\n",
       "    .dataframe tbody tr th {\n",
       "        vertical-align: top;\n",
       "    }\n",
       "\n",
       "    .dataframe thead th {\n",
       "        text-align: right;\n",
       "    }\n",
       "</style>\n",
       "<table border=\"1\" class=\"dataframe\">\n",
       "  <thead>\n",
       "    <tr style=\"text-align: right;\">\n",
       "      <th></th>\n",
       "      <th>Term</th>\n",
       "      <th>FileName</th>\n",
       "      <th>AuditTeam</th>\n",
       "    </tr>\n",
       "  </thead>\n",
       "  <tbody>\n",
       "    <tr>\n",
       "      <td>0</td>\n",
       "      <td>misappropriation</td>\n",
       "      <td>HANSARD-10-21593.xml</td>\n",
       "      <td>Performance</td>\n",
       "    </tr>\n",
       "    <tr>\n",
       "      <td>1</td>\n",
       "      <td>misappropriation</td>\n",
       "      <td>HANSARD-10-21593.xml</td>\n",
       "      <td>Performance</td>\n",
       "    </tr>\n",
       "    <tr>\n",
       "      <td>2</td>\n",
       "      <td>maladministration</td>\n",
       "      <td>HANSARD-11-33230.xml</td>\n",
       "      <td>Performance</td>\n",
       "    </tr>\n",
       "    <tr>\n",
       "      <td>3</td>\n",
       "      <td>maladministration</td>\n",
       "      <td>HANSARD-11-29185.xml</td>\n",
       "      <td>Performance</td>\n",
       "    </tr>\n",
       "    <tr>\n",
       "      <td>4</td>\n",
       "      <td>maladministration</td>\n",
       "      <td>HANSARD-11-29185.xml</td>\n",
       "      <td>Performance</td>\n",
       "    </tr>\n",
       "  </tbody>\n",
       "</table>\n",
       "</div>"
      ],
      "text/plain": [
       "                Term              FileName    AuditTeam\n",
       "0   misappropriation  HANSARD-10-21593.xml  Performance\n",
       "1   misappropriation  HANSARD-10-21593.xml  Performance\n",
       "2  maladministration  HANSARD-11-33230.xml  Performance\n",
       "3  maladministration  HANSARD-11-29185.xml  Performance\n",
       "4  maladministration  HANSARD-11-29185.xml  Performance"
      ]
     },
     "execution_count": 77,
     "metadata": {},
     "output_type": "execute_result"
    }
   ],
   "source": [
    "# Performance Audit Team Terms\n",
    "pattern = '|'.join(r\"{}\".format(x) for x in performance.Term)\n",
    "text['MatchedTerm'] = text.Text.str.extract('('+ pattern + ')', expand=False)\n",
    "performance_terms = pd.merge(performance, text, left_on= 'Term', right_on='MatchedTerm').drop('MatchedTerm', axis=1)\n",
    "performance_terms.columns = ['Term','FileName','Text']\n",
    "del text['MatchedTerm'] # Delete newly added column from text data\n",
    "del performance_terms['Text'] # Delete unneeded Text column from results\n",
    "performance_terms['AuditTeam'] = \"Performance\"\n",
    "performance_terms.head(5)"
   ]
  },
  {
   "cell_type": "code",
   "execution_count": 88,
   "metadata": {},
   "outputs": [
    {
     "data": {
      "text/html": [
       "<div>\n",
       "<style scoped>\n",
       "    .dataframe tbody tr th:only-of-type {\n",
       "        vertical-align: middle;\n",
       "    }\n",
       "\n",
       "    .dataframe tbody tr th {\n",
       "        vertical-align: top;\n",
       "    }\n",
       "\n",
       "    .dataframe thead th {\n",
       "        text-align: right;\n",
       "    }\n",
       "</style>\n",
       "<table border=\"1\" class=\"dataframe\">\n",
       "  <thead>\n",
       "    <tr style=\"text-align: right;\">\n",
       "      <th></th>\n",
       "      <th>Term</th>\n",
       "      <th>FileName</th>\n",
       "      <th>AuditTeam</th>\n",
       "    </tr>\n",
       "  </thead>\n",
       "  <tbody>\n",
       "    <tr>\n",
       "      <td>0</td>\n",
       "      <td>council</td>\n",
       "      <td>HANSARD-11-31978.xml</td>\n",
       "      <td>Local Government</td>\n",
       "    </tr>\n",
       "    <tr>\n",
       "      <td>1</td>\n",
       "      <td>council</td>\n",
       "      <td>HANSARD-11-28679.xml</td>\n",
       "      <td>Local Government</td>\n",
       "    </tr>\n",
       "    <tr>\n",
       "      <td>2</td>\n",
       "      <td>council</td>\n",
       "      <td>HANSARD-10-24234.xml</td>\n",
       "      <td>Local Government</td>\n",
       "    </tr>\n",
       "    <tr>\n",
       "      <td>3</td>\n",
       "      <td>council</td>\n",
       "      <td>HANSARD-10-24722.xml</td>\n",
       "      <td>Local Government</td>\n",
       "    </tr>\n",
       "    <tr>\n",
       "      <td>4</td>\n",
       "      <td>council</td>\n",
       "      <td>HANSARD-11-33354.xml</td>\n",
       "      <td>Local Government</td>\n",
       "    </tr>\n",
       "  </tbody>\n",
       "</table>\n",
       "</div>"
      ],
      "text/plain": [
       "      Term              FileName         AuditTeam\n",
       "0  council  HANSARD-11-31978.xml  Local Government\n",
       "1  council  HANSARD-11-28679.xml  Local Government\n",
       "2  council  HANSARD-10-24234.xml  Local Government\n",
       "3  council  HANSARD-10-24722.xml  Local Government\n",
       "4  council  HANSARD-11-33354.xml  Local Government"
      ]
     },
     "execution_count": 88,
     "metadata": {},
     "output_type": "execute_result"
    }
   ],
   "source": [
    "# Local Government Audit Team Terms\n",
    "pattern = '|'.join(r\"{}\".format(x) for x in government.Term)\n",
    "text['MatchedTerm'] = text.Text.str.extract('('+ pattern + ')', expand=False)\n",
    "government_terms = pd.merge(government, text, left_on= 'Term', right_on='MatchedTerm').drop('MatchedTerm', axis=1)\n",
    "government_terms.columns = ['Term','Alternate','FileName','Text']\n",
    "del text['MatchedTerm'] # Delete newly added column from text data\n",
    "del government_terms['Text'] # Delete unneeded Text column from results\n",
    "del government_terms['Alternate'] # Delete unneeded Alternate column from results\n",
    "government_terms['AuditTeam'] = \"Local Government\"\n",
    "government_terms.head(5)"
   ]
  },
  {
   "cell_type": "code",
   "execution_count": 90,
   "metadata": {},
   "outputs": [
    {
     "data": {
      "text/html": [
       "<div>\n",
       "<style scoped>\n",
       "    .dataframe tbody tr th:only-of-type {\n",
       "        vertical-align: middle;\n",
       "    }\n",
       "\n",
       "    .dataframe tbody tr th {\n",
       "        vertical-align: top;\n",
       "    }\n",
       "\n",
       "    .dataframe thead th {\n",
       "        text-align: right;\n",
       "    }\n",
       "</style>\n",
       "<table border=\"1\" class=\"dataframe\">\n",
       "  <thead>\n",
       "    <tr style=\"text-align: right;\">\n",
       "      <th></th>\n",
       "      <th>Term</th>\n",
       "      <th>FileName</th>\n",
       "      <th>AuditTeam</th>\n",
       "    </tr>\n",
       "  </thead>\n",
       "  <tbody>\n",
       "    <tr>\n",
       "      <td>0</td>\n",
       "      <td>ict</td>\n",
       "      <td>HANSARD-11-30055.xml</td>\n",
       "      <td>IT</td>\n",
       "    </tr>\n",
       "    <tr>\n",
       "      <td>1</td>\n",
       "      <td>ict</td>\n",
       "      <td>HANSARD-11-30055.xml</td>\n",
       "      <td>IT</td>\n",
       "    </tr>\n",
       "    <tr>\n",
       "      <td>2</td>\n",
       "      <td>ict</td>\n",
       "      <td>HANSARD-11-28679.xml</td>\n",
       "      <td>IT</td>\n",
       "    </tr>\n",
       "    <tr>\n",
       "      <td>3</td>\n",
       "      <td>ict</td>\n",
       "      <td>HANSARD-11-34502.xml</td>\n",
       "      <td>IT</td>\n",
       "    </tr>\n",
       "    <tr>\n",
       "      <td>4</td>\n",
       "      <td>ict</td>\n",
       "      <td>HANSARD-11-29713.xml</td>\n",
       "      <td>IT</td>\n",
       "    </tr>\n",
       "  </tbody>\n",
       "</table>\n",
       "</div>"
      ],
      "text/plain": [
       "  Term              FileName AuditTeam\n",
       "0  ict  HANSARD-11-30055.xml        IT\n",
       "1  ict  HANSARD-11-30055.xml        IT\n",
       "2  ict  HANSARD-11-28679.xml        IT\n",
       "3  ict  HANSARD-11-34502.xml        IT\n",
       "4  ict  HANSARD-11-29713.xml        IT"
      ]
     },
     "execution_count": 90,
     "metadata": {},
     "output_type": "execute_result"
    }
   ],
   "source": [
    "# IT Audit Team Terms\n",
    "pattern = '|'.join(r\"{}\".format(x) for x in it.Term)\n",
    "text['MatchedTerm'] = text.Text.str.extract('('+ pattern + ')', expand=False)\n",
    "it_terms = pd.merge(it, text, left_on= 'Term', right_on='MatchedTerm').drop('MatchedTerm', axis=1)\n",
    "it_terms.columns = ['Term','FileName','Text']\n",
    "del text['MatchedTerm'] # Delete newly added column from text data\n",
    "del it_terms['Text'] # Delete unneeded Text column from results\n",
    "it_terms['AuditTeam'] = \"IT\"\n",
    "it_terms.head(5)"
   ]
  },
  {
   "cell_type": "code",
   "execution_count": 97,
   "metadata": {},
   "outputs": [],
   "source": [
    "# Merge results and output to Excel\n",
    "merged_data = pd.concat([performance_terms, government_terms,it_terms], ignore_index=True)\n",
    "merged_data.to_excel('.\\\\TermSearch.xlsx', sheet_name='TermSearch', index=False)"
   ]
  },
  {
   "cell_type": "code",
   "execution_count": null,
   "metadata": {},
   "outputs": [],
   "source": []
  }
 ],
 "metadata": {
  "kernelspec": {
   "display_name": "Python 3",
   "language": "python",
   "name": "python3"
  },
  "language_info": {
   "codemirror_mode": {
    "name": "ipython",
    "version": 3
   },
   "file_extension": ".py",
   "mimetype": "text/x-python",
   "name": "python",
   "nbconvert_exporter": "python",
   "pygments_lexer": "ipython3",
   "version": "3.7.4"
  }
 },
 "nbformat": 4,
 "nbformat_minor": 1
}
