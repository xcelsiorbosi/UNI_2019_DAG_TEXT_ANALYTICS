{
 "cells": [
  {
   "cell_type": "markdown",
   "metadata": {
    "collapsed": true,
    "pycharm": {
     "is_executing": false
    }
   },
   "source": [
    "# Key Term Search"
   ]
  },
  {
   "cell_type": "markdown",
   "metadata": {},
   "source": [
    "This notebook contains Python code for searching for key terms of the three audit teams: Performance; Local Government; and ICT."
   ]
  },
  {
   "cell_type": "markdown",
   "metadata": {},
   "source": [
    "## Import Data"
   ]
  },
  {
   "cell_type": "code",
   "execution_count": null,
   "metadata": {
    "pycharm": {
     "is_executing": true
    }
   },
   "outputs": [],
   "source": [
    "# Import data from spreadsheet\n",
    "import pandas as pd\n",
    "import numpy as np\n",
    "\n",
    "data = pd.read_excel (\"..\\\\data\\\\Hansard1102019.xlsx\", sheet_name=\"Text\")\n",
    "text = pd.DataFrame(data, columns= ['HansardID','TextID','Text'])\n",
    "text = text.astype({\"HansardID\":'str', \"TextID\":'str', \"Text\":'str'}) \n",
    "text.Text = text.Text.str.lower() # Convert to lowercase\n",
    "\n",
    "text.head(2)"
   ]
  },
  {
   "cell_type": "code",
   "execution_count": null,
   "metadata": {
    "pycharm": {
     "is_executing": true
    }
   },
   "outputs": [],
   "source": [
    "data = pd.read_excel(\"..\\\\data\\\\AuditTeamTerms.xlsx\", sheet_name=\"Performance Audit\")\n",
    "performance = pd.DataFrame(data)\n",
    "performance['ProcessedTerm'] = performance.Term.str.lower() # Convert to lowercase\n",
    "#performance['ProcessedTerm'] = performance.ProcessedTerm.str.replace(' + ', ').*(')\n",
    "#performance['ProcessedTerm'] = '(' + performance['ProcessedTerm'].astype(str) + ')'\n",
    "performance.head(2)"
   ]
  },
  {
   "cell_type": "code",
   "execution_count": null,
   "metadata": {
    "pycharm": {
     "is_executing": true
    }
   },
   "outputs": [],
   "source": [
    "data = pd.read_excel(\"..\\\\data\\\\AuditTeamTerms.xlsx\", sheet_name=\"Local Government Audit\")\n",
    "government = pd.DataFrame(data)\n",
    "government['ProcessedTerm'] = government.Term.str.lower() # Convert to lowercase\n",
    "#government = government.replace(np.nan, '', regex=True)\n",
    "#government = government.astype({\"Term\":'str', \"Alternate\":'str'}) \n",
    "government.head(2)"
   ]
  },
  {
   "cell_type": "code",
   "execution_count": null,
   "metadata": {
    "pycharm": {
     "is_executing": true
    }
   },
   "outputs": [],
   "source": [
    "data = pd.read_excel(\"..\\\\data\\\\AuditTeamTerms.xlsx\", sheet_name=\"IT Audit\")\n",
    "it = pd.DataFrame(data)\n",
    "it['ProcessedTerm'] = it.Term.str.lower() # Convert to lowercase\n",
    "it.head(2)"
   ]
  },
  {
   "cell_type": "markdown",
   "metadata": {},
   "source": [
    "## Search for Key Terms in Hansard Text"
   ]
  },
  {
   "cell_type": "code",
   "execution_count": null,
   "metadata": {
    "pycharm": {
     "is_executing": true
    }
   },
   "outputs": [],
   "source": [
    "# Performance Audit Team Terms\n",
    "pattern = '|'.join(r\"{}\".format(x) for x in performance.ProcessedTerm)\n",
    "text['MatchedTerm'] = text.Text.str.extract('(' + pattern + ')', expand=False)\n",
    "performance_terms = pd.merge(performance, text, left_on= 'ProcessedTerm', right_on='MatchedTerm').drop('MatchedTerm', axis=1)\n",
    "performance_terms.columns = ['Term','ProcessedTerm','FileName','TextID','Text']\n",
    "del text['MatchedTerm'] # Delete newly added column from text data\n",
    "del performance_terms['Text'] # Delete unneeded Text column from results\n",
    "del performance_terms['ProcessedTerm'] # Delete unneeded ProcessedTerm column from results\n",
    "performance_terms['AuditTeam'] = \"Performance\"\n",
    "performance_terms.head(5)"
   ]
  },
  {
   "cell_type": "code",
   "execution_count": null,
   "metadata": {
    "pycharm": {
     "is_executing": true
    }
   },
   "outputs": [],
   "source": [
    "# Local Government Audit Team Terms\n",
    "pattern = '|'.join(r\"{}\".format(x) for x in government.ProcessedTerm)\n",
    "text['MatchedTerm'] = text.Text.str.extract('('+ pattern + ')', expand=False)\n",
    "government_terms = pd.merge(government, text, left_on= 'ProcessedTerm', right_on='MatchedTerm').drop('MatchedTerm', axis=1)\n",
    "government_terms.columns = ['Term','Alternate','ProcessedTerm','FileName','TextID','Text']\n",
    "del text['MatchedTerm'] # Delete newly added column from text data\n",
    "del government_terms['Text'] # Delete unneeded Text column from results\n",
    "del government_terms['Alternate'] # Delete unneeded Alternate column from results\n",
    "del government_terms['ProcessedTerm'] # Delete unneeded ProcessedTerm column from results\n",
    "government_terms['AuditTeam'] = \"Local Government\"\n",
    "government_terms.head(5)"
   ]
  },
  {
   "cell_type": "code",
   "execution_count": null,
   "metadata": {
    "pycharm": {
     "is_executing": true
    }
   },
   "outputs": [],
   "source": [
    "# IT Audit Team Terms\n",
    "pattern = '|'.join(r\"{}\".format(x) for x in it.ProcessedTerm)\n",
    "text['MatchedTerm'] = text.Text.str.extract('('+ pattern + ')', expand=False)\n",
    "it_terms = pd.merge(it, text, left_on= 'ProcessedTerm', right_on='MatchedTerm').drop('MatchedTerm', axis=1)\n",
    "it_terms.columns = ['Term','ProcessedTerm','FileName','TextID','Text']\n",
    "del text['MatchedTerm'] # Delete newly added column from text data\n",
    "del it_terms['Text'] # Delete unneeded Text column from results\n",
    "del it_terms['ProcessedTerm'] # Delete unneeded ProcessedTerm column from results\n",
    "it_terms['AuditTeam'] = \"IT\"\n",
    "it_terms.head(5)"
   ]
  },
  {
   "cell_type": "code",
   "execution_count": null,
   "metadata": {
    "pycharm": {
     "is_executing": true
    }
   },
   "outputs": [],
   "source": [
    "# Merge results and output to Excel\n",
    "merged_data = pd.concat([performance_terms, government_terms,it_terms], ignore_index=True)\n",
    "merged_data.shape"
   ]
  },
  {
   "cell_type": "code",
   "execution_count": null,
   "metadata": {},
   "outputs": [],
   "source": [
    "merged_data = merged_data.drop_duplicates()\n",
    "merged_data.shape # Drop duplicate rows"
   ]
  },
  {
   "cell_type": "code",
   "execution_count": null,
   "metadata": {
    "pycharm": {
     "is_executing": true
    }
   },
   "outputs": [],
   "source": [
    "merged_data.to_excel('.\\\\TermSearch.xlsx', sheet_name='TermSearch', index=False)"
   ]
  },
  {
   "cell_type": "code",
   "execution_count": null,
   "metadata": {},
   "outputs": [],
   "source": []
  }
 ],
 "metadata": {
  "kernelspec": {
   "display_name": "Python 3",
   "language": "python",
   "name": "python3"
  },
  "language_info": {
   "codemirror_mode": {
    "name": "ipython",
    "version": 3
   },
   "file_extension": ".py",
   "mimetype": "text/x-python",
   "name": "python",
   "nbconvert_exporter": "python",
   "pygments_lexer": "ipython3",
   "version": "3.7.4"
  }
 },
 "nbformat": 4,
 "nbformat_minor": 1
}
