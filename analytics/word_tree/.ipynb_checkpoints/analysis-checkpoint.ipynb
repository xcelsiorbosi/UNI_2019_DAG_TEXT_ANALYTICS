{
 "cells": [
  {
   "cell_type": "markdown",
   "metadata": {
    "toc": "true"
   },
   "source": []
  },
  {
   "cell_type": "code",
   "execution_count": 62,
   "metadata": {},
   "outputs": [
    {
     "data": {
      "text/html": [
       "<style>.container { width:100% !important; }</style>"
      ],
      "text/plain": [
       "<IPython.core.display.HTML object>"
      ]
     },
     "metadata": {},
     "output_type": "display_data"
    }
   ],
   "source": [
    "from IPython.core.display import display, HTML\n",
    "display(HTML(\"<style>.container { width:100% !important; }</style>\"))"
   ]
  },
  {
   "cell_type": "code",
   "execution_count": null,
   "metadata": {},
   "outputs": [],
   "source": []
  },
  {
   "cell_type": "code",
   "execution_count": null,
   "metadata": {},
   "outputs": [],
   "source": []
  },
  {
   "cell_type": "markdown",
   "metadata": {},
   "source": []
  },
  {
   "cell_type": "markdown",
   "metadata": {},
   "source": [
    "# Imports"
   ]
  },
  {
   "cell_type": "code",
   "execution_count": 1,
   "metadata": {},
   "outputs": [],
   "source": [
    "from __future__ import print_function\n",
    "from __future__ import division\n",
    "\n",
    "import copy\n",
    "import json\n",
    "import re\n",
    "import string\n",
    "\n",
    "import matplotlib\n",
    "import matplotlib.pyplot as plt\n",
    "import pandas as pd\n",
    "import seaborn  # To improve the chart styling.\n",
    "import wordtree\n",
    "\n",
    "from IPython.display import display\n",
    "from IPython.display import HTML\n",
    "from IPython.display import Javascript\n",
    "from wordcloud import STOPWORDS\n",
    "import ipywidgets as widgets\n",
    "from wordcloud import WordCloud\n",
    "\n",
    "# import iphone_connector"
   ]
  },
  {
   "cell_type": "markdown",
   "metadata": {},
   "source": [
    "# Load the data from disk and set up the dataframes"
   ]
  },
  {
   "cell_type": "code",
   "execution_count": 2,
   "metadata": {},
   "outputs": [],
   "source": [
    "%matplotlib inline\n",
    "matplotlib.style.use('ggplot')\n",
    "pd.set_option('display.max_colwidth', 1000)\n",
    "# iphone_connector.initialize()\n",
    "\n"
   ]
  },
  {
   "cell_type": "code",
   "execution_count": 9,
   "metadata": {},
   "outputs": [],
   "source": [
    "import os"
   ]
  },
  {
   "cell_type": "code",
   "execution_count": null,
   "metadata": {},
   "outputs": [],
   "source": []
  },
  {
   "cell_type": "code",
   "execution_count": 3,
   "metadata": {},
   "outputs": [
    {
     "ename": "FileNotFoundError",
     "evalue": "[Errno 2] No such file or directory: 'Hansard1102019.xlsx'",
     "output_type": "error",
     "traceback": [
      "\u001b[1;31m---------------------------------------------------------------------------\u001b[0m",
      "\u001b[1;31mFileNotFoundError\u001b[0m                         Traceback (most recent call last)",
      "\u001b[1;32m<ipython-input-3-37c394ea1bc7>\u001b[0m in \u001b[0;36m<module>\u001b[1;34m()\u001b[0m\n\u001b[1;32m----> 1\u001b[1;33m \u001b[0mdf\u001b[0m \u001b[1;33m=\u001b[0m \u001b[0mpd\u001b[0m\u001b[1;33m.\u001b[0m\u001b[0mread_excel\u001b[0m\u001b[1;33m(\u001b[0m\u001b[1;34m\"Hansard1102019.xlsx\"\u001b[0m\u001b[1;33m)\u001b[0m\u001b[1;33m\u001b[0m\u001b[0m\n\u001b[0m",
      "\u001b[1;32mc:\\users\\xcelsior\\appdata\\local\\programs\\python\\python36\\lib\\site-packages\\pandas\\util\\_decorators.py\u001b[0m in \u001b[0;36mwrapper\u001b[1;34m(*args, **kwargs)\u001b[0m\n\u001b[0;32m    116\u001b[0m                 \u001b[1;32melse\u001b[0m\u001b[1;33m:\u001b[0m\u001b[1;33m\u001b[0m\u001b[0m\n\u001b[0;32m    117\u001b[0m                     \u001b[0mkwargs\u001b[0m\u001b[1;33m[\u001b[0m\u001b[0mnew_arg_name\u001b[0m\u001b[1;33m]\u001b[0m \u001b[1;33m=\u001b[0m \u001b[0mnew_arg_value\u001b[0m\u001b[1;33m\u001b[0m\u001b[0m\n\u001b[1;32m--> 118\u001b[1;33m             \u001b[1;32mreturn\u001b[0m \u001b[0mfunc\u001b[0m\u001b[1;33m(\u001b[0m\u001b[1;33m*\u001b[0m\u001b[0margs\u001b[0m\u001b[1;33m,\u001b[0m \u001b[1;33m**\u001b[0m\u001b[0mkwargs\u001b[0m\u001b[1;33m)\u001b[0m\u001b[1;33m\u001b[0m\u001b[0m\n\u001b[0m\u001b[0;32m    119\u001b[0m         \u001b[1;32mreturn\u001b[0m \u001b[0mwrapper\u001b[0m\u001b[1;33m\u001b[0m\u001b[0m\n\u001b[0;32m    120\u001b[0m     \u001b[1;32mreturn\u001b[0m \u001b[0m_deprecate_kwarg\u001b[0m\u001b[1;33m\u001b[0m\u001b[0m\n",
      "\u001b[1;32mc:\\users\\xcelsior\\appdata\\local\\programs\\python\\python36\\lib\\site-packages\\pandas\\io\\excel.py\u001b[0m in \u001b[0;36mread_excel\u001b[1;34m(io, sheet_name, header, skiprows, skip_footer, index_col, names, usecols, parse_dates, date_parser, na_values, thousands, convert_float, converters, dtype, true_values, false_values, engine, squeeze, **kwds)\u001b[0m\n\u001b[0;32m    228\u001b[0m \u001b[1;33m\u001b[0m\u001b[0m\n\u001b[0;32m    229\u001b[0m     \u001b[1;32mif\u001b[0m \u001b[1;32mnot\u001b[0m \u001b[0misinstance\u001b[0m\u001b[1;33m(\u001b[0m\u001b[0mio\u001b[0m\u001b[1;33m,\u001b[0m \u001b[0mExcelFile\u001b[0m\u001b[1;33m)\u001b[0m\u001b[1;33m:\u001b[0m\u001b[1;33m\u001b[0m\u001b[0m\n\u001b[1;32m--> 230\u001b[1;33m         \u001b[0mio\u001b[0m \u001b[1;33m=\u001b[0m \u001b[0mExcelFile\u001b[0m\u001b[1;33m(\u001b[0m\u001b[0mio\u001b[0m\u001b[1;33m,\u001b[0m \u001b[0mengine\u001b[0m\u001b[1;33m=\u001b[0m\u001b[0mengine\u001b[0m\u001b[1;33m)\u001b[0m\u001b[1;33m\u001b[0m\u001b[0m\n\u001b[0m\u001b[0;32m    231\u001b[0m \u001b[1;33m\u001b[0m\u001b[0m\n\u001b[0;32m    232\u001b[0m     return io._parse_excel(\n",
      "\u001b[1;32mc:\\users\\xcelsior\\appdata\\local\\programs\\python\\python36\\lib\\site-packages\\pandas\\io\\excel.py\u001b[0m in \u001b[0;36m__init__\u001b[1;34m(self, io, **kwds)\u001b[0m\n\u001b[0;32m    292\u001b[0m             \u001b[0mself\u001b[0m\u001b[1;33m.\u001b[0m\u001b[0mbook\u001b[0m \u001b[1;33m=\u001b[0m \u001b[0mxlrd\u001b[0m\u001b[1;33m.\u001b[0m\u001b[0mopen_workbook\u001b[0m\u001b[1;33m(\u001b[0m\u001b[0mfile_contents\u001b[0m\u001b[1;33m=\u001b[0m\u001b[0mdata\u001b[0m\u001b[1;33m)\u001b[0m\u001b[1;33m\u001b[0m\u001b[0m\n\u001b[0;32m    293\u001b[0m         \u001b[1;32melif\u001b[0m \u001b[0misinstance\u001b[0m\u001b[1;33m(\u001b[0m\u001b[0mself\u001b[0m\u001b[1;33m.\u001b[0m\u001b[0m_io\u001b[0m\u001b[1;33m,\u001b[0m \u001b[0mcompat\u001b[0m\u001b[1;33m.\u001b[0m\u001b[0mstring_types\u001b[0m\u001b[1;33m)\u001b[0m\u001b[1;33m:\u001b[0m\u001b[1;33m\u001b[0m\u001b[0m\n\u001b[1;32m--> 294\u001b[1;33m             \u001b[0mself\u001b[0m\u001b[1;33m.\u001b[0m\u001b[0mbook\u001b[0m \u001b[1;33m=\u001b[0m \u001b[0mxlrd\u001b[0m\u001b[1;33m.\u001b[0m\u001b[0mopen_workbook\u001b[0m\u001b[1;33m(\u001b[0m\u001b[0mself\u001b[0m\u001b[1;33m.\u001b[0m\u001b[0m_io\u001b[0m\u001b[1;33m)\u001b[0m\u001b[1;33m\u001b[0m\u001b[0m\n\u001b[0m\u001b[0;32m    295\u001b[0m         \u001b[1;32melse\u001b[0m\u001b[1;33m:\u001b[0m\u001b[1;33m\u001b[0m\u001b[0m\n\u001b[0;32m    296\u001b[0m             raise ValueError('Must explicitly set engine if not passing in'\n",
      "\u001b[1;32mc:\\users\\xcelsior\\appdata\\local\\programs\\python\\python36\\lib\\site-packages\\xlrd\\__init__.py\u001b[0m in \u001b[0;36mopen_workbook\u001b[1;34m(filename, logfile, verbosity, use_mmap, file_contents, encoding_override, formatting_info, on_demand, ragged_rows)\u001b[0m\n\u001b[0;32m    114\u001b[0m         \u001b[0mpeek\u001b[0m \u001b[1;33m=\u001b[0m \u001b[0mfile_contents\u001b[0m\u001b[1;33m[\u001b[0m\u001b[1;33m:\u001b[0m\u001b[0mpeeksz\u001b[0m\u001b[1;33m]\u001b[0m\u001b[1;33m\u001b[0m\u001b[0m\n\u001b[0;32m    115\u001b[0m     \u001b[1;32melse\u001b[0m\u001b[1;33m:\u001b[0m\u001b[1;33m\u001b[0m\u001b[0m\n\u001b[1;32m--> 116\u001b[1;33m         \u001b[1;32mwith\u001b[0m \u001b[0mopen\u001b[0m\u001b[1;33m(\u001b[0m\u001b[0mfilename\u001b[0m\u001b[1;33m,\u001b[0m \u001b[1;34m\"rb\"\u001b[0m\u001b[1;33m)\u001b[0m \u001b[1;32mas\u001b[0m \u001b[0mf\u001b[0m\u001b[1;33m:\u001b[0m\u001b[1;33m\u001b[0m\u001b[0m\n\u001b[0m\u001b[0;32m    117\u001b[0m             \u001b[0mpeek\u001b[0m \u001b[1;33m=\u001b[0m \u001b[0mf\u001b[0m\u001b[1;33m.\u001b[0m\u001b[0mread\u001b[0m\u001b[1;33m(\u001b[0m\u001b[0mpeeksz\u001b[0m\u001b[1;33m)\u001b[0m\u001b[1;33m\u001b[0m\u001b[0m\n\u001b[0;32m    118\u001b[0m     \u001b[1;32mif\u001b[0m \u001b[0mpeek\u001b[0m \u001b[1;33m==\u001b[0m \u001b[1;34mb\"PK\\x03\\x04\"\u001b[0m\u001b[1;33m:\u001b[0m \u001b[1;31m# a ZIP file\u001b[0m\u001b[1;33m\u001b[0m\u001b[0m\n",
      "\u001b[1;31mFileNotFoundError\u001b[0m: [Errno 2] No such file or directory: 'Hansard1102019.xlsx'"
     ]
    }
   ],
   "source": [
    "df = pd.read_excel(\"Hansard1102019.xlsx\")"
   ]
  },
  {
   "cell_type": "code",
   "execution_count": 4,
   "metadata": {},
   "outputs": [
    {
     "ename": "NameError",
     "evalue": "name 'df' is not defined",
     "output_type": "error",
     "traceback": [
      "\u001b[1;31m---------------------------------------------------------------------------\u001b[0m",
      "\u001b[1;31mNameError\u001b[0m                                 Traceback (most recent call last)",
      "\u001b[1;32m<ipython-input-4-c42a15b2c7cf>\u001b[0m in \u001b[0;36m<module>\u001b[1;34m()\u001b[0m\n\u001b[1;32m----> 1\u001b[1;33m \u001b[0mdf\u001b[0m\u001b[1;33m.\u001b[0m\u001b[0mhead\u001b[0m\u001b[1;33m(\u001b[0m\u001b[1;33m)\u001b[0m\u001b[1;33m\u001b[0m\u001b[0m\n\u001b[0m",
      "\u001b[1;31mNameError\u001b[0m: name 'df' is not defined"
     ]
    }
   ],
   "source": [
    "df.head()"
   ]
  },
  {
   "cell_type": "code",
   "execution_count": 24,
   "metadata": {},
   "outputs": [
    {
     "data": {
      "text/plain": [
       "Index(['TextID', 'TalkerID', 'HansardID', 'Kind', 'Text', 'year'], dtype='object')"
      ]
     },
     "execution_count": 24,
     "metadata": {},
     "output_type": "execute_result"
    }
   ],
   "source": [
    "df.columns"
   ]
  },
  {
   "cell_type": "code",
   "execution_count": 26,
   "metadata": {},
   "outputs": [],
   "source": [
    "# df = df[['TextID', 'TalkerID', 'HansardID', 'Kind', 'Text']]\n",
    "\n"
   ]
  },
  {
   "cell_type": "markdown",
   "metadata": {},
   "source": []
  },
  {
   "cell_type": "code",
   "execution_count": 40,
   "metadata": {},
   "outputs": [
    {
     "data": {
      "text/html": [
       "<div>\n",
       "<style scoped>\n",
       "    .dataframe tbody tr th:only-of-type {\n",
       "        vertical-align: middle;\n",
       "    }\n",
       "\n",
       "    .dataframe tbody tr th {\n",
       "        vertical-align: top;\n",
       "    }\n",
       "\n",
       "    .dataframe thead th {\n",
       "        text-align: right;\n",
       "    }\n",
       "</style>\n",
       "<table border=\"1\" class=\"dataframe\">\n",
       "  <thead>\n",
       "    <tr style=\"text-align: right;\">\n",
       "      <th></th>\n",
       "      <th>TextID</th>\n",
       "      <th>TalkerID</th>\n",
       "      <th>HansardID</th>\n",
       "      <th>Kind</th>\n",
       "      <th>Text</th>\n",
       "    </tr>\n",
       "  </thead>\n",
       "  <tbody>\n",
       "    <tr>\n",
       "      <th>0</th>\n",
       "      <td>201903209d1c421954fd410090000001</td>\n",
       "      <td>NaN</td>\n",
       "      <td>HANSARD-10-26147.xml</td>\n",
       "      <td>proceeding</td>\n",
       "      <td>Climate Change</td>\n",
       "    </tr>\n",
       "    <tr>\n",
       "      <th>1</th>\n",
       "      <td>201903209d1c421954fd410090000002</td>\n",
       "      <td>3130</td>\n",
       "      <td>HANSARD-10-26147.xml</td>\n",
       "      <td>question</td>\n",
       "      <td>The Hon. M.C. PARNELL (14:55):  I seek leave to make a brief explanation before asking the Minister for Health and Wellbeing a question about the public health impacts of climate change.</td>\n",
       "    </tr>\n",
       "    <tr>\n",
       "      <th>2</th>\n",
       "      <td>201903209d1c421954fd410090000003</td>\n",
       "      <td>3130</td>\n",
       "      <td>HANSARD-10-26147.xml</td>\n",
       "      <td>question</td>\n",
       "      <td>Leave granted.</td>\n",
       "    </tr>\n",
       "    <tr>\n",
       "      <th>3</th>\n",
       "      <td>201903209d1c421954fd410090000004</td>\n",
       "      <td>3130</td>\n",
       "      <td>HANSARD-10-26147.xml</td>\n",
       "      <td>question</td>\n",
       "      <td>The Hon. M.C. PARNELL:  Around Australia last week, tens of thousands of students went on strike from school demanding greater action from governments and politicians over climate change. The students' demands included a rapid phase-out of current fossil fuel use and a stop to all new fossil fuel projects, including the Adani coalmine in Queensland and drilling for oil in the Great Australian Bight.</td>\n",
       "    </tr>\n",
       "    <tr>\n",
       "      <th>4</th>\n",
       "      <td>201903209d1c421954fd410090000005</td>\n",
       "      <td>3130</td>\n",
       "      <td>HANSARD-10-26147.xml</td>\n",
       "      <td>question</td>\n",
       "      <td>One of the key messages from the students was that climate change was a very real threat to health, both public and private. In fact, the concerns of the students were backed up by the Health Services Union, which issued a statement in support of the students' strike. National HSU secretary, Lloyd Williams, said:</td>\n",
       "    </tr>\n",
       "  </tbody>\n",
       "</table>\n",
       "</div>"
      ],
      "text/plain": [
       "                             TextID TalkerID             HansardID  \\\n",
       "0  201903209d1c421954fd410090000001      NaN  HANSARD-10-26147.xml   \n",
       "1  201903209d1c421954fd410090000002     3130  HANSARD-10-26147.xml   \n",
       "2  201903209d1c421954fd410090000003     3130  HANSARD-10-26147.xml   \n",
       "3  201903209d1c421954fd410090000004     3130  HANSARD-10-26147.xml   \n",
       "4  201903209d1c421954fd410090000005     3130  HANSARD-10-26147.xml   \n",
       "\n",
       "         Kind  \\\n",
       "0  proceeding   \n",
       "1    question   \n",
       "2    question   \n",
       "3    question   \n",
       "4    question   \n",
       "\n",
       "                                                                                                                                                                                                                                                                                                                                                                                                                 Text  \n",
       "0                                                                                                                                                                                                                                                                                                                                                                                                      Climate Change  \n",
       "1                                                                                                                                                                                                                          The Hon. M.C. PARNELL (14:55):  I seek leave to make a brief explanation before asking the Minister for Health and Wellbeing a question about the public health impacts of climate change.  \n",
       "2                                                                                                                                                                                                                                                                                                                                                                                                      Leave granted.  \n",
       "3  The Hon. M.C. PARNELL:  Around Australia last week, tens of thousands of students went on strike from school demanding greater action from governments and politicians over climate change. The students' demands included a rapid phase-out of current fossil fuel use and a stop to all new fossil fuel projects, including the Adani coalmine in Queensland and drilling for oil in the Great Australian Bight.  \n",
       "4                                                                                          One of the key messages from the students was that climate change was a very real threat to health, both public and private. In fact, the concerns of the students were backed up by the Health Services Union, which issued a statement in support of the students' strike. National HSU secretary, Lloyd Williams, said:  "
      ]
     },
     "execution_count": 40,
     "metadata": {},
     "output_type": "execute_result"
    }
   ],
   "source": [
    "df.head()"
   ]
  },
  {
   "cell_type": "code",
   "execution_count": 167,
   "metadata": {},
   "outputs": [],
   "source": [
    "df['Text'] = df['Text'].astype(str) "
   ]
  },
  {
   "cell_type": "code",
   "execution_count": 171,
   "metadata": {},
   "outputs": [],
   "source": [
    "subdf = df[0:100]"
   ]
  },
  {
   "cell_type": "code",
   "execution_count": 175,
   "metadata": {},
   "outputs": [
    {
     "data": {
      "text/html": [
       "<html>\n",
       "<head>\n",
       "    <script type=\"text/javascript\">\n",
       "    var chart;\n",
       "    var data;\n",
       "    var options = {\n",
       "        wordtree: {\n",
       "            format: 'implicit',\n",
       "            word: '',\n",
       "            type: 'double',\n",
       "        }\n",
       "    };\n",
       "\n",
       "    function initChart() {\n",
       "        data = google.visualization.arrayToDataTable([[[\"phrases\"]], [\"climate change\"], [\"the hon. m.c. parnell (14:55):  i seek leave to make a brief explanation before asking the minister for health and wellbeing a question about the public health impacts of climate change.\"], [\"leave granted.\"], [\"the hon. m.c. parnell:  around australia last week, tens of thousands of students went on strike from school demanding greater action from governments and politicians over climate change. the students' demands included a rapid phase-out of current fossil fuel use and a stop to all new fossil fuel projects, including the adani coalmine in queensland and drilling for oil in the great australian bight.\"], [\"one of the key messages from the students was that climate change was a very real threat to health, both public and private. in fact, the concerns of the students were backed up by the health services union, which issued a statement in support of the students' strike. national hsu secretary, lloyd williams, said:\"], [\"health professionals know that climate change is the greatest threat to health this century. immediate action to reduce the impact of climate change is needed to protect and improve public health.\"], [\"climate change will have serious consequences for our public health system. this includes our ability to respond to increasing frequency of extreme weather events, the threat to the availability and quality of food and water, and the resultant mental health impacts.\"], [\"workers only strike as a last option, to get the attention of their bosses, to get fair pay or a safe workplace. likewise, you the students of australia are taking this action as a rallying cry to politicians to stop, listen, and act on our climate crisis.\"], [\"you are our future, don't stop standing up for what you believe in.\"], [\"my questions to the minister are:\"], [\"1.&#x9;as minister for health and wellbeing, do you agree with the striking students and the hsu that climate change is the greatest threat to health this century?\"], [\"2.&#x9;what actions are you or your department taking to prevent climate change getting worse and further harming the health of south australians?\"], [\"the president:  minister.\"], [\"members interjecting:\"], [\"the hon. s.g. wade (minister for health and wellbeing) (14:57):  sorry, i thought i had the call.\"], [\"members interjecting:\"], [\"the president:  i hope this is all getting into hansard, you two, because the south australian public would like to hear from the minister, as would the president and the person who asked the question, the hon. mr parnell. i wish the minister to be heard in silence. minister, respond.\"], [\"the hon. s.g. wade:  i thank the honourable member for his question. i have no doubt that climate change is affecting health. i have already spoken about that in this house in recent weeks. the extreme heat event earlier this year, in my view, resulted in one of the most severe hospital demand events that we have had. the recent long hot spell again led to a significant increase in presentations.\"], [\"what i am told by clinicians is that it is often the aggravation of underlying complex or chronic conditions, and that is particularly true of elderly people. that is why we have an extreme heat event policy within sa health. i had cause to highlight the labor party's ignorance of its own policy; it introduced the policy in 2016, which clearly says that a response to an extreme heat event includes reducing activity in hospitals so that the hospitals can cope.\"], [\"i think one of the things that sa health will be doing as a result of the two significant heat events we have had this year is to look at, shall we say, the days after the heat event. what we observed, in in my view, was that people were avoiding presenting to the hospital on the day of the heat event\\u2014in other words saying, 'i'll just cope at home because i don't want to go outside in such significant heat,' but in the following days when the heat was less threatening they would go out. so we had increased presentations after the heat event itself.\"], [\"i have no doubt that we need, in our planning, to make sure that our hospitals cope with all of the external factors that impact on them, and that includes extreme heat events that may arise through climate change. there is no doubt that the environment, in its broadest sense, has a very significant impact on the health and wellbeing of all south australians, and we need to account for climate change as part of that process.\"], [\"the president:  supplementary, the hon. mr parnell.\"], [\"ministerial responsibility\"], [\"the hon. k.j. maher (leader of the opposition) (15:16):  supplementary: after the minister signed the briefing, he says there was ongoing discussions about the issues raised. i just want to be very clear about that, that after he signed the briefing, there continued to be ongoing discussions and he knows that from his own knowledge.\"], [\"the hon. s.g. wade (minister for health and wellbeing) (15:16):  it is more actually common sense. the fact of the matter is, the issue of why the privacy screens were being erected was a matter for public debate at the time. the former government, now the opposition, was trying to suggest that it was about hiding ambulance ramping in spite of the fact that anybody who goes to the rah knows full well that that screen does nothing to stop people being able to see it.\"], [\"i presume that the diligent minister the honourable member is referring to, minister malinauskas, would have been briefed in february and march because it was certainly being discussed in government in those months. the fact of the matter is, i have no doubt that an issue of public debate such as that i would have continued to have discussions about with my office, my department and my colleagues elsewhere in government.\"], [\"principal community visitor\"], [\"mr duluk (davenport) (14:36):  supplementary: why has it taken you almost two months to table the report, which was meant to be tabled in the last sitting of parliament?\"], [\"the hon. k.a. hildyard (reynell\\u2014minister for disabilities, minister assisting the minister for recreation and sport) (14:36):  thank you very much to the member for his question. i refer to my previous statement about the receipt of the report in my office and the meeting that i held with the community visitor on 23 october. i have tabled the report today and i have also contacted the principal community visitor. he is aware of this time frame, and i will of course be meeting with him again soon.\"], [\"land services sa\"], [\"ms chapman (bragg\\u2014deputy leader of the opposition) (15:04):  supplementary: just to be absolutely clear, treasurer, what documents have been made public in respect of the features of this contract other than your statements in this parliament and material that your department has published, authored by them, that is not parts of the contract? on my assessment, there is not one single clause of this contract that is available publicly.\"], [\"the speaker:  of course, that question is expressed in an entirely out of order way, but we will let it go.\"], [\"the hon. a. koutsantonis (west torrens\\u2014treasurer, minister for finance, minister for state development, minister for mineral resources and energy) (15:04):  yes, sir, i have just been accused of misleading the parliament.\"], [\"ms chapman:  no, i'm asking a simple question: what are the documents?\"], [\"the hon. a. koutsantonis:  you are asking a question with a veiled accusation in the middle of it, saying how can we possibly trust what we said. the truth is that the department of treasury and finance, the attorney-general's department and dpti, which oversee the lands titles office, are public servants of the highest integrity, and the idea that somehow we are releasing false information to the public about the interaction with the lands titles office commercialisation and them is just false. the deputy leader of the opposition has offered no evidence at all. she is just throwing out accusations under privilege hoping to land a mark. i have to say that that sort of conspiracy theory has no place in this parliament.\"], [\"ms chapman:  show us the document.\"], [\"the hon. a. koutsantonis:  there we are\\u2014again, you are guilty until proven innocent. well, if that's the standard that the deputy leader wants, apply it to the member for mount gambier.\"], [\"members interjecting:\"], [\"mr gardner:  point of order, sir.\"], [\"the speaker:  point of order. the week started so well with the live television coverage and now we are back to where we were.\"], [\"mr gardner:  the treasurer is in breach of standing order 98.\"], [\"the speaker:  he is.\"], [\"the hon. a. koutsantonis:  every aspect of the contract that impacts south australians has been made public. i know that the speaker doesn't want me to respond to interjections, but\\u2014\"], [\"the speaker:  the standing orders don't want you to respond to interjections.\"], [\"the hon. a. koutsantonis:  i won't be, sir, but thank you very much for the impartial advice you are offering me. again, every aspect of the commercialisation that we have come to an agreement on with the consortium that impacts south australians has been made public, but there are some aspects of it that remain confidential as they should. for example, many aspects of the privatisation of etsa still remain confidential to this very day and they remain confidential because members opposite, when they privatised these assets for 200 years, decided to give the proponents who bought these assets a level of confidentiality that lasts the length of the contract.\"], [\"mr van holst pellekaan interjecting:\"], [\"the hon. a. koutsantonis:  the shadow treasurer. the member opposite asks, 'which members of the opposition?' the shadow treasurer, the man that the opposition proposed to make treasurer of south australia, that man.\"], [\"mr gardner:  we have strayed again from the matter at hand: 98.\"], [\"the speaker:  i uphold the point of order.\"], [\"mr van holst pellekaan interjecting:\"], [\"the speaker:  that's quite okay.\"], [\"health and community services complaints (miscellaneous) amendment bill\"], [\"introduction and first reading\"], [\"received from the legislative council and read a first time.\"], [\"police station opening hours\"], [\"mr malinauskas (croydon\\u2014leader of the opposition) (15:07):  my question is to the minister for police. will the minister reaffirm his commitment to extended police station hours staffed by active sworn sapol officers?\"], [\"the hon. c.l. wingard (gibson\\u2014minister for police, emergency services and correctional services, minister for recreation, sport and racing) (15:07):  i thank the inquisitive member for his question yet again. he is very inquisitive. he keeps going with the same question, and i will keep giving him the same answer. we made a commitment at the election. the communities around henley beach, glenelg and norwood were very grateful for that commitment, and we look forward to delivering on that commitment.\"], [\"as we know, today the district police model rolls out. it's a model that sapol have put in place to improve safety in the community, and we will make sure that is the outcome the community receives. i know the program was put in place whilst those opposite were in government. i know that, like us, they want to see a safe community. in fact, i get the essence that we want to see it a little bit more than them when i look at the policies we have rolled out.\"], [\"as i have said to this house a hundred times over\\u2014and the inquisitive member on the other side asks about it again\\u2014we will be extending the police opening hours at the henley beach police station, the norwood police station and also the glenelg police station. what we understand in this day and age, and again with the district policing model\\u2014\"], [\"members interjecting:\"], [\"the speaker:  order!\"], [\"the hon. c.l. wingard:  \\u2014that is moving in a more technologically advanced manner\\u2014\"], [\"mr brown interjecting:\"], [\"the speaker:  the member for playford is warned.\"], [\"mr duluk interjecting:\"], [\"the speaker:  the member for waite is on two warnings.\"], [\"the hon. c.l. wingard:  society as a whole is moving in a more technologically advanced manner. i look at my family. my kids in their late teens and early 20s are far more tech-savvy, perhaps, than i am, but i am probably a few steps ahead of my mum. on this side of the house, we know we need to take the whole of society with us. we are not just going to shut down a group of people and say, 'no, we're not giving you services.' we're about better services here.\"], [\"members interjecting:\"], [\"the hon. c.l. wingard:  i'm getting direction and advice from the leader of the opposition.\"], [\"the speaker:  order, members on my left!\"], [\"the hon. c.l. wingard:  i want to clarify that i won't be taking advice, as i said before, from a union hack.\"], [\"mr brown interjecting:\"], [\"the speaker:  the member for playford is on two warnings.\"], [\"the hon. c.l. wingard:  we can go back over the history of what those on that side of the house delivered for south australia. we can talk about their transforming health policy. we can talk about their horrendous record in child protection. in 16 years, they spent millions\\u2014\"], [\"members interjecting:\"], [\"the hon. c.l. wingard:  i hear the member for lee chipping away over there, and i think back to his role in the job\\u2014spent millions of dollars and couldn't get a tram to turn right. that's his contribution to this place. not to mention the highest youth unemployment\\u2014\"], [\"members interjecting:\"], [\"the speaker:  order!\"], [\"the hon. c.l. wingard:  \\u2014in the nation. as we look back at what those on that side of the house delivered for this state, we can't forget oakden. we can't forget oakden. that's what they delivered, but they have the hide to\\u2014\"], [\"members interjecting:\"], [\"mr malinauskas:  point of order, mr speaker: debate.\"], [\"the speaker:  point of order: 98.\"], [\"members interjecting:\"], [\"mr malinauskas:  point of order: relevance, mr speaker.\"], [\"members interjecting:\"], [\"the speaker:  the member for waite can depart for half an hour under 137a.\"], [\"the honourable member for waite having withdrawn from the chamber:\"], [\"the speaker:  is the minister for police\\u2014\"], [\"members interjecting:\"], [\"the speaker:  the member for reynell is called to order. minister for police, i ask that you please keep to the substance of the question.\"], [\"members interjecting:\"], [\"the speaker:  order! thank you, minister for police. please complete your answer.\"], [\"the hon. c.l. wingard:  thank you, mr speaker, i do appreciate that. i was talking about\\u2014\"], [\"members interjecting:\"], [\"the speaker:  the member for light is called to order.\"], [\"the hon. c.l. wingard:  \\u2014our policies in contrast to policies that they've delivered.\"], [\"the hon. a. piccolo interjecting:\"], [\"the speaker:  the member for light, please do not interject, sir.\"], [\"the hon. c.l. wingard:  what we do know is that those opposite did exactly as the minister for education said: they closed police stations. they closed police stations and we want to keep them open so that people\\u2014\"], [\"members interjecting:\"]]);\n",
       "        chart = new google.visualization.WordTree(document.getElementById('wordtree_basic'));\n",
       "    }\n",
       "\n",
       "    function drawChart() {\n",
       "        chart.draw(data, options);\n",
       "    }\n",
       "\n",
       "    function setRootWordFromForm() {\n",
       "        options.wordtree.word = document.getElementById('root_word').value;\n",
       "        drawChart();\n",
       "    }\n",
       "\n",
       "    // Is it the first time we're being loaded?  We have to check as IPython seems to do\n",
       "    // some tricky things where it holds around loaded JS which causes an error if we\n",
       "    // attempt to load Google's libraries twice.\n",
       "    if (typeof(google) == 'undefined') {\n",
       "        var script = document.createElement('script');\n",
       "        script.src = 'https://www.gstatic.com/charts/loader.js';\n",
       "        var head = document.getElementsByTagName('head')[0];\n",
       "        script.onload = function() {\n",
       "            google.charts.load('current', {\n",
       "                packages: ['wordtree']\n",
       "            });\n",
       "            google.charts.setOnLoadCallback(function() {\n",
       "                initChart();\n",
       "                drawChart();\n",
       "            });\n",
       "            head.removeChild(script);\n",
       "        };\n",
       "        head.appendChild(script);\n",
       "    } else {\n",
       "        initChart();\n",
       "        drawChart();\n",
       "    }\n",
       "    </script>\n",
       "</head>\n",
       "<body>\n",
       "    Root Word:\n",
       "    <input type=\"text\" id=\"root_word\" value=\"\">\n",
       "    <button type=\"button\" onclick=\"setRootWordFromForm()\">Update Tree</button>\n",
       "    <br>\n",
       "    <div id=\"wordtree_basic\" style=\"width: 900px; height: 600px;\"></div>\n",
       "</body>\n",
       "</html>\n"
      ],
      "text/plain": [
       "<IPython.core.display.HTML object>"
      ]
     },
     "execution_count": 175,
     "metadata": {},
     "output_type": "execute_result"
    }
   ],
   "source": [
    "# Note this requires an internet connection to load Google's JS library.\n",
    "def get_json_for_word_tree(contact):\n",
    "#     df = fully_merged_messages_df[(fully_merged_messages_df.full_name == contact)]\n",
    "#     print('Exchanged {0:,} texts with {1}'.format(df.shape[0], contact))\n",
    "    \n",
    "    array_for_json = [[text[1]] for text in subdf.Text.iteritems()]\n",
    "    array_for_json.insert(0, [['Phrases']])\n",
    "    return json.dumps(array_for_json)\n",
    "    \n",
    "CONTACT_NAME = ''\n",
    "ROOT_WORD = ''\n",
    "HTML(wordtree.get_word_tree_html(get_json_for_word_tree(''),\n",
    "                                 ROOT_WORD.lower(),\n",
    "                                 lowercase=True,\n",
    "                                 tree_type='double'))"
   ]
  },
  {
   "cell_type": "markdown",
   "metadata": {},
   "source": [
    "### Create TFIDF matrix for all contacts\n",
    "\n",
    "Note the methods below focus on texts received from these contacts, not texts you've sent to them."
   ]
  },
  {
   "cell_type": "code",
   "execution_count": 187,
   "metadata": {
    "scrolled": false
   },
   "outputs": [
    {
     "ename": "TypeError",
     "evalue": "'numpy.ndarray' object is not callable",
     "output_type": "error",
     "traceback": [
      "\u001b[1;31m---------------------------------------------------------------------------\u001b[0m",
      "\u001b[1;31mTypeError\u001b[0m                                 Traceback (most recent call last)",
      "\u001b[1;32m<ipython-input-187-56da82c94a24>\u001b[0m in \u001b[0;36m<module>\u001b[1;34m()\u001b[0m\n\u001b[0;32m      7\u001b[0m \u001b[1;31m#                              stop_words=processed_stopwords,\u001b[0m\u001b[1;33m\u001b[0m\u001b[1;33m\u001b[0m\u001b[0m\n\u001b[0;32m      8\u001b[0m                              ngram_range=(1, 2), max_df=.9, max_features=50000)\n\u001b[1;32m----> 9\u001b[1;33m \u001b[0mtfidf_transformed_dataset\u001b[0m \u001b[1;33m=\u001b[0m \u001b[0mvectorizer\u001b[0m\u001b[1;33m.\u001b[0m\u001b[0mfit_transform\u001b[0m\u001b[1;33m(\u001b[0m\u001b[0mdf\u001b[0m\u001b[1;33m.\u001b[0m\u001b[0mText\u001b[0m\u001b[1;33m.\u001b[0m\u001b[0mvalues\u001b[0m\u001b[1;33m)\u001b[0m\u001b[1;33m\u001b[0m\u001b[0m\n\u001b[0m\u001b[0;32m     10\u001b[0m \u001b[0mword_list\u001b[0m \u001b[1;33m=\u001b[0m \u001b[0mpd\u001b[0m\u001b[1;33m.\u001b[0m\u001b[0mSeries\u001b[0m\u001b[1;33m(\u001b[0m\u001b[0mvectorizer\u001b[0m\u001b[1;33m.\u001b[0m\u001b[0mget_feature_names\u001b[0m\u001b[1;33m(\u001b[0m\u001b[1;33m)\u001b[0m\u001b[1;33m)\u001b[0m\u001b[1;33m\u001b[0m\u001b[0m\n\u001b[0;32m     11\u001b[0m \u001b[1;33m\u001b[0m\u001b[0m\n",
      "\u001b[1;32mc:\\users\\xcelsior\\appdata\\local\\programs\\python\\python36\\lib\\site-packages\\sklearn\\feature_extraction\\text.py\u001b[0m in \u001b[0;36mfit_transform\u001b[1;34m(self, raw_documents, y)\u001b[0m\n\u001b[0;32m   1379\u001b[0m             \u001b[0mTf\u001b[0m\u001b[1;33m-\u001b[0m\u001b[0midf\u001b[0m\u001b[1;33m-\u001b[0m\u001b[0mweighted\u001b[0m \u001b[0mdocument\u001b[0m\u001b[1;33m-\u001b[0m\u001b[0mterm\u001b[0m \u001b[0mmatrix\u001b[0m\u001b[1;33m.\u001b[0m\u001b[1;33m\u001b[0m\u001b[0m\n\u001b[0;32m   1380\u001b[0m         \"\"\"\n\u001b[1;32m-> 1381\u001b[1;33m         \u001b[0mX\u001b[0m \u001b[1;33m=\u001b[0m \u001b[0msuper\u001b[0m\u001b[1;33m(\u001b[0m\u001b[0mTfidfVectorizer\u001b[0m\u001b[1;33m,\u001b[0m \u001b[0mself\u001b[0m\u001b[1;33m)\u001b[0m\u001b[1;33m.\u001b[0m\u001b[0mfit_transform\u001b[0m\u001b[1;33m(\u001b[0m\u001b[0mraw_documents\u001b[0m\u001b[1;33m)\u001b[0m\u001b[1;33m\u001b[0m\u001b[0m\n\u001b[0m\u001b[0;32m   1382\u001b[0m         \u001b[0mself\u001b[0m\u001b[1;33m.\u001b[0m\u001b[0m_tfidf\u001b[0m\u001b[1;33m.\u001b[0m\u001b[0mfit\u001b[0m\u001b[1;33m(\u001b[0m\u001b[0mX\u001b[0m\u001b[1;33m)\u001b[0m\u001b[1;33m\u001b[0m\u001b[0m\n\u001b[0;32m   1383\u001b[0m         \u001b[1;31m# X is already a transformed view of raw_documents so\u001b[0m\u001b[1;33m\u001b[0m\u001b[1;33m\u001b[0m\u001b[0m\n",
      "\u001b[1;32mc:\\users\\xcelsior\\appdata\\local\\programs\\python\\python36\\lib\\site-packages\\sklearn\\feature_extraction\\text.py\u001b[0m in \u001b[0;36mfit_transform\u001b[1;34m(self, raw_documents, y)\u001b[0m\n\u001b[0;32m    867\u001b[0m \u001b[1;33m\u001b[0m\u001b[0m\n\u001b[0;32m    868\u001b[0m         vocabulary, X = self._count_vocab(raw_documents,\n\u001b[1;32m--> 869\u001b[1;33m                                           self.fixed_vocabulary_)\n\u001b[0m\u001b[0;32m    870\u001b[0m \u001b[1;33m\u001b[0m\u001b[0m\n\u001b[0;32m    871\u001b[0m         \u001b[1;32mif\u001b[0m \u001b[0mself\u001b[0m\u001b[1;33m.\u001b[0m\u001b[0mbinary\u001b[0m\u001b[1;33m:\u001b[0m\u001b[1;33m\u001b[0m\u001b[0m\n",
      "\u001b[1;32mc:\\users\\xcelsior\\appdata\\local\\programs\\python\\python36\\lib\\site-packages\\sklearn\\feature_extraction\\text.py\u001b[0m in \u001b[0;36m_count_vocab\u001b[1;34m(self, raw_documents, fixed_vocab)\u001b[0m\n\u001b[0;32m    790\u001b[0m         \u001b[1;32mfor\u001b[0m \u001b[0mdoc\u001b[0m \u001b[1;32min\u001b[0m \u001b[0mraw_documents\u001b[0m\u001b[1;33m:\u001b[0m\u001b[1;33m\u001b[0m\u001b[0m\n\u001b[0;32m    791\u001b[0m             \u001b[0mfeature_counter\u001b[0m \u001b[1;33m=\u001b[0m \u001b[1;33m{\u001b[0m\u001b[1;33m}\u001b[0m\u001b[1;33m\u001b[0m\u001b[0m\n\u001b[1;32m--> 792\u001b[1;33m             \u001b[1;32mfor\u001b[0m \u001b[0mfeature\u001b[0m \u001b[1;32min\u001b[0m \u001b[0manalyze\u001b[0m\u001b[1;33m(\u001b[0m\u001b[0mdoc\u001b[0m\u001b[1;33m)\u001b[0m\u001b[1;33m:\u001b[0m\u001b[1;33m\u001b[0m\u001b[0m\n\u001b[0m\u001b[0;32m    793\u001b[0m                 \u001b[1;32mtry\u001b[0m\u001b[1;33m:\u001b[0m\u001b[1;33m\u001b[0m\u001b[0m\n\u001b[0;32m    794\u001b[0m                     \u001b[0mfeature_idx\u001b[0m \u001b[1;33m=\u001b[0m \u001b[0mvocabulary\u001b[0m\u001b[1;33m[\u001b[0m\u001b[0mfeature\u001b[0m\u001b[1;33m]\u001b[0m\u001b[1;33m\u001b[0m\u001b[0m\n",
      "\u001b[1;32mc:\\users\\xcelsior\\appdata\\local\\programs\\python\\python36\\lib\\site-packages\\sklearn\\feature_extraction\\text.py\u001b[0m in \u001b[0;36m<lambda>\u001b[1;34m(doc)\u001b[0m\n\u001b[0;32m    264\u001b[0m \u001b[1;33m\u001b[0m\u001b[0m\n\u001b[0;32m    265\u001b[0m             return lambda doc: self._word_ngrams(\n\u001b[1;32m--> 266\u001b[1;33m                 tokenize(preprocess(self.decode(doc))), stop_words)\n\u001b[0m\u001b[0;32m    267\u001b[0m \u001b[1;33m\u001b[0m\u001b[0m\n\u001b[0;32m    268\u001b[0m         \u001b[1;32melse\u001b[0m\u001b[1;33m:\u001b[0m\u001b[1;33m\u001b[0m\u001b[0m\n",
      "\u001b[1;31mTypeError\u001b[0m: 'numpy.ndarray' object is not callable"
     ]
    }
   ],
   "source": [
    "from sklearn.feature_extraction.text import TfidfVectorizer\n",
    "from nltk import tokenize\n",
    "import numpy as np\n",
    "\n",
    "vectorizer = TfidfVectorizer(preprocessor=df.Text.values,\n",
    "                             tokenizer=tokenize.WordPunctTokenizer().tokenize,\n",
    "#                              stop_words=processed_stopwords,\n",
    "                             ngram_range=(1, 2), max_df=.9, max_features=50000)\n",
    "tfidf_transformed_dataset = vectorizer.fit_transform(df.Text.values)\n",
    "word_list = pd.Series(vectorizer.get_feature_names())\n",
    "\n",
    "print('TFIDF sparse matrix is {0}MB'.format(tfidf_transformed_dataset.data.nbytes / 1024 / 1024))\n",
    "print('TFIDF matrix has shape: {0}'.format(tfidf_transformed_dataset.shape))"
   ]
  },
  {
   "cell_type": "markdown",
   "metadata": {},
   "source": [
    "### Helper methods to leverage the TFIDF matrix"
   ]
  },
  {
   "cell_type": "code",
   "execution_count": null,
   "metadata": {
    "scrolled": true
   },
   "outputs": [],
   "source": [
    "def get_word_summary_for_word(word, top_n=25):\n",
    "    word = convert_unicode_to_str_if_needed(word)\n",
    "    tfidf_record = _get_tfidf_record_for_word(word)\n",
    "    if tfidf_record is None:\n",
    "        print('\"{0}\" was not found.'.format(word))\n",
    "        return\n",
    "    sorted_indices = tfidf_record.argsort()[::-1]\n",
    "    return pd.DataFrame({'Word': word_list.iloc[sorted_indices[:top_n]]}).reset_index(drop=True)\n",
    "\n",
    "def get_word_summary_for_diffs(word, other_word, top_n=25):\n",
    "    word = convert_unicode_to_str_if_needed(word)\n",
    "    other_word = convert_unicode_to_str_if_needed(other_word)\n",
    "    \n",
    "    tfidf_record_word = _get_tfidf_record_for_word(word)\n",
    "    tfidf_record_other_word = _get_tfidf_record_for_word(other_word)\n",
    "    \n",
    "    if tfidf_record_word is None or tfidf_record_other_word is None:\n",
    "        # Print out the first word not found.\n",
    "        word_not_found = word if tfidf_record_word is None else other_word\n",
    "        print('\"{0}\" was not found.'.format(word_not_found))\n",
    "        return\n",
    "    sorted_indices = (tfidf_record_word - tfidf_record_other_word).argsort()[::-1]\n",
    "    return pd.DataFrame({'Word': word_list.iloc[sorted_indices[:top_n]]}).reset_index(drop=True)\n",
    "\n",
    "# Returns the row in the TFIDF matrix for a given word by name.\n",
    "def _get_tfidf_record_for_word(word):\n",
    "    if word not in grouped_by_name.index:\n",
    "        return None\n",
    "    row = np.argmax(grouped_by_name.index == word)\n",
    "    return tfidf_transformed_dataset.getrow(row).toarray().squeeze()"
   ]
  },
  {
   "cell_type": "code",
   "execution_count": null,
   "metadata": {},
   "outputs": [],
   "source": []
  },
  {
   "cell_type": "code",
   "execution_count": null,
   "metadata": {},
   "outputs": [],
   "source": []
  },
  {
   "cell_type": "code",
   "execution_count": null,
   "metadata": {},
   "outputs": [],
   "source": []
  },
  {
   "cell_type": "code",
   "execution_count": null,
   "metadata": {
    "scrolled": false
   },
   "outputs": [],
   "source": []
  }
 ],
 "metadata": {
  "kernelspec": {
   "display_name": "Python 3",
   "language": "python",
   "name": "python3"
  },
  "language_info": {
   "codemirror_mode": {
    "name": "ipython",
    "version": 3
   },
   "file_extension": ".py",
   "mimetype": "text/x-python",
   "name": "python",
   "nbconvert_exporter": "python",
   "pygments_lexer": "ipython3",
   "version": "3.6.0"
  }
 },
 "nbformat": 4,
 "nbformat_minor": 1
}
